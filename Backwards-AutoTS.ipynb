{
 "cells": [
  {
   "cell_type": "code",
   "execution_count": 1,
   "metadata": {},
   "outputs": [],
   "source": [
    "from autots import AutoTS\n",
    "import pandas as pd\n",
    "import numpy as np"
   ]
  },
  {
   "cell_type": "code",
   "execution_count": 2,
   "metadata": {},
   "outputs": [],
   "source": [
    "dt = pd.to_datetime('2023-05-19')\n",
    "\n",
    "long = True\n",
    "\n",
    "# Read data from Excel file\n",
    "df_all = pd.read_excel(r\"C:\\User\\path to temp_data.xlsx\")\n",
    "\n",
    "df_all['Date'] = pd.to_datetime(df_all['Date'], format=\"%d-%m-%Y\")\n",
    "\n",
    "# add last 15 days of data as original values\n",
    "df_all['Original_Value'] = df_all.apply(lambda x: x['Value'] if x['Date'] >= dt else None, axis=1)"
   ]
  },
  {
   "cell_type": "code",
   "execution_count": 3,
   "metadata": {},
   "outputs": [],
   "source": [
    "model = AutoTS(\n",
    "    forecast_length=15,\n",
    "    frequency='infer',\n",
    "    prediction_interval=0.9,\n",
    "    ensemble='auto',\n",
    "    model_list=\"fast_parallel\",  \n",
    "    transformer_list=\"fast\",\n",
    "    drop_most_recent=1,\n",
    "    max_generations=5,\n",
    "    num_validations=4,\n",
    "    validation_method=\"backwards\"\n",
    ")"
   ]
  },
  {
   "cell_type": "code",
   "execution_count": 4,
   "metadata": {},
   "outputs": [
    {
     "name": "stdout",
     "output_type": "stream",
     "text": [
      "Data frequency is: W-FRI, used frequency is: W-FRI\n",
      "Model Number: 1 with model ARIMA in generation 0 of 5\n",
      "Model Number: 2 with model AverageValueNaive in generation 0 of 5\n",
      "Model Number: 3 with model AverageValueNaive in generation 0 of 5\n",
      "Model Number: 4 with model AverageValueNaive in generation 0 of 5\n",
      "Model Number: 5 with model DatepartRegression in generation 0 of 5\n",
      "Model Number: 6 with model DatepartRegression in generation 0 of 5\n",
      "Model Number: 7 with model DatepartRegression in generation 0 of 5\n",
      "Model Number: 8 with model DatepartRegression in generation 0 of 5\n",
      "Template Eval Error: ImportError('Tensorflow not available, install with pip install tensorflow.') in model 8 in generation 0: DatepartRegression\n",
      "Model Number: 9 with model ETS in generation 0 of 5\n"
     ]
    },
    {
     "name": "stderr",
     "output_type": "stream",
     "text": [
      "C:\\Users\\ekaushik\\AppData\\Local\\Packages\\PythonSoftwareFoundation.Python.3.8_qbz5n2kfra8p0\\LocalCache\\local-packages\\Python38\\site-packages\\sklearn\\neural_network\\_multilayer_perceptron.py:546: ConvergenceWarning: lbfgs failed to converge (status=1):\n",
      "STOP: TOTAL NO. of ITERATIONS REACHED LIMIT.\n",
      "\n",
      "Increase the number of iterations (max_iter) or scale the data as shown in:\n",
      "    https://scikit-learn.org/stable/modules/preprocessing.html\n",
      "  self.n_iter_ = _check_optimize_result(\"lbfgs\", opt_res, self.max_iter)\n"
     ]
    },
    {
     "name": "stdout",
     "output_type": "stream",
     "text": [
      "Model Number: 10 with model ETS in generation 0 of 5\n",
      "Model Number: 11 with model GLM in generation 0 of 5\n",
      "Model Number: 12 with model GLM in generation 0 of 5\n",
      "Model Number: 13 with model GLS in generation 0 of 5\n",
      "Model Number: 14 with model GLS in generation 0 of 5\n",
      "Model Number: 15 with model LastValueNaive in generation 0 of 5\n",
      "Model Number: 16 with model LastValueNaive in generation 0 of 5\n",
      "Model Number: 17 with model LastValueNaive in generation 0 of 5\n",
      "Model Number: 18 with model LastValueNaive in generation 0 of 5\n",
      "Model Number: 19 with model SeasonalNaive in generation 0 of 5\n",
      "Model Number: 20 with model SeasonalNaive in generation 0 of 5\n",
      "Model Number: 21 with model SeasonalNaive in generation 0 of 5\n",
      "Model Number: 22 with model UnobservedComponents in generation 0 of 5\n",
      "Model Number: 23 with model UnobservedComponents in generation 0 of 5\n",
      "Model Number: 24 with model UnobservedComponents in generation 0 of 5\n",
      "Model Number: 25 with model VAR in generation 0 of 5\n",
      "Model Number: 26 with model VAR in generation 0 of 5\n",
      "Model Number: 27 with model VECM in generation 0 of 5\n",
      "Model Number: 28 with model VECM in generation 0 of 5\n",
      "Model Number: 29 with model WindowRegression in generation 0 of 5\n",
      "Model Number: 30 with model ConstantNaive in generation 0 of 5\n"
     ]
    },
    {
     "name": "stderr",
     "output_type": "stream",
     "text": [
      "C:\\Users\\ekaushik\\AppData\\Local\\Packages\\PythonSoftwareFoundation.Python.3.8_qbz5n2kfra8p0\\LocalCache\\local-packages\\Python38\\site-packages\\sklearn\\neural_network\\_multilayer_perceptron.py:546: ConvergenceWarning: lbfgs failed to converge (status=1):\n",
      "STOP: TOTAL NO. of ITERATIONS REACHED LIMIT.\n",
      "\n",
      "Increase the number of iterations (max_iter) or scale the data as shown in:\n",
      "    https://scikit-learn.org/stable/modules/preprocessing.html\n",
      "  self.n_iter_ = _check_optimize_result(\"lbfgs\", opt_res, self.max_iter)\n"
     ]
    },
    {
     "name": "stdout",
     "output_type": "stream",
     "text": [
      "Model Number: 31 with model FBProphet in generation 0 of 5\n",
      "Model Number: 32 with model DatepartRegression in generation 0 of 5\n",
      "Template Eval Error: ValueError(\"regression_type='User' but no future_regressor passed\") in model 32 in generation 0: DatepartRegression\n",
      "Model Number: 33 with model SeasonalNaive in generation 0 of 5\n",
      "Model Number: 34 with model DatepartRegression in generation 0 of 5\n",
      "Model Number: 35 with model UnobservedComponents in generation 0 of 5\n",
      "Model Number: 36 with model UnobservedComponents in generation 0 of 5\n",
      "Model Number: 37 with model ETS in generation 0 of 5\n",
      "Model Number: 38 with model VECM in generation 0 of 5\n",
      "Model Number: 39 with model ARDL in generation 0 of 5\n",
      "Model Number: 40 with model MultivariateMotif in generation 0 of 5\n",
      "Model Number: 41 with model MultivariateMotif in generation 0 of 5\n",
      "Model Number: 42 with model UnivariateMotif in generation 0 of 5\n",
      "Model Number: 43 with model UnivariateMotif in generation 0 of 5\n",
      "Model Number: 44 with model SectionalMotif in generation 0 of 5\n",
      "Model Number: 45 with model SectionalMotif in generation 0 of 5\n",
      "Model Number: 46 with model FBProphet in generation 0 of 5\n",
      "Model Number: 47 with model SeasonalNaive in generation 0 of 5\n",
      "Model Number: 48 with model DatepartRegression in generation 0 of 5\n",
      "Model Number: 49 with model NVAR in generation 0 of 5\n",
      "Model Number: 50 with model Theta in generation 0 of 5\n",
      "Model Number: 51 with model ARCH in generation 0 of 5\n",
      "Model Number: 52 with model Cassandra in generation 0 of 5\n",
      "Model Number: 53 with model SeasonalityMotif in generation 0 of 5\n",
      "Model Number: 54 with model ETS in generation 0 of 5\n"
     ]
    },
    {
     "name": "stderr",
     "output_type": "stream",
     "text": [
      "C:\\Users\\ekaushik\\AppData\\Local\\Packages\\PythonSoftwareFoundation.Python.3.8_qbz5n2kfra8p0\\LocalCache\\local-packages\\Python38\\site-packages\\numpy\\lib\\function_base.py:2853: RuntimeWarning: invalid value encountered in divide\n",
      "  c /= stddev[:, None]\n",
      "C:\\Users\\ekaushik\\AppData\\Local\\Packages\\PythonSoftwareFoundation.Python.3.8_qbz5n2kfra8p0\\LocalCache\\local-packages\\Python38\\site-packages\\numpy\\lib\\function_base.py:2854: RuntimeWarning: invalid value encountered in divide\n",
      "  c /= stddev[None, :]\n"
     ]
    },
    {
     "name": "stdout",
     "output_type": "stream",
     "text": [
      "Model Number: 55 with model FBProphet in generation 0 of 5\n",
      "Model Number: 56 with model ARIMA in generation 0 of 5\n",
      "Model Number: 57 with model GLM in generation 0 of 5\n",
      "Model Number: 58 with model UnobservedComponents in generation 0 of 5\n",
      "Template Eval Error: ValueError('Model UnobservedComponents returned NaN for one or more series. fail_on_forecast_nan=True') in model 58 in generation 0: UnobservedComponents\n",
      "Model Number: 59 with model UnivariateMotif in generation 0 of 5\n",
      "Model Number: 60 with model MultivariateMotif in generation 0 of 5\n",
      "Model Number: 61 with model Theta in generation 0 of 5\n",
      "Model Number: 62 with model ARDL in generation 0 of 5\n",
      "Model Number: 63 with model ARCH in generation 0 of 5\n",
      "Model Number: 64 with model ConstantNaive in generation 0 of 5\n",
      "Model Number: 65 with model LastValueNaive in generation 0 of 5\n",
      "Model Number: 66 with model AverageValueNaive in generation 0 of 5\n",
      "Model Number: 67 with model GLS in generation 0 of 5\n",
      "Model Number: 68 with model SeasonalNaive in generation 0 of 5\n",
      "Model Number: 69 with model VAR in generation 0 of 5\n",
      "Model Number: 70 with model VECM in generation 0 of 5\n",
      "Template Eval Error: ValueError(\"regression_type='User' but no future_regressor supplied\") in model 70 in generation 0: VECM\n",
      "Model Number: 71 with model WindowRegression in generation 0 of 5\n",
      "Template Eval Error: Exception('Transformer AnomalyRemoval failed on fit') in model 71 in generation 0: WindowRegression\n",
      "Model Number: 72 with model DatepartRegression in generation 0 of 5\n",
      "Template Eval Error: ValueError(\"regression_type='User' but no future_regressor passed\") in model 72 in generation 0: DatepartRegression\n",
      "Model Number: 73 with model SectionalMotif in generation 0 of 5\n",
      "Model Number: 74 with model NVAR in generation 0 of 5\n",
      "Model Number: 75 with model MAR in generation 0 of 5\n",
      "Model Number: 76 with model RRVAR in generation 0 of 5\n",
      "Template Eval Error: Exception('Transformer KalmanSmoothing failed on fit') in model 76 in generation 0: RRVAR\n",
      "Model Number: 77 with model KalmanStateSpace in generation 0 of 5\n",
      "Model Number: 78 with model MetricMotif in generation 0 of 5\n",
      "Model Number: 79 with model Cassandra in generation 0 of 5\n",
      "Template Eval Error: Exception('Transformer KalmanSmoothing failed on fit') in model 79 in generation 0: Cassandra\n",
      "Model Number: 80 with model SeasonalityMotif in generation 0 of 5\n",
      "Model Number: 81 with model FFT in generation 0 of 5\n",
      "Model Number: 82 with model BallTreeMultivariateMotif in generation 0 of 5\n",
      "Template Eval Error: TypeError('1D weights expected when shapes of a and weights differ.') in model 82 in generation 0: BallTreeMultivariateMotif\n",
      "Model Number: 83 with model ConstantNaive in generation 0 of 5\n",
      "Model Number: 84 with model MetricMotif in generation 0 of 5\n",
      "Model Number: 85 with model FFT in generation 0 of 5\n"
     ]
    },
    {
     "name": "stderr",
     "output_type": "stream",
     "text": [
      "C:\\Users\\ekaushik\\AppData\\Local\\Packages\\PythonSoftwareFoundation.Python.3.8_qbz5n2kfra8p0\\LocalCache\\local-packages\\Python38\\site-packages\\sklearn\\linear_model\\_coordinate_descent.py:2412: ConvergenceWarning: Objective did not converge. You might want to increase the number of iterations. Duality gap: 270030507.1339956, tolerance: 104644.38651695284\n",
      "  ) = cd_fast.enet_coordinate_descent_multi_task(\n"
     ]
    },
    {
     "name": "stdout",
     "output_type": "stream",
     "text": [
      "Model Number: 86 with model RRVAR in generation 0 of 5\n",
      "Model Number: 87 with model FFT in generation 0 of 5\n",
      "Model Number: 88 with model MAR in generation 0 of 5\n",
      "Model Number: 89 with model SeasonalNaive in generation 0 of 5\n",
      "Model Number: 90 with model SectionalMotif in generation 0 of 5\n",
      "Model Number: 91 with model UnobservedComponents in generation 0 of 5\n",
      "Model Number: 92 with model Theta in generation 0 of 5\n",
      "Model Number: 93 with model SeasonalNaive in generation 0 of 5\n",
      "Model Number: 94 with model GLS in generation 0 of 5\n",
      "Model Number: 95 with model GLM in generation 0 of 5\n",
      "Template Eval Error: Exception('Transformer StandardScaler failed on fit') in model 95 in generation 0: GLM\n",
      "Model Number: 96 with model FBProphet in generation 0 of 5\n",
      "Template Eval Error: ValueError(\"regression_type='User' but no future_regressor passed\") in model 96 in generation 0: FBProphet\n",
      "Model Number: 97 with model GLS in generation 0 of 5\n",
      "Model Number: 98 with model LastValueNaive in generation 0 of 5\n",
      "Model Number: 99 with model FBProphet in generation 0 of 5\n",
      "Template Eval Error: Exception('Transformer KalmanSmoothing failed on fit') in model 99 in generation 0: FBProphet\n",
      "Model Number: 100 with model UnobservedComponents in generation 0 of 5\n"
     ]
    },
    {
     "name": "stderr",
     "output_type": "stream",
     "text": [
      "C:\\Users\\ekaushik\\AppData\\Local\\Packages\\PythonSoftwareFoundation.Python.3.8_qbz5n2kfra8p0\\LocalCache\\local-packages\\Python38\\site-packages\\sklearn\\linear_model\\_ridge.py:200: LinAlgWarning: Ill-conditioned matrix (rcond=4.37717e-25): result may not be accurate.\n",
      "  return linalg.solve(A, Xy, assume_a=\"pos\", overwrite_a=True).T\n",
      "C:\\Users\\ekaushik\\AppData\\Local\\Packages\\PythonSoftwareFoundation.Python.3.8_qbz5n2kfra8p0\\LocalCache\\local-packages\\Python38\\site-packages\\sklearn\\linear_model\\_coordinate_descent.py:2412: ConvergenceWarning: Objective did not converge. You might want to increase the number of iterations. Duality gap: 338996742.10706997, tolerance: 106741.65145094969\n",
      "  ) = cd_fast.enet_coordinate_descent_multi_task(\n"
     ]
    },
    {
     "name": "stdout",
     "output_type": "stream",
     "text": [
      "Model Number: 101 with model WindowRegression in generation 0 of 5\n",
      "Model Number: 102 with model Theta in generation 0 of 5\n",
      "Template Eval Error: Exception('Transformer AlignLastValue failed on inverse') in model 102 in generation 0: Theta\n",
      "Model Number: 103 with model GLM in generation 0 of 5\n",
      "Template Eval Error: ValueError('NaN, inf or invalid value detected in weights, estimation infeasible.') in model 103 in generation 0: GLM\n",
      "Model Number: 104 with model VECM in generation 0 of 5\n",
      "Model Number: 105 with model FFT in generation 0 of 5\n",
      "Model Number: 106 with model LastValueNaive in generation 0 of 5\n",
      "Model Number: 107 with model VAR in generation 0 of 5\n",
      "Template Eval Error: Exception('Transformer HolidayTransformer failed on fit') in model 107 in generation 0: VAR\n",
      "Model Number: 108 with model LastValueNaive in generation 0 of 5\n",
      "Template Eval Error: Exception('Transformer KalmanSmoothing failed on fit') in model 108 in generation 0: LastValueNaive\n",
      "Model Number: 109 with model ARDL in generation 0 of 5\n",
      "Template Eval Error: ValueError(\"ARDL series B failed with error ValueError('The number of regressors (1105) including deterministics, lags of the endog, lags of the exogenous, and fixed regressors is larger than the sample available for estimation (261).') exog train              dp0  dp1        dp2  dp3  dp4  ...  dp270  dp271  dp272  dp273  dp274\\nDate                                        ...                                   \\n2018-01-05   5.0  0.0  2458123.5  1.0  0.0  ...    0.0    0.0    0.0    0.0    0.0\\n2018-01-12  12.0  0.0  2458130.5  1.0  0.0  ...    0.0    0.0    0.0    0.0    0.0\\n2018-01-19  19.0  0.0  2458137.5  1.0  0.0  ...    0.0    0.0    0.0    0.0    0.0\\n2018-01-26  26.0  0.0  2458144.5  1.0  0.0  ...    0.0    0.0    0.0    0.0    0.0\\n2018-02-02   2.0  0.0  2458151.5  0.0  1.0  ...    0.0    0.0    0.0    0.0    0.0\\n...          ...  ...        ...  ...  ...  ...    ...    ...    ...    ...    ...\\n2022-12-23  23.0  0.0  2459936.5  0.0  0.0  ...    0.0    0.0    0.0    0.0    0.0\\n2022-12-30  30.0  0.0  2459943.5  0.0  0.0  ...    0.0    0.0    0.0    0.0    0.0\\n2023-01-06   6.0  0.0  2459950.5  1.0  0.0  ...    0.0    0.0    0.0    0.0    0.0\\n2023-01-13  13.0  0.0  2459957.5  1.0  0.0  ...    0.0    0.0    0.0    0.0    0.0\\n2023-01-20  20.0  0.0  2459964.5  1.0  0.0  ...    0.0    0.0    0.0    0.0    0.0\\n\\n[264 rows x 275 columns] and predict              dp0  dp1        dp2  dp3  dp4  ...  dp270  dp271  dp272  dp273  dp274\\n2023-01-27  27.0  0.0  2459971.5  1.0  0.0  ...    0.0    0.0    0.0    0.0    0.0\\n2023-02-03   3.0  0.0  2459978.5  0.0  1.0  ...    0.0    0.0    0.0    0.0    0.0\\n2023-02-10  10.0  0.0  2459985.5  0.0  1.0  ...    0.0    0.0    0.0    0.0    0.0\\n2023-02-17  17.0  0.0  2459992.5  0.0  1.0  ...    0.0    0.0    0.0    0.0    0.0\\n2023-02-24  24.0  0.0  2459999.5  0.0  1.0  ...    0.0    0.0    0.0    0.0    0.0\\n2023-03-03   3.0  0.0  2460006.5  0.0  0.0  ...    0.0    0.0    0.0    0.0    0.0\\n2023-03-10  10.0  0.0  2460013.5  0.0  0.0  ...    0.0    0.0    0.0    0.0    0.0\\n2023-03-17  17.0  0.0  2460020.5  0.0  0.0  ...    0.0    0.0    0.0    0.0    0.0\\n2023-03-24  24.0  0.0  2460027.5  0.0  0.0  ...    0.0    0.0    0.0    0.0    0.0\\n2023-03-31  31.0  0.0  2460034.5  0.0  0.0  ...    0.0    0.0    0.0    0.0    0.0\\n2023-04-07   7.0  0.0  2460041.5  0.0  0.0  ...    0.0    0.0    0.0    0.0    0.0\\n2023-04-14  14.0  0.0  2460048.5  0.0  0.0  ...    0.0    0.0    0.0    0.0    0.0\\n2023-04-21  21.0  0.0  2460055.5  0.0  0.0  ...    0.0    0.0    0.0    0.0    0.0\\n2023-04-28  28.0  0.0  2460062.5  0.0  0.0  ...    0.0    0.0    0.0    0.0    0.0\\n2023-05-05   5.0  0.0  2460069.5  0.0  0.0  ...    0.0    0.0    0.0    0.0    0.0\\n\\n[15 rows x 275 columns]\") in model 109 in generation 0: ARDL\n",
      "Model Number: 110 with model ETS in generation 0 of 5\n",
      "Model Number: 111 with model FFT in generation 0 of 5\n",
      "Model Number: 112 with model RRVAR in generation 0 of 5\n",
      "Template Eval Error: Exception('Transformer AlignLastValue failed on inverse') in model 112 in generation 0: RRVAR\n",
      "Model Number: 113 with model DatepartRegression in generation 0 of 5\n",
      "Template Eval Error: ImportError('Tensorflow not available, install with pip install tensorflow.') in model 113 in generation 0: DatepartRegression\n",
      "Model Number: 114 with model Theta in generation 0 of 5\n",
      "Model Number: 115 with model LastValueNaive in generation 0 of 5\n",
      "Model Number: 116 with model FBProphet in generation 0 of 5\n",
      "Model Number: 117 with model LastValueNaive in generation 0 of 5\n",
      "Model Number: 118 with model KalmanStateSpace in generation 0 of 5\n",
      "Model Number: 119 with model Theta in generation 0 of 5\n",
      "Model Number: 120 with model SeasonalityMotif in generation 0 of 5\n",
      "Model Number: 121 with model GLM in generation 0 of 5\n",
      "Template Eval Error: ValueError('The first guess on the deviance function returned a nan.  This could be a boundary  problem and should be reported.') in model 121 in generation 0: GLM\n",
      "Model Number: 122 with model SeasonalNaive in generation 0 of 5\n",
      "Model Number: 123 with model AverageValueNaive in generation 0 of 5\n",
      "Model Number: 124 with model LastValueNaive in generation 0 of 5\n",
      "Model Number: 125 with model SeasonalityMotif in generation 0 of 5\n",
      "Model Number: 126 with model WindowRegression in generation 0 of 5\n",
      "Model Number: 127 with model VECM in generation 0 of 5\n",
      "Template Eval Error: Exception('Transformer KalmanSmoothing failed on fit') in model 127 in generation 0: VECM\n",
      "Model Number: 128 with model SeasonalNaive in generation 0 of 5\n",
      "Model Number: 129 with model SeasonalNaive in generation 0 of 5\n",
      "Model Number: 130 with model ETS in generation 0 of 5\n",
      "Model Number: 131 with model ETS in generation 0 of 5\n",
      "Model Number: 132 with model ETS in generation 0 of 5\n",
      "Model Number: 133 with model SectionalMotif in generation 0 of 5\n",
      "Template Eval Error: Exception('Transformer AlignLastValue failed on inverse') in model 133 in generation 0: SectionalMotif\n",
      "Model Number: 134 with model MetricMotif in generation 0 of 5\n",
      "Template Eval Error: Exception('Transformer AlignLastValue failed on inverse') in model 134 in generation 0: MetricMotif\n",
      "Model Number: 135 with model GLM in generation 0 of 5\n",
      "Template Eval Error: ValueError('NaN, inf or invalid value detected in weights, estimation infeasible.') in model 135 in generation 0: GLM\n",
      "Model Number: 136 with model GLM in generation 0 of 5\n",
      "Template Eval Error: ValueError('The first guess on the deviance function returned a nan.  This could be a boundary  problem and should be reported.') in model 136 in generation 0: GLM\n",
      "Model Number: 137 with model KalmanStateSpace in generation 0 of 5\n",
      "Model Number: 138 with model RRVAR in generation 0 of 5\n",
      "Model Number: 139 with model UnobservedComponents in generation 0 of 5\n",
      "Model Number: 140 with model ARIMA in generation 0 of 5\n",
      "Model Number: 141 with model BallTreeMultivariateMotif in generation 0 of 5\n",
      "Model Number: 142 with model LastValueNaive in generation 0 of 5\n",
      "Template Eval Error: Exception('Transformer AlignLastValue failed on inverse') in model 142 in generation 0: LastValueNaive\n",
      "Model Number: 143 with model LastValueNaive in generation 0 of 5\n",
      "Model Number: 144 with model GLS in generation 0 of 5\n",
      "Model Number: 145 with model BallTreeMultivariateMotif in generation 0 of 5\n",
      "Model Number: 146 with model ConstantNaive in generation 0 of 5\n",
      "Model Number: 147 with model ETS in generation 0 of 5\n",
      "Model Number: 148 with model FBProphet in generation 0 of 5\n"
     ]
    },
    {
     "name": "stderr",
     "output_type": "stream",
     "text": [
      "C:\\Users\\ekaushik\\AppData\\Local\\Packages\\PythonSoftwareFoundation.Python.3.8_qbz5n2kfra8p0\\LocalCache\\local-packages\\Python38\\site-packages\\sklearn\\linear_model\\_ridge.py:200: LinAlgWarning: Ill-conditioned matrix (rcond=4.37717e-25): result may not be accurate.\n",
      "  return linalg.solve(A, Xy, assume_a=\"pos\", overwrite_a=True).T\n"
     ]
    },
    {
     "name": "stdout",
     "output_type": "stream",
     "text": [
      "Model Number: 149 with model RRVAR in generation 0 of 5\n",
      "Model Number: 150 with model SeasonalNaive in generation 0 of 5\n",
      "Model Number: 151 with model SeasonalNaive in generation 0 of 5\n",
      "Model Number: 152 with model AverageValueNaive in generation 0 of 5\n",
      "Model Number: 153 with model VAR in generation 0 of 5\n",
      "Model Number: 154 with model RRVAR in generation 0 of 5\n",
      "Model Number: 155 with model RRVAR in generation 0 of 5\n",
      "Model Number: 156 with model SeasonalityMotif in generation 0 of 5\n",
      "Model Number: 157 with model GLS in generation 0 of 5\n",
      "Model Number: 158 with model RRVAR in generation 0 of 5\n",
      "Template Eval Error: Exception('Transformer Detrend failed on fit') in model 158 in generation 0: RRVAR\n",
      "Model Number: 159 with model WindowRegression in generation 0 of 5\n",
      "Model Number: 160 with model GLS in generation 0 of 5\n",
      "Model Number: 161 with model ConstantNaive in generation 0 of 5\n",
      "Model Number: 162 with model KalmanStateSpace in generation 0 of 5\n",
      "Model Number: 163 with model MultivariateMotif in generation 0 of 5\n",
      "Model Number: 164 with model LastValueNaive in generation 0 of 5\n",
      "Model Number: 165 with model Cassandra in generation 0 of 5\n"
     ]
    },
    {
     "name": "stderr",
     "output_type": "stream",
     "text": [
      "C:\\Users\\ekaushik\\AppData\\Local\\Packages\\PythonSoftwareFoundation.Python.3.8_qbz5n2kfra8p0\\LocalCache\\local-packages\\Python38\\site-packages\\numpy\\lib\\function_base.py:2853: RuntimeWarning: invalid value encountered in divide\n",
      "  c /= stddev[:, None]\n",
      "C:\\Users\\ekaushik\\AppData\\Local\\Packages\\PythonSoftwareFoundation.Python.3.8_qbz5n2kfra8p0\\LocalCache\\local-packages\\Python38\\site-packages\\numpy\\lib\\function_base.py:2854: RuntimeWarning: invalid value encountered in divide\n",
      "  c /= stddev[None, :]\n"
     ]
    },
    {
     "name": "stdout",
     "output_type": "stream",
     "text": [
      "Model Number: 166 with model SeasonalNaive in generation 0 of 5\n",
      "Model Number: 167 with model MAR in generation 0 of 5\n",
      "Template Eval Error: ValueError('Shape of passed values is (7, 5), indices imply (15, 5)') in model 167 in generation 0: MAR\n",
      "Model Number: 168 with model MetricMotif in generation 0 of 5\n",
      "Model Number: 169 with model VAR in generation 0 of 5\n",
      "Template Eval Error: IndexError('index 0 is out of bounds for axis 0 with size 0') in model 169 in generation 0: VAR\n",
      "Model Number: 170 with model MultivariateMotif in generation 0 of 5\n",
      "Template Eval Error: Exception('Transformer Detrend failed on fit') in model 170 in generation 0: MultivariateMotif\n",
      "Model Number: 171 with model KalmanStateSpace in generation 0 of 5\n",
      "Model Number: 172 with model AverageValueNaive in generation 0 of 5\n",
      "Model Number: 173 with model LastValueNaive in generation 0 of 5\n",
      "Model Number: 174 with model ETS in generation 0 of 5\n",
      "Model Number: 175 with model Theta in generation 0 of 5\n",
      "Model Number: 176 with model ARCH in generation 0 of 5\n",
      "Template Eval Error: Exception('Transformer KalmanSmoothing failed on fit') in model 176 in generation 0: ARCH\n",
      "Model Number: 177 with model VAR in generation 0 of 5\n",
      "Model Number: 178 with model MAR in generation 0 of 5\n",
      "Model Number: 179 with model BallTreeMultivariateMotif in generation 0 of 5\n",
      "Template Eval Error: Exception('Transformer KalmanSmoothing failed on fit') in model 179 in generation 0: BallTreeMultivariateMotif\n",
      "Model Number: 180 with model KalmanStateSpace in generation 0 of 5\n",
      "Model Number: 181 with model MAR in generation 0 of 5\n",
      "Model Number: 182 with model BallTreeMultivariateMotif in generation 0 of 5\n",
      "Model Number: 183 with model LastValueNaive in generation 0 of 5\n",
      "Template Eval Error: Exception('Transformer AlignLastValue failed on inverse') in model 183 in generation 0: LastValueNaive\n",
      "Model Number: 184 with model BallTreeMultivariateMotif in generation 0 of 5\n",
      "Template Eval Error: TypeError('1D weights expected when shapes of a and weights differ.') in model 184 in generation 0: BallTreeMultivariateMotif\n",
      "Model Number: 185 with model MetricMotif in generation 0 of 5\n",
      "Template Eval Error: Exception('Transformer RegressionFilter failed on fit') in model 185 in generation 0: MetricMotif\n",
      "Model Number: 186 with model MultivariateMotif in generation 0 of 5\n",
      "Model Number: 187 with model GLM in generation 0 of 5\n",
      "Template Eval Error: Exception('Transformer KalmanSmoothing failed on fit') in model 187 in generation 0: GLM\n",
      "Model Number: 188 with model UnivariateMotif in generation 0 of 5\n",
      "Template Eval Error: Exception('Transformer AlignLastValue failed on inverse') in model 188 in generation 0: UnivariateMotif\n",
      "Model Number: 189 with model FFT in generation 0 of 5\n",
      "Model Number: 190 with model VAR in generation 0 of 5\n",
      "Model Number: 191 with model KalmanStateSpace in generation 0 of 5\n",
      "Model Number: 192 with model ConstantNaive in generation 0 of 5\n",
      "Model Number: 193 with model GLS in generation 0 of 5\n",
      "Model Number: 194 with model GLS in generation 0 of 5\n",
      "Model Number: 195 with model SeasonalityMotif in generation 0 of 5\n",
      "Model Number: 196 with model GLM in generation 0 of 5\n",
      "Model Number: 197 with model DatepartRegression in generation 0 of 5\n",
      "Model Number: 198 with model LastValueNaive in generation 0 of 5\n",
      "New Generation: 1 of 5\n",
      "Model Number: 199 with model WindowRegression in generation 1 of 5\n",
      "Model Number: 200 with model VAR in generation 1 of 5\n",
      "Model Number: 201 with model GLS in generation 1 of 5\n",
      "Model Number: 202 with model Theta in generation 1 of 5\n",
      "Model Number: 203 with model MultivariateMotif in generation 1 of 5\n",
      "Model Number: 204 with model GLS in generation 1 of 5\n",
      "Model Number: 205 with model LastValueNaive in generation 1 of 5\n",
      "Model Number: 206 with model WindowRegression in generation 1 of 5\n",
      "Model Number: 207 with model LastValueNaive in generation 1 of 5\n",
      "Model Number: 208 with model LastValueNaive in generation 1 of 5\n",
      "Model Number: 209 with model DatepartRegression in generation 1 of 5\n",
      "Template Eval Error: ValueError(\"regression_type='User' but no future_regressor passed\") in model 209 in generation 1: DatepartRegression\n",
      "Model Number: 210 with model WindowRegression in generation 1 of 5\n",
      "Model Number: 211 with model ConstantNaive in generation 1 of 5\n"
     ]
    },
    {
     "name": "stderr",
     "output_type": "stream",
     "text": [
      "C:\\Users\\ekaushik\\AppData\\Local\\Packages\\PythonSoftwareFoundation.Python.3.8_qbz5n2kfra8p0\\LocalCache\\local-packages\\Python38\\site-packages\\sklearn\\neural_network\\_multilayer_perceptron.py:546: ConvergenceWarning: lbfgs failed to converge (status=1):\n",
      "STOP: TOTAL NO. of ITERATIONS REACHED LIMIT.\n",
      "\n",
      "Increase the number of iterations (max_iter) or scale the data as shown in:\n",
      "    https://scikit-learn.org/stable/modules/preprocessing.html\n",
      "  self.n_iter_ = _check_optimize_result(\"lbfgs\", opt_res, self.max_iter)\n"
     ]
    },
    {
     "name": "stdout",
     "output_type": "stream",
     "text": [
      "Model Number: 212 with model DatepartRegression in generation 1 of 5\n",
      "Model Number: 213 with model NVAR in generation 1 of 5\n",
      "Model Number: 214 with model AverageValueNaive in generation 1 of 5\n",
      "Model Number: 215 with model MetricMotif in generation 1 of 5\n",
      "Model Number: 216 with model UnobservedComponents in generation 1 of 5\n",
      "Model Number: 217 with model UnobservedComponents in generation 1 of 5\n",
      "Model Number: 218 with model UnobservedComponents in generation 1 of 5\n",
      "Model Number: 219 with model LastValueNaive in generation 1 of 5\n",
      "Model Number: 220 with model SeasonalNaive in generation 1 of 5\n",
      "Template Eval Error: Exception('Transformer AlignLastValue failed on inverse') in model 220 in generation 1: SeasonalNaive\n",
      "Model Number: 221 with model FBProphet in generation 1 of 5\n",
      "Template Eval Error: Exception('Transformer AlignLastValue failed on inverse') in model 221 in generation 1: FBProphet\n",
      "Model Number: 222 with model Cassandra in generation 1 of 5\n",
      "Template Eval Error: ValueError(\"Model returned NaN due to a preprocessing transformer {'fillna': 'nearest', 'transformations': {'0': 'bkfilter', '1': 'AlignLastValue', '2': 'PowerTransformer'}, 'transformation_params': {'0': {}, '1': {'rows': 1, 'lag': 1, 'method': 'additive', 'strength': 1.0, 'first_value_only': False}, '2': {}}}. fail_on_forecast_nan=True\") in model 222 in generation 1: Cassandra\n",
      "Model Number: 223 with model ARDL in generation 1 of 5\n"
     ]
    },
    {
     "name": "stderr",
     "output_type": "stream",
     "text": [
      "C:\\Users\\ekaushik\\AppData\\Local\\Packages\\PythonSoftwareFoundation.Python.3.8_qbz5n2kfra8p0\\LocalCache\\local-packages\\Python38\\site-packages\\numpy\\lib\\function_base.py:2853: RuntimeWarning: invalid value encountered in divide\n",
      "  c /= stddev[:, None]\n",
      "C:\\Users\\ekaushik\\AppData\\Local\\Packages\\PythonSoftwareFoundation.Python.3.8_qbz5n2kfra8p0\\LocalCache\\local-packages\\Python38\\site-packages\\numpy\\lib\\function_base.py:2854: RuntimeWarning: invalid value encountered in divide\n",
      "  c /= stddev[None, :]\n"
     ]
    },
    {
     "name": "stdout",
     "output_type": "stream",
     "text": [
      "Model Number: 224 with model UnobservedComponents in generation 1 of 5\n",
      "Model Number: 225 with model GLS in generation 1 of 5\n",
      "Model Number: 226 with model VAR in generation 1 of 5\n",
      "Model Number: 227 with model LastValueNaive in generation 1 of 5\n",
      "Template Eval Error: Exception('Transformer AlignLastValue failed on inverse') in model 227 in generation 1: LastValueNaive\n",
      "Model Number: 228 with model ARIMA in generation 1 of 5\n",
      "Model Number: 229 with model MultivariateMotif in generation 1 of 5\n",
      "Model Number: 230 with model VAR in generation 1 of 5\n",
      "Model Number: 231 with model SectionalMotif in generation 1 of 5\n",
      "Model Number: 232 with model MAR in generation 1 of 5\n"
     ]
    },
    {
     "name": "stderr",
     "output_type": "stream",
     "text": [
      "C:\\Users\\ekaushik\\AppData\\Local\\Packages\\PythonSoftwareFoundation.Python.3.8_qbz5n2kfra8p0\\LocalCache\\local-packages\\Python38\\site-packages\\sklearn\\linear_model\\_coordinate_descent.py:2412: ConvergenceWarning: Objective did not converge. You might want to increase the number of iterations. Duality gap: 130152198.88412963, tolerance: 106741.65145094969\n",
      "  ) = cd_fast.enet_coordinate_descent_multi_task(\n"
     ]
    },
    {
     "name": "stdout",
     "output_type": "stream",
     "text": [
      "Template Eval Error: ValueError('Shape of passed values is (7, 5), indices imply (15, 5)') in model 232 in generation 1: MAR\n",
      "Model Number: 233 with model Theta in generation 1 of 5\n",
      "Model Number: 234 with model GLS in generation 1 of 5\n",
      "Model Number: 235 with model UnobservedComponents in generation 1 of 5\n",
      "Template Eval Error: ValueError(\"regression_type='User' but no future_regressor supplied\") in model 235 in generation 1: UnobservedComponents\n",
      "Model Number: 236 with model SectionalMotif in generation 1 of 5\n",
      "Model Number: 237 with model VECM in generation 1 of 5\n"
     ]
    },
    {
     "name": "stderr",
     "output_type": "stream",
     "text": [
      "C:\\Users\\ekaushik\\AppData\\Local\\Packages\\PythonSoftwareFoundation.Python.3.8_qbz5n2kfra8p0\\LocalCache\\local-packages\\Python38\\site-packages\\sklearn\\linear_model\\_coordinate_descent.py:2412: ConvergenceWarning: Objective did not converge. You might want to increase the number of iterations. Duality gap: 338996742.10706997, tolerance: 106741.65145094969\n",
      "  ) = cd_fast.enet_coordinate_descent_multi_task(\n"
     ]
    },
    {
     "name": "stdout",
     "output_type": "stream",
     "text": [
      "Model Number: 238 with model ARDL in generation 1 of 5\n",
      "Template Eval Error: ValueError(\"regression_type='User' but future_regressor not supplied\") in model 238 in generation 1: ARDL\n",
      "Model Number: 239 with model ARCH in generation 1 of 5\n",
      "Model Number: 240 with model SeasonalityMotif in generation 1 of 5\n",
      "Model Number: 241 with model RRVAR in generation 1 of 5\n",
      "Model Number: 242 with model RRVAR in generation 1 of 5\n",
      "Model Number: 243 with model MAR in generation 1 of 5\n",
      "Model Number: 244 with model MAR in generation 1 of 5\n"
     ]
    },
    {
     "name": "stderr",
     "output_type": "stream",
     "text": [
      "C:\\Users\\ekaushik\\AppData\\Local\\Packages\\PythonSoftwareFoundation.Python.3.8_qbz5n2kfra8p0\\LocalCache\\local-packages\\Python38\\site-packages\\sklearn\\linear_model\\_coordinate_descent.py:2412: ConvergenceWarning: Objective did not converge. You might want to increase the number of iterations. Duality gap: 126210753.35119352, tolerance: 106777.62472649614\n",
      "  ) = cd_fast.enet_coordinate_descent_multi_task(\n"
     ]
    },
    {
     "name": "stdout",
     "output_type": "stream",
     "text": [
      "Template Eval Error: ValueError('Shape of passed values is (7, 5), indices imply (15, 5)') in model 244 in generation 1: MAR\n",
      "Model Number: 245 with model VAR in generation 1 of 5\n",
      "Model Number: 246 with model SeasonalNaive in generation 1 of 5\n",
      "Model Number: 247 with model SeasonalNaive in generation 1 of 5\n",
      "Model Number: 248 with model MultivariateMotif in generation 1 of 5\n",
      "Model Number: 249 with model Theta in generation 1 of 5\n",
      "Model Number: 250 with model GLS in generation 1 of 5\n",
      "Model Number: 251 with model ETS in generation 1 of 5\n",
      "Model Number: 252 with model SeasonalityMotif in generation 1 of 5\n",
      "Model Number: 253 with model MAR in generation 1 of 5\n",
      "Template Eval Error: ValueError('Shape of passed values is (7, 5), indices imply (15, 5)') in model 253 in generation 1: MAR\n",
      "Model Number: 254 with model VAR in generation 1 of 5\n",
      "Model Number: 255 with model ETS in generation 1 of 5\n",
      "Model Number: 256 with model FBProphet in generation 1 of 5\n",
      "Model Number: 257 with model ConstantNaive in generation 1 of 5\n",
      "Model Number: 258 with model SeasonalNaive in generation 1 of 5\n",
      "Model Number: 259 with model VAR in generation 1 of 5\n",
      "Model Number: 260 with model UnobservedComponents in generation 1 of 5\n"
     ]
    },
    {
     "name": "stderr",
     "output_type": "stream",
     "text": [
      "C:\\Users\\ekaushik\\AppData\\Local\\Packages\\PythonSoftwareFoundation.Python.3.8_qbz5n2kfra8p0\\LocalCache\\local-packages\\Python38\\site-packages\\sklearn\\linear_model\\_coordinate_descent.py:2412: ConvergenceWarning: Objective did not converge. You might want to increase the number of iterations. Duality gap: 338996742.10706997, tolerance: 106741.65145094969\n",
      "  ) = cd_fast.enet_coordinate_descent_multi_task(\n"
     ]
    },
    {
     "name": "stdout",
     "output_type": "stream",
     "text": [
      "Model Number: 261 with model MultivariateMotif in generation 1 of 5\n",
      "Model Number: 262 with model Theta in generation 1 of 5\n",
      "Model Number: 263 with model ConstantNaive in generation 1 of 5\n",
      "Model Number: 264 with model ETS in generation 1 of 5\n"
     ]
    },
    {
     "name": "stderr",
     "output_type": "stream",
     "text": [
      "C:\\Users\\ekaushik\\AppData\\Local\\Packages\\PythonSoftwareFoundation.Python.3.8_qbz5n2kfra8p0\\LocalCache\\local-packages\\Python38\\site-packages\\sklearn\\linear_model\\_coordinate_descent.py:2412: ConvergenceWarning: Objective did not converge. You might want to increase the number of iterations. Duality gap: 270030507.1339956, tolerance: 104644.38651695284\n",
      "  ) = cd_fast.enet_coordinate_descent_multi_task(\n"
     ]
    },
    {
     "name": "stdout",
     "output_type": "stream",
     "text": [
      "Model Number: 265 with model WindowRegression in generation 1 of 5\n",
      "Model Number: 266 with model FFT in generation 1 of 5\n"
     ]
    },
    {
     "name": "stderr",
     "output_type": "stream",
     "text": [
      "C:\\Users\\ekaushik\\AppData\\Local\\Packages\\PythonSoftwareFoundation.Python.3.8_qbz5n2kfra8p0\\LocalCache\\local-packages\\Python38\\site-packages\\sklearn\\linear_model\\_coordinate_descent.py:2412: ConvergenceWarning: Objective did not converge. You might want to increase the number of iterations. Duality gap: 243693140.12026715, tolerance: 92684.11151991434\n",
      "  ) = cd_fast.enet_coordinate_descent_multi_task(\n"
     ]
    },
    {
     "name": "stdout",
     "output_type": "stream",
     "text": [
      "Model Number: 267 with model KalmanStateSpace in generation 1 of 5\n",
      "Model Number: 268 with model DatepartRegression in generation 1 of 5\n",
      "Model Number: 269 with model SeasonalityMotif in generation 1 of 5\n",
      "Model Number: 270 with model VECM in generation 1 of 5\n"
     ]
    },
    {
     "name": "stderr",
     "output_type": "stream",
     "text": [
      "C:\\Users\\ekaushik\\AppData\\Local\\Packages\\PythonSoftwareFoundation.Python.3.8_qbz5n2kfra8p0\\LocalCache\\local-packages\\Python38\\site-packages\\sklearn\\linear_model\\_ridge.py:200: LinAlgWarning: Ill-conditioned matrix (rcond=4.37717e-25): result may not be accurate.\n",
      "  return linalg.solve(A, Xy, assume_a=\"pos\", overwrite_a=True).T\n"
     ]
    },
    {
     "name": "stdout",
     "output_type": "stream",
     "text": [
      "Model Number: 271 with model MultivariateMotif in generation 1 of 5\n",
      "Model Number: 272 with model ConstantNaive in generation 1 of 5\n",
      "Model Number: 273 with model KalmanStateSpace in generation 1 of 5\n",
      "Model Number: 274 with model MultivariateMotif in generation 1 of 5\n",
      "Model Number: 275 with model WindowRegression in generation 1 of 5\n"
     ]
    },
    {
     "name": "stderr",
     "output_type": "stream",
     "text": [
      "C:\\Users\\ekaushik\\AppData\\Local\\Packages\\PythonSoftwareFoundation.Python.3.8_qbz5n2kfra8p0\\LocalCache\\local-packages\\Python38\\site-packages\\sklearn\\neural_network\\_multilayer_perceptron.py:546: ConvergenceWarning: lbfgs failed to converge (status=1):\n",
      "STOP: TOTAL NO. of ITERATIONS REACHED LIMIT.\n",
      "\n",
      "Increase the number of iterations (max_iter) or scale the data as shown in:\n",
      "    https://scikit-learn.org/stable/modules/preprocessing.html\n",
      "  self.n_iter_ = _check_optimize_result(\"lbfgs\", opt_res, self.max_iter)\n"
     ]
    },
    {
     "name": "stdout",
     "output_type": "stream",
     "text": [
      "Model Number: 276 with model VAR in generation 1 of 5\n",
      "Model Number: 277 with model VECM in generation 1 of 5\n",
      "Model Number: 278 with model AverageValueNaive in generation 1 of 5\n",
      "Model Number: 279 with model FBProphet in generation 1 of 5\n"
     ]
    },
    {
     "name": "stderr",
     "output_type": "stream",
     "text": [
      "C:\\Users\\ekaushik\\AppData\\Local\\Packages\\PythonSoftwareFoundation.Python.3.8_qbz5n2kfra8p0\\LocalCache\\local-packages\\Python38\\site-packages\\autots\\tools\\thresholding.py:204: RuntimeWarning: overflow encountered in double_scalars\n",
      "  (1 + mean_perc_decrease) ** self.mean_weight\n",
      "C:\\Users\\ekaushik\\AppData\\Local\\Packages\\PythonSoftwareFoundation.Python.3.8_qbz5n2kfra8p0\\LocalCache\\local-packages\\Python38\\site-packages\\autots\\tools\\thresholding.py:204: RuntimeWarning: overflow encountered in double_scalars\n",
      "  (1 + mean_perc_decrease) ** self.mean_weight\n",
      "C:\\Users\\ekaushik\\AppData\\Local\\Packages\\PythonSoftwareFoundation.Python.3.8_qbz5n2kfra8p0\\LocalCache\\local-packages\\Python38\\site-packages\\autots\\tools\\thresholding.py:204: RuntimeWarning: overflow encountered in double_scalars\n",
      "  (1 + mean_perc_decrease) ** self.mean_weight\n"
     ]
    },
    {
     "name": "stdout",
     "output_type": "stream",
     "text": [
      "Model Number: 280 with model MultivariateMotif in generation 1 of 5\n",
      "Model Number: 281 with model ConstantNaive in generation 1 of 5\n",
      "Model Number: 282 with model Cassandra in generation 1 of 5\n"
     ]
    },
    {
     "name": "stderr",
     "output_type": "stream",
     "text": [
      "C:\\Users\\ekaushik\\AppData\\Local\\Packages\\PythonSoftwareFoundation.Python.3.8_qbz5n2kfra8p0\\LocalCache\\local-packages\\Python38\\site-packages\\numpy\\lib\\function_base.py:2853: RuntimeWarning: invalid value encountered in divide\n",
      "  c /= stddev[:, None]\n",
      "C:\\Users\\ekaushik\\AppData\\Local\\Packages\\PythonSoftwareFoundation.Python.3.8_qbz5n2kfra8p0\\LocalCache\\local-packages\\Python38\\site-packages\\numpy\\lib\\function_base.py:2854: RuntimeWarning: invalid value encountered in divide\n",
      "  c /= stddev[None, :]\n",
      "C:\\Users\\ekaushik\\AppData\\Local\\Packages\\PythonSoftwareFoundation.Python.3.8_qbz5n2kfra8p0\\LocalCache\\local-packages\\Python38\\site-packages\\autots\\tools\\thresholding.py:204: RuntimeWarning: overflow encountered in double_scalars\n",
      "  (1 + mean_perc_decrease) ** self.mean_weight\n",
      "C:\\Users\\ekaushik\\AppData\\Local\\Packages\\PythonSoftwareFoundation.Python.3.8_qbz5n2kfra8p0\\LocalCache\\local-packages\\Python38\\site-packages\\autots\\tools\\thresholding.py:199: RuntimeWarning: divide by zero encountered in double_scalars\n",
      "  mean_perc_decrease = (\n",
      "C:\\Users\\ekaushik\\AppData\\Local\\Packages\\PythonSoftwareFoundation.Python.3.8_qbz5n2kfra8p0\\LocalCache\\local-packages\\Python38\\site-packages\\autots\\tools\\thresholding.py:204: RuntimeWarning: overflow encountered in double_scalars\n",
      "  (1 + mean_perc_decrease) ** self.mean_weight\n",
      "C:\\Users\\ekaushik\\AppData\\Local\\Packages\\PythonSoftwareFoundation.Python.3.8_qbz5n2kfra8p0\\LocalCache\\local-packages\\Python38\\site-packages\\autots\\tools\\thresholding.py:204: RuntimeWarning: overflow encountered in double_scalars\n",
      "  (1 + mean_perc_decrease) ** self.mean_weight\n",
      "C:\\Users\\ekaushik\\AppData\\Local\\Packages\\PythonSoftwareFoundation.Python.3.8_qbz5n2kfra8p0\\LocalCache\\local-packages\\Python38\\site-packages\\autots\\tools\\thresholding.py:204: RuntimeWarning: overflow encountered in double_scalars\n",
      "  (1 + mean_perc_decrease) ** self.mean_weight\n"
     ]
    },
    {
     "name": "stdout",
     "output_type": "stream",
     "text": [
      "Model Number: 283 with model VAR in generation 1 of 5\n",
      "Model Number: 284 with model FFT in generation 1 of 5\n",
      "Model Number: 285 with model RRVAR in generation 1 of 5\n",
      "Model Number: 286 with model AverageValueNaive in generation 1 of 5\n",
      "Model Number: 287 with model ARIMA in generation 1 of 5\n",
      "Template Eval Error: ValueError(\"regression_type='User' but future_regressor not supplied\") in model 287 in generation 1: ARIMA\n",
      "Model Number: 288 with model GLS in generation 1 of 5\n",
      "Model Number: 289 with model FBProphet in generation 1 of 5\n",
      "Model Number: 290 with model Theta in generation 1 of 5\n",
      "Model Number: 291 with model FBProphet in generation 1 of 5\n",
      "Model Number: 292 with model MAR in generation 1 of 5\n",
      "Model Number: 293 with model SeasonalityMotif in generation 1 of 5\n",
      "Model Number: 294 with model DatepartRegression in generation 1 of 5\n",
      "Model Number: 295 with model FBProphet in generation 1 of 5\n",
      "Model Number: 296 with model ETS in generation 1 of 5\n",
      "Model Number: 297 with model VECM in generation 1 of 5\n",
      "Model Number: 298 with model VAR in generation 1 of 5\n",
      "Model Number: 299 with model ETS in generation 1 of 5\n",
      "Model Number: 300 with model ARCH in generation 1 of 5\n",
      "Model Number: 301 with model RRVAR in generation 1 of 5\n",
      "Model Number: 302 with model WindowRegression in generation 1 of 5\n",
      "Template Eval Error: ValueError(\"regression_type='User' but no future_regressor passed\") in model 302 in generation 1: WindowRegression\n",
      "Model Number: 303 with model VECM in generation 1 of 5\n",
      "Model Number: 304 with model FBProphet in generation 1 of 5\n",
      "Model Number: 305 with model ETS in generation 1 of 5\n",
      "Model Number: 306 with model AverageValueNaive in generation 1 of 5\n",
      "Model Number: 307 with model ARIMA in generation 1 of 5\n",
      "Model Number: 308 with model VAR in generation 1 of 5\n",
      "Model Number: 309 with model FFT in generation 1 of 5\n",
      "Model Number: 310 with model SeasonalNaive in generation 1 of 5\n",
      "Model Number: 311 with model RRVAR in generation 1 of 5\n",
      "Model Number: 312 with model Theta in generation 1 of 5\n",
      "Model Number: 313 with model SeasonalNaive in generation 1 of 5\n",
      "Model Number: 314 with model VECM in generation 1 of 5\n",
      "Model Number: 315 with model SectionalMotif in generation 1 of 5\n",
      "Template Eval Error: ValueError(\"regression_type=='User' but no future_regressor supplied\") in model 315 in generation 1: SectionalMotif\n",
      "Model Number: 316 with model SeasonalityMotif in generation 1 of 5\n",
      "Template Eval Error: Exception('Transformer AlignLastValue failed on inverse') in model 316 in generation 1: SeasonalityMotif\n",
      "Model Number: 317 with model SeasonalNaive in generation 1 of 5\n",
      "Model Number: 318 with model MetricMotif in generation 1 of 5\n",
      "Model Number: 319 with model MultivariateMotif in generation 1 of 5\n",
      "Model Number: 320 with model SectionalMotif in generation 1 of 5\n",
      "Model Number: 321 with model FFT in generation 1 of 5\n",
      "Model Number: 322 with model ConstantNaive in generation 1 of 5\n",
      "Model Number: 323 with model WindowRegression in generation 1 of 5\n",
      "Model Number: 324 with model SectionalMotif in generation 1 of 5\n",
      "Model Number: 325 with model ConstantNaive in generation 1 of 5\n",
      "Model Number: 326 with model UnivariateMotif in generation 1 of 5\n",
      "Model Number: 327 with model FFT in generation 1 of 5\n",
      "Model Number: 328 with model GLM in generation 1 of 5\n",
      "Model Number: 329 with model ETS in generation 1 of 5\n",
      "Model Number: 330 with model WindowRegression in generation 1 of 5\n"
     ]
    },
    {
     "name": "stderr",
     "output_type": "stream",
     "text": [
      "C:\\Users\\ekaushik\\AppData\\Local\\Packages\\PythonSoftwareFoundation.Python.3.8_qbz5n2kfra8p0\\LocalCache\\local-packages\\Python38\\site-packages\\sklearn\\linear_model\\_ridge.py:200: LinAlgWarning: Ill-conditioned matrix (rcond=4.37717e-25): result may not be accurate.\n",
      "  return linalg.solve(A, Xy, assume_a=\"pos\", overwrite_a=True).T\n"
     ]
    },
    {
     "name": "stdout",
     "output_type": "stream",
     "text": [
      "Model Number: 331 with model SeasonalityMotif in generation 1 of 5\n",
      "Model Number: 332 with model ConstantNaive in generation 1 of 5\n",
      "Template Eval Error: Exception('Transformer KalmanSmoothing failed on fit') in model 332 in generation 1: ConstantNaive\n",
      "Model Number: 333 with model GLM in generation 1 of 5\n",
      "Template Eval Error: ValueError('regression_type=user and no future_regressor passed') in model 333 in generation 1: GLM\n",
      "Model Number: 334 with model LastValueNaive in generation 1 of 5\n"
     ]
    },
    {
     "name": "stderr",
     "output_type": "stream",
     "text": [
      "C:\\Users\\ekaushik\\AppData\\Local\\Packages\\PythonSoftwareFoundation.Python.3.8_qbz5n2kfra8p0\\LocalCache\\local-packages\\Python38\\site-packages\\sklearn\\neural_network\\_multilayer_perceptron.py:691: ConvergenceWarning: Stochastic Optimizer: Maximum iterations (250) reached and the optimization hasn't converged yet.\n",
      "  warnings.warn(\n"
     ]
    },
    {
     "name": "stdout",
     "output_type": "stream",
     "text": [
      "Model Number: 335 with model RRVAR in generation 1 of 5\n",
      "Model Number: 336 with model ARIMA in generation 1 of 5\n",
      "Model Number: 337 with model RRVAR in generation 1 of 5\n",
      "Model Number: 338 with model SeasonalityMotif in generation 1 of 5\n",
      "Model Number: 339 with model FFT in generation 1 of 5\n",
      "Model Number: 340 with model UnobservedComponents in generation 1 of 5\n",
      "Model Number: 341 with model UnivariateMotif in generation 1 of 5\n",
      "Model Number: 342 with model ETS in generation 1 of 5\n",
      "Model Number: 343 with model UnivariateMotif in generation 1 of 5\n",
      "Template Eval Error: Exception('Transformer SinTrend failed on fit') in model 343 in generation 1: UnivariateMotif\n",
      "New Generation: 2 of 5\n",
      "Model Number: 344 with model GLM in generation 2 of 5\n",
      "Model Number: 345 with model LastValueNaive in generation 2 of 5\n",
      "Model Number: 346 with model VAR in generation 2 of 5\n",
      "Model Number: 347 with model VECM in generation 2 of 5\n",
      "Template Eval Error: ValueError(\"regression_type='User' but no future_regressor supplied\") in model 347 in generation 2: VECM\n",
      "Model Number: 348 with model FFT in generation 2 of 5\n",
      "Model Number: 349 with model ETS in generation 2 of 5\n",
      "Model Number: 350 with model FBProphet in generation 2 of 5\n",
      "Model Number: 351 with model UnivariateMotif in generation 2 of 5\n",
      "Model Number: 352 with model GLS in generation 2 of 5\n",
      "Model Number: 353 with model MultivariateMotif in generation 2 of 5\n",
      "Model Number: 354 with model Cassandra in generation 2 of 5\n",
      "Model Number: 355 with model VAR in generation 2 of 5\n"
     ]
    },
    {
     "name": "stderr",
     "output_type": "stream",
     "text": [
      "C:\\Users\\ekaushik\\AppData\\Local\\Packages\\PythonSoftwareFoundation.Python.3.8_qbz5n2kfra8p0\\LocalCache\\local-packages\\Python38\\site-packages\\numpy\\lib\\function_base.py:2853: RuntimeWarning: invalid value encountered in divide\n",
      "  c /= stddev[:, None]\n",
      "C:\\Users\\ekaushik\\AppData\\Local\\Packages\\PythonSoftwareFoundation.Python.3.8_qbz5n2kfra8p0\\LocalCache\\local-packages\\Python38\\site-packages\\numpy\\lib\\function_base.py:2854: RuntimeWarning: invalid value encountered in divide\n",
      "  c /= stddev[None, :]\n"
     ]
    },
    {
     "name": "stdout",
     "output_type": "stream",
     "text": [
      "Model Number: 356 with model UnobservedComponents in generation 2 of 5\n",
      "Template Eval Error: ValueError(\"regression_type='User' but no future_regressor supplied\") in model 356 in generation 2: UnobservedComponents\n",
      "Model Number: 357 with model AverageValueNaive in generation 2 of 5\n",
      "Model Number: 358 with model FFT in generation 2 of 5\n",
      "Model Number: 359 with model ARIMA in generation 2 of 5\n",
      "Model Number: 360 with model ARDL in generation 2 of 5\n",
      "Template Eval Error: ValueError(\"ARDL series A failed with error IndexError('tuple index out of range') exog train None and predict None\") in model 360 in generation 2: ARDL\n",
      "Model Number: 361 with model MAR in generation 2 of 5\n",
      "Model Number: 362 with model VAR in generation 2 of 5\n",
      "Model Number: 363 with model KalmanStateSpace in generation 2 of 5\n",
      "Model Number: 364 with model VECM in generation 2 of 5\n",
      "Model Number: 365 with model SeasonalityMotif in generation 2 of 5\n",
      "Model Number: 366 with model MultivariateMotif in generation 2 of 5\n",
      "Model Number: 367 with model RRVAR in generation 2 of 5\n",
      "Model Number: 368 with model UnobservedComponents in generation 2 of 5\n",
      "Model Number: 369 with model ARIMA in generation 2 of 5\n",
      "Model Number: 370 with model SeasonalityMotif in generation 2 of 5\n",
      "Model Number: 371 with model ConstantNaive in generation 2 of 5\n",
      "Model Number: 372 with model RRVAR in generation 2 of 5\n",
      "Model Number: 373 with model SeasonalityMotif in generation 2 of 5\n",
      "Model Number: 374 with model ARDL in generation 2 of 5\n",
      "Model Number: 375 with model VECM in generation 2 of 5\n",
      "Model Number: 376 with model SeasonalNaive in generation 2 of 5\n",
      "Model Number: 377 with model VECM in generation 2 of 5\n",
      "Model Number: 378 with model LastValueNaive in generation 2 of 5\n",
      "Model Number: 379 with model Theta in generation 2 of 5\n",
      "Model Number: 380 with model ConstantNaive in generation 2 of 5\n",
      "Model Number: 381 with model ARCH in generation 2 of 5\n",
      "Model Number: 382 with model VECM in generation 2 of 5\n",
      "Model Number: 383 with model Theta in generation 2 of 5\n",
      "Model Number: 384 with model ETS in generation 2 of 5\n",
      "Model Number: 385 with model SeasonalNaive in generation 2 of 5\n",
      "Model Number: 386 with model SeasonalityMotif in generation 2 of 5\n",
      "Model Number: 387 with model UnivariateMotif in generation 2 of 5\n",
      "Model Number: 388 with model FFT in generation 2 of 5\n",
      "Model Number: 389 with model UnobservedComponents in generation 2 of 5\n",
      "Model Number: 390 with model DatepartRegression in generation 2 of 5\n",
      "Model Number: 391 with model ConstantNaive in generation 2 of 5\n",
      "Model Number: 392 with model FFT in generation 2 of 5\n",
      "Model Number: 393 with model GLS in generation 2 of 5\n",
      "Model Number: 394 with model ConstantNaive in generation 2 of 5\n",
      "Model Number: 395 with model LastValueNaive in generation 2 of 5\n",
      "Model Number: 396 with model ARIMA in generation 2 of 5\n",
      "Model Number: 397 with model KalmanStateSpace in generation 2 of 5\n",
      "Model Number: 398 with model MultivariateMotif in generation 2 of 5\n",
      "Model Number: 399 with model SeasonalityMotif in generation 2 of 5\n",
      "Model Number: 400 with model AverageValueNaive in generation 2 of 5\n",
      "Model Number: 401 with model KalmanStateSpace in generation 2 of 5\n",
      "Model Number: 402 with model ARCH in generation 2 of 5\n",
      "Model Number: 403 with model ETS in generation 2 of 5\n",
      "Model Number: 404 with model ARIMA in generation 2 of 5\n",
      "Model Number: 405 with model Theta in generation 2 of 5\n",
      "Model Number: 406 with model UnobservedComponents in generation 2 of 5\n",
      "Template Eval Error: ValueError(\"regression_type='User' but no future_regressor supplied\") in model 406 in generation 2: UnobservedComponents\n",
      "Model Number: 407 with model ConstantNaive in generation 2 of 5\n",
      "Model Number: 408 with model LastValueNaive in generation 2 of 5\n",
      "Model Number: 409 with model DatepartRegression in generation 2 of 5\n",
      "Model Number: 410 with model WindowRegression in generation 2 of 5\n",
      "Model Number: 411 with model WindowRegression in generation 2 of 5\n",
      "Template Eval Error: ImportError('Tensorflow not available, install with pip install tensorflow.') in model 411 in generation 2: WindowRegression\n",
      "Model Number: 412 with model ARCH in generation 2 of 5\n",
      "Template Eval Error: Exception('Transformer KalmanSmoothing failed on fit') in model 412 in generation 2: ARCH\n",
      "Model Number: 413 with model ETS in generation 2 of 5\n",
      "Model Number: 414 with model ARIMA in generation 2 of 5\n",
      "Model Number: 415 with model FBProphet in generation 2 of 5"
     ]
    },
    {
     "name": "stderr",
     "output_type": "stream",
     "text": [
      "C:\\Users\\ekaushik\\AppData\\Local\\Packages\\PythonSoftwareFoundation.Python.3.8_qbz5n2kfra8p0\\LocalCache\\local-packages\\Python38\\site-packages\\sklearn\\linear_model\\_ridge.py:200: LinAlgWarning: Ill-conditioned matrix (rcond=4.37717e-25): result may not be accurate.\n",
      "  return linalg.solve(A, Xy, assume_a=\"pos\", overwrite_a=True).T\n"
     ]
    },
    {
     "name": "stdout",
     "output_type": "stream",
     "text": [
      "\n",
      "Model Number: 416 with model FBProphet in generation 2 of 5\n",
      "Model Number: 417 with model VAR in generation 2 of 5\n",
      "Model Number: 418 with model MetricMotif in generation 2 of 5\n",
      "Model Number: 419 with model GLS in generation 2 of 5\n",
      "Model Number: 420 with model ARIMA in generation 2 of 5\n",
      "Model Number: 421 with model ETS in generation 2 of 5\n",
      "Model Number: 422 with model SeasonalityMotif in generation 2 of 5\n",
      "Model Number: 423 with model LastValueNaive in generation 2 of 5\n",
      "Model Number: 424 with model UnivariateMotif in generation 2 of 5\n",
      "Model Number: 425 with model ConstantNaive in generation 2 of 5\n",
      "Template Eval Error: Exception('Transformer QuantileTransformer failed on fit') in model 425 in generation 2: ConstantNaive\n",
      "Model Number: 426 with model SeasonalityMotif in generation 2 of 5\n",
      "Model Number: 427 with model FBProphet in generation 2 of 5\n",
      "Model Number: 428 with model ETS in generation 2 of 5\n",
      "Model Number: 429 with model Theta in generation 2 of 5\n",
      "Template Eval Error: Exception('Transformer AlignLastValue failed on inverse') in model 429 in generation 2: Theta\n",
      "Model Number: 430 with model ARIMA in generation 2 of 5\n",
      "Model Number: 431 with model SeasonalNaive in generation 2 of 5\n",
      "Model Number: 432 with model FBProphet in generation 2 of 5\n",
      "Model Number: 433 with model LastValueNaive in generation 2 of 5\n",
      "Model Number: 434 with model SeasonalityMotif in generation 2 of 5\n",
      "Model Number: 435 with model VECM in generation 2 of 5\n",
      "Model Number: 436 with model Cassandra in generation 2 of 5\n",
      "Model Number: 437 with model WindowRegression in generation 2 of 5\n"
     ]
    },
    {
     "name": "stderr",
     "output_type": "stream",
     "text": [
      "C:\\Users\\ekaushik\\AppData\\Local\\Packages\\PythonSoftwareFoundation.Python.3.8_qbz5n2kfra8p0\\LocalCache\\local-packages\\Python38\\site-packages\\numpy\\lib\\function_base.py:2853: RuntimeWarning: invalid value encountered in divide\n",
      "  c /= stddev[:, None]\n",
      "C:\\Users\\ekaushik\\AppData\\Local\\Packages\\PythonSoftwareFoundation.Python.3.8_qbz5n2kfra8p0\\LocalCache\\local-packages\\Python38\\site-packages\\numpy\\lib\\function_base.py:2854: RuntimeWarning: invalid value encountered in divide\n",
      "  c /= stddev[None, :]\n"
     ]
    },
    {
     "name": "stdout",
     "output_type": "stream",
     "text": [
      "Model Number: 438 with model FFT in generation 2 of 5\n",
      "Model Number: 439 with model VECM in generation 2 of 5\n",
      "Model Number: 440 with model GLS in generation 2 of 5\n",
      "Model Number: 441 with model VECM in generation 2 of 5\n",
      "Model Number: 442 with model SectionalMotif in generation 2 of 5\n",
      "Model Number: 443 with model FFT in generation 2 of 5\n",
      "Model Number: 444 with model ARIMA in generation 2 of 5\n",
      "Model Number: 445 with model ARDL in generation 2 of 5\n",
      "Template Eval Error: ValueError(\"regression_type='User' but future_regressor not supplied\") in model 445 in generation 2: ARDL\n",
      "Model Number: 446 with model SeasonalNaive in generation 2 of 5\n",
      "Model Number: 447 with model ETS in generation 2 of 5\n",
      "Model Number: 448 with model KalmanStateSpace in generation 2 of 5\n",
      "Model Number: 449 with model UnivariateMotif in generation 2 of 5\n",
      "Model Number: 450 with model ARCH in generation 2 of 5\n",
      "Template Eval Error: Exception('Transformer AlignLastValue failed on inverse') in model 450 in generation 2: ARCH\n",
      "Model Number: 451 with model SeasonalNaive in generation 2 of 5\n",
      "Template Eval Error: Exception('Transformer KalmanSmoothing failed on fit') in model 451 in generation 2: SeasonalNaive\n",
      "Model Number: 452 with model Theta in generation 2 of 5\n",
      "Model Number: 453 with model LastValueNaive in generation 2 of 5\n",
      "Model Number: 454 with model KalmanStateSpace in generation 2 of 5\n",
      "Template Eval Error: ValueError(\"Model returned NaN due to a preprocessing transformer {'fillna': 'cubic', 'transformations': {'0': 'bkfilter', '1': 'SinTrend', '2': 'PowerTransformer'}, 'transformation_params': {'0': {}, '1': {}, '2': {}}}. fail_on_forecast_nan=True\") in model 454 in generation 2: KalmanStateSpace\n",
      "Model Number: 455 with model GLS in generation 2 of 5\n",
      "Model Number: 456 with model ARIMA in generation 2 of 5\n",
      "Model Number: 457 with model ARCH in generation 2 of 5\n",
      "Template Eval Error: Exception('Transformer KalmanSmoothing failed on fit') in model 457 in generation 2: ARCH\n",
      "Model Number: 458 with model Theta in generation 2 of 5\n",
      "Model Number: 459 with model DatepartRegression in generation 2 of 5\n",
      "Model Number: 460 with model FBProphet in generation 2 of 5\n",
      "Template Eval Error: Exception('Transformer SinTrend failed on fit') in model 460 in generation 2: FBProphet\n",
      "Model Number: 461 with model WindowRegression in generation 2 of 5\n",
      "Model Number: 462 with model ConstantNaive in generation 2 of 5\n",
      "Template Eval Error: ValueError(\"Model returned NaN due to a preprocessing transformer {'fillna': 'rolling_mean', 'transformations': {'0': 'LevelShiftTransformer', '1': 'MinMaxScaler', '2': 'AlignLastValue'}, 'transformation_params': {'0': {'window_size': 30, 'alpha': 4.0, 'grouping_forward_limit': 3, 'max_level_shifts': 30, 'alignment': 'last_value'}, '1': {}, '2': {'rows': 1, 'lag': 1, 'method': 'multiplicative', 'strength': 1.0, 'first_value_only': False}}}. fail_on_forecast_nan=True\") in model 462 in generation 2: ConstantNaive\n",
      "Model Number: 463 with model ARDL in generation 2 of 5\n",
      "Model Number: 464 with model DatepartRegression in generation 2 of 5\n"
     ]
    },
    {
     "name": "stderr",
     "output_type": "stream",
     "text": [
      "C:\\Users\\ekaushik\\AppData\\Local\\Packages\\PythonSoftwareFoundation.Python.3.8_qbz5n2kfra8p0\\LocalCache\\local-packages\\Python38\\site-packages\\sklearn\\linear_model\\_coordinate_descent.py:2412: ConvergenceWarning: Objective did not converge. You might want to increase the number of iterations. Duality gap: 677703822.9381475, tolerance: 1337668.8900742698\n",
      "  ) = cd_fast.enet_coordinate_descent_multi_task(\n",
      "C:\\Users\\ekaushik\\AppData\\Local\\Packages\\PythonSoftwareFoundation.Python.3.8_qbz5n2kfra8p0\\LocalCache\\local-packages\\Python38\\site-packages\\sklearn\\linear_model\\_ridge.py:200: LinAlgWarning: Ill-conditioned matrix (rcond=4.37717e-25): result may not be accurate.\n",
      "  return linalg.solve(A, Xy, assume_a=\"pos\", overwrite_a=True).T\n"
     ]
    },
    {
     "name": "stdout",
     "output_type": "stream",
     "text": [
      "Model Number: 465 with model MultivariateMotif in generation 2 of 5\n",
      "Model Number: 466 with model Cassandra in generation 2 of 5\n"
     ]
    },
    {
     "name": "stderr",
     "output_type": "stream",
     "text": [
      "C:\\Users\\ekaushik\\AppData\\Local\\Packages\\PythonSoftwareFoundation.Python.3.8_qbz5n2kfra8p0\\LocalCache\\local-packages\\Python38\\site-packages\\numpy\\lib\\function_base.py:2853: RuntimeWarning: invalid value encountered in divide\n",
      "  c /= stddev[:, None]\n",
      "C:\\Users\\ekaushik\\AppData\\Local\\Packages\\PythonSoftwareFoundation.Python.3.8_qbz5n2kfra8p0\\LocalCache\\local-packages\\Python38\\site-packages\\numpy\\lib\\function_base.py:2854: RuntimeWarning: invalid value encountered in divide\n",
      "  c /= stddev[None, :]\n"
     ]
    },
    {
     "name": "stdout",
     "output_type": "stream",
     "text": [
      "Model Number: 467 with model AverageValueNaive in generation 2 of 5\n",
      "Model Number: 468 with model UnobservedComponents in generation 2 of 5\n",
      "Model Number: 469 with model UnobservedComponents in generation 2 of 5\n",
      "Model Number: 470 with model GLM in generation 2 of 5\n",
      "Model Number: 471 with model WindowRegression in generation 2 of 5\n",
      "Model Number: 472 with model LastValueNaive in generation 2 of 5\n"
     ]
    },
    {
     "name": "stderr",
     "output_type": "stream",
     "text": [
      "C:\\Users\\ekaushik\\AppData\\Local\\Packages\\PythonSoftwareFoundation.Python.3.8_qbz5n2kfra8p0\\LocalCache\\local-packages\\Python38\\site-packages\\sklearn\\neural_network\\_multilayer_perceptron.py:546: ConvergenceWarning: lbfgs failed to converge (status=1):\n",
      "STOP: TOTAL NO. of ITERATIONS REACHED LIMIT.\n",
      "\n",
      "Increase the number of iterations (max_iter) or scale the data as shown in:\n",
      "    https://scikit-learn.org/stable/modules/preprocessing.html\n",
      "  self.n_iter_ = _check_optimize_result(\"lbfgs\", opt_res, self.max_iter)\n"
     ]
    },
    {
     "name": "stdout",
     "output_type": "stream",
     "text": [
      "Model Number: 473 with model ARCH in generation 2 of 5\n",
      "Template Eval Error: Exception('Transformer AlignLastValue failed on inverse') in model 473 in generation 2: ARCH\n",
      "Model Number: 474 with model SeasonalNaive in generation 2 of 5\n",
      "Model Number: 475 with model VECM in generation 2 of 5\n",
      "Model Number: 476 with model LastValueNaive in generation 2 of 5\n",
      "Template Eval Error: Exception('Transformer PowerTransformer failed on fit') in model 476 in generation 2: LastValueNaive\n",
      "Model Number: 477 with model AverageValueNaive in generation 2 of 5\n",
      "Model Number: 478 with model SectionalMotif in generation 2 of 5\n",
      "Model Number: 479 with model ConstantNaive in generation 2 of 5\n",
      "Model Number: 480 with model UnobservedComponents in generation 2 of 5\n",
      "Model Number: 481 with model SeasonalNaive in generation 2 of 5\n",
      "Model Number: 482 with model VAR in generation 2 of 5\n",
      "Model Number: 483 with model MetricMotif in generation 2 of 5\n",
      "Model Number: 484 with model ConstantNaive in generation 2 of 5\n",
      "Model Number: 485 with model RRVAR in generation 2 of 5\n",
      "Model Number: 486 with model ARDL in generation 2 of 5\n",
      "Template Eval Error: ValueError(\"ARDL series B failed with error IndexError('tuple index out of range') exog train None and predict None\") in model 486 in generation 2: ARDL\n",
      "Model Number: 487 with model ConstantNaive in generation 2 of 5\n",
      "Model Number: 488 with model FBProphet in generation 2 of 5\n",
      "New Generation: 3 of 5\n",
      "Model Number: 489 with model ARDL in generation 3 of 5\n",
      "Model Number: 490 with model Theta in generation 3 of 5\n",
      "Model Number: 491 with model MultivariateMotif in generation 3 of 5\n",
      "Model Number: 492 with model VAR in generation 3 of 5\n",
      "Model Number: 493 with model ARCH in generation 3 of 5\n",
      "Model Number: 494 with model ARCH in generation 3 of 5\n",
      "Model Number: 495 with model FBProphet in generation 3 of 5\n",
      "Model Number: 496 with model WindowRegression in generation 3 of 5\n",
      "Model Number: 497 with model AverageValueNaive in generation 3 of 5\n",
      "Model Number: 498 with model KalmanStateSpace in generation 3 of 5\n",
      "Model Number: 499 with model SectionalMotif in generation 3 of 5\n",
      "Model Number: 500 with model Theta in generation 3 of 5\n",
      "Model Number: 501 with model SeasonalityMotif in generation 3 of 5\n",
      "Model Number: 502 with model UnobservedComponents in generation 3 of 5\n",
      "Template Eval Error: Exception('Transformer PowerTransformer failed on fit') in model 502 in generation 3: UnobservedComponents\n",
      "Model Number: 503 with model LastValueNaive in generation 3 of 5\n",
      "Model Number: 504 with model ConstantNaive in generation 3 of 5\n"
     ]
    },
    {
     "name": "stderr",
     "output_type": "stream",
     "text": [
      "C:\\Users\\ekaushik\\AppData\\Local\\Packages\\PythonSoftwareFoundation.Python.3.8_qbz5n2kfra8p0\\LocalCache\\local-packages\\Python38\\site-packages\\numpy\\core\\_methods.py:236: RuntimeWarning: overflow encountered in multiply\n",
      "  x = um.multiply(x, x, out=x)\n",
      "C:\\Users\\ekaushik\\AppData\\Local\\Packages\\PythonSoftwareFoundation.Python.3.8_qbz5n2kfra8p0\\LocalCache\\local-packages\\Python38\\site-packages\\numpy\\core\\_methods.py:247: RuntimeWarning: overflow encountered in reduce\n",
      "  ret = umr_sum(x, axis, dtype, out, keepdims=keepdims, where=where)\n",
      "C:\\Users\\ekaushik\\AppData\\Local\\Packages\\PythonSoftwareFoundation.Python.3.8_qbz5n2kfra8p0\\LocalCache\\local-packages\\Python38\\site-packages\\sklearn\\preprocessing\\_data.py:3308: RuntimeWarning: overflow encountered in power\n",
      "  out[pos] = (np.power(x[pos] + 1, lmbda) - 1) / lmbda\n"
     ]
    },
    {
     "name": "stdout",
     "output_type": "stream",
     "text": [
      "Model Number: 505 with model FBProphet in generation 3 of 5\n",
      "Template Eval Error: ValueError(\"regression_type='User' but no future_regressor passed\") in model 505 in generation 3: FBProphet\n",
      "Model Number: 506 with model Theta in generation 3 of 5\n",
      "Template Eval Error: Exception('Transformer KalmanSmoothing failed on fit') in model 506 in generation 3: Theta\n",
      "Model Number: 507 with model ETS in generation 3 of 5\n",
      "Model Number: 508 with model ARIMA in generation 3 of 5\n",
      "Model Number: 509 with model AverageValueNaive in generation 3 of 5\n",
      "Model Number: 510 with model VAR in generation 3 of 5\n",
      "Model Number: 511 with model ARIMA in generation 3 of 5\n",
      "Model Number: 512 with model GLS in generation 3 of 5\n",
      "Model Number: 513 with model VECM in generation 3 of 5\n",
      "Template Eval Error: ValueError(\"regression_type='User' but no future_regressor supplied\") in model 513 in generation 3: VECM\n",
      "Model Number: 514 with model UnobservedComponents in generation 3 of 5\n",
      "Model Number: 515 with model SeasonalNaive in generation 3 of 5\n",
      "Model Number: 516 with model ETS in generation 3 of 5\n",
      "Model Number: 517 with model SeasonalityMotif in generation 3 of 5\n",
      "Model Number: 518 with model AverageValueNaive in generation 3 of 5\n",
      "Model Number: 519 with model MultivariateMotif in generation 3 of 5\n",
      "Model Number: 520 with model SectionalMotif in generation 3 of 5\n",
      "Model Number: 521 with model WindowRegression in generation 3 of 5\n",
      "Model Number: 522 with model UnivariateMotif in generation 3 of 5\n"
     ]
    },
    {
     "name": "stderr",
     "output_type": "stream",
     "text": [
      "C:\\Users\\ekaushik\\AppData\\Local\\Packages\\PythonSoftwareFoundation.Python.3.8_qbz5n2kfra8p0\\LocalCache\\local-packages\\Python38\\site-packages\\sklearn\\neural_network\\_multilayer_perceptron.py:546: ConvergenceWarning: lbfgs failed to converge (status=1):\n",
      "STOP: TOTAL NO. of ITERATIONS REACHED LIMIT.\n",
      "\n",
      "Increase the number of iterations (max_iter) or scale the data as shown in:\n",
      "    https://scikit-learn.org/stable/modules/preprocessing.html\n",
      "  self.n_iter_ = _check_optimize_result(\"lbfgs\", opt_res, self.max_iter)\n"
     ]
    },
    {
     "name": "stdout",
     "output_type": "stream",
     "text": [
      "Model Number: 523 with model MAR in generation 3 of 5\n",
      "Model Number: 524 with model VECM in generation 3 of 5\n",
      "Template Eval Error: ValueError(\"regression_type='User' but no future_regressor supplied\") in model 524 in generation 3: VECM\n",
      "Model Number: 525 with model ETS in generation 3 of 5\n",
      "Model Number: 526 with model SeasonalityMotif in generation 3 of 5\n",
      "Model Number: 527 with model Theta in generation 3 of 5\n",
      "Model Number: 528 with model UnobservedComponents in generation 3 of 5\n",
      "Template Eval Error: ValueError(\"regression_type='User' but no future_regressor supplied\") in model 528 in generation 3: UnobservedComponents\n",
      "Model Number: 529 with model ETS in generation 3 of 5\n",
      "Model Number: 530 with model VAR in generation 3 of 5\n",
      "Template Eval Error: LinAlgError('5-th leading minor of the array is not positive definite') in model 530 in generation 3: VAR\n",
      "Model Number: 531 with model RRVAR in generation 3 of 5\n",
      "Model Number: 532 with model MetricMotif in generation 3 of 5\n",
      "Model Number: 533 with model SeasonalityMotif in generation 3 of 5\n",
      "Model Number: 534 with model WindowRegression in generation 3 of 5\n",
      "Model Number: 535 with model Theta in generation 3 of 5\n",
      "Model Number: 536 with model RRVAR in generation 3 of 5\n",
      "Model Number: 537 with model ETS in generation 3 of 5\n",
      "Model Number: 538 with model LastValueNaive in generation 3 of 5\n",
      "Model Number: 539 with model FFT in generation 3 of 5\n",
      "Model Number: 540 with model ARCH in generation 3 of 5\n",
      "Model Number: 541 with model ARIMA in generation 3 of 5\n",
      "Model Number: 542 with model ConstantNaive in generation 3 of 5\n",
      "Model Number: 543 with model SeasonalNaive in generation 3 of 5\n",
      "Model Number: 544 with model LastValueNaive in generation 3 of 5\n",
      "Model Number: 545 with model MetricMotif in generation 3 of 5\n",
      "Model Number: 546 with model UnobservedComponents in generation 3 of 5\n",
      "Model Number: 547 with model VAR in generation 3 of 5\n",
      "Model Number: 548 with model FFT in generation 3 of 5\n",
      "Model Number: 549 with model DatepartRegression in generation 3 of 5\n",
      "Model Number: 550 with model ARDL in generation 3 of 5\n",
      "Template Eval Error: ValueError(\"ARDL series A failed with error IndexError('tuple index out of range') exog train None and predict None\") in model 550 in generation 3: ARDL\n",
      "Model Number: 551 with model SeasonalNaive in generation 3 of 5\n",
      "Model Number: 552 with model ETS in generation 3 of 5\n",
      "Model Number: 553 with model MultivariateMotif in generation 3 of 5\n",
      "Model Number: 554 with model LastValueNaive in generation 3 of 5\n",
      "Model Number: 555 with model Theta in generation 3 of 5\n",
      "Template Eval Error: Exception('Transformer DatepartRegression failed on fit') in model 555 in generation 3: Theta\n",
      "Model Number: 556 with model ETS in generation 3 of 5\n",
      "Model Number: 557 with model SectionalMotif in generation 3 of 5\n",
      "Model Number: 558 with model ETS in generation 3 of 5\n",
      "Model Number: 559 with model LastValueNaive in generation 3 of 5\n",
      "Model Number: 560 with model ETS in generation 3 of 5\n",
      "Model Number: 561 with model KalmanStateSpace in generation 3 of 5\n",
      "Model Number: 562 with model Cassandra in generation 3 of 5\n"
     ]
    },
    {
     "name": "stderr",
     "output_type": "stream",
     "text": [
      "C:\\Users\\ekaushik\\AppData\\Local\\Packages\\PythonSoftwareFoundation.Python.3.8_qbz5n2kfra8p0\\LocalCache\\local-packages\\Python38\\site-packages\\numpy\\lib\\function_base.py:2853: RuntimeWarning: invalid value encountered in divide\n",
      "  c /= stddev[:, None]\n",
      "C:\\Users\\ekaushik\\AppData\\Local\\Packages\\PythonSoftwareFoundation.Python.3.8_qbz5n2kfra8p0\\LocalCache\\local-packages\\Python38\\site-packages\\numpy\\lib\\function_base.py:2854: RuntimeWarning: invalid value encountered in divide\n",
      "  c /= stddev[None, :]\n"
     ]
    },
    {
     "name": "stdout",
     "output_type": "stream",
     "text": [
      "Template Eval Error: Exception('Transformer AlignLastValue failed on inverse') in model 562 in generation 3: Cassandra\n",
      "Model Number: 563 with model AverageValueNaive in generation 3 of 5\n",
      "Template Eval Error: Exception('Transformer QuantileTransformer failed on inverse') in model 563 in generation 3: AverageValueNaive\n",
      "Model Number: 564 with model SectionalMotif in generation 3 of 5\n",
      "Model Number: 565 with model ARDL in generation 3 of 5\n",
      "Model Number: 566 with model SeasonalNaive in generation 3 of 5\n",
      "Template Eval Error: Exception('Transformer AlignLastValue failed on inverse') in model 566 in generation 3: SeasonalNaive\n",
      "Model Number: 567 with model VECM in generation 3 of 5\n",
      "Template Eval Error: Exception('Transformer AlignLastValue failed on inverse') in model 567 in generation 3: VECM\n",
      "Model Number: 568 with model KalmanStateSpace in generation 3 of 5\n",
      "Model Number: 569 with model UnivariateMotif in generation 3 of 5\n",
      "Model Number: 570 with model VECM in generation 3 of 5\n",
      "Model Number: 571 with model VAR in generation 3 of 5\n",
      "Model Number: 572 with model ARCH in generation 3 of 5\n",
      "Template Eval Error: ValueError(\"regression_type='User' but future_regressor not supplied\") in model 572 in generation 3: ARCH\n",
      "Model Number: 573 with model GLS in generation 3 of 5\n",
      "Model Number: 574 with model VAR in generation 3 of 5\n",
      "Model Number: 575 with model AverageValueNaive in generation 3 of 5\n",
      "Model Number: 576 with model ConstantNaive in generation 3 of 5\n",
      "Model Number: 577 with model GLM in generation 3 of 5\n",
      "Template Eval Error: ValueError('The first guess on the deviance function returned a nan.  This could be a boundary  problem and should be reported.') in model 577 in generation 3: GLM\n",
      "Model Number: 578 with model ARDL in generation 3 of 5\n",
      "Model Number: 579 with model VECM in generation 3 of 5\n",
      "Model Number: 580 with model VAR in generation 3 of 5\n",
      "Model Number: 581 with model MultivariateMotif in generation 3 of 5\n",
      "Model Number: 582 with model SeasonalityMotif in generation 3 of 5\n",
      "Model Number: 583 with model VAR in generation 3 of 5\n",
      "Model Number: 584 with model NVAR in generation 3 of 5\n",
      "Model Number: 585 with model ARCH in generation 3 of 5\n"
     ]
    },
    {
     "name": "stderr",
     "output_type": "stream",
     "text": [
      "C:\\Users\\ekaushik\\AppData\\Local\\Packages\\PythonSoftwareFoundation.Python.3.8_qbz5n2kfra8p0\\LocalCache\\local-packages\\Python38\\site-packages\\sklearn\\linear_model\\_ridge.py:200: LinAlgWarning: Ill-conditioned matrix (rcond=4.37717e-25): result may not be accurate.\n",
      "  return linalg.solve(A, Xy, assume_a=\"pos\", overwrite_a=True).T\n"
     ]
    },
    {
     "name": "stdout",
     "output_type": "stream",
     "text": [
      "Template Eval Error: ValueError('p and q must be either 0 or 1.') in model 585 in generation 3: ARCH\n",
      "Model Number: 586 with model LastValueNaive in generation 3 of 5\n",
      "Model Number: 587 with model SeasonalityMotif in generation 3 of 5\n",
      "Model Number: 588 with model FBProphet in generation 3 of 5\n",
      "Model Number: 589 with model RRVAR in generation 3 of 5\n",
      "Model Number: 590 with model GLM in generation 3 of 5\n",
      "Model Number: 591 with model KalmanStateSpace in generation 3 of 5\n",
      "Model Number: 592 with model ARCH in generation 3 of 5\n",
      "Template Eval Error: ValueError('p and q must be either 0 or 1.') in model 592 in generation 3: ARCH\n",
      "Model Number: 593 with model AverageValueNaive in generation 3 of 5\n",
      "Model Number: 594 with model UnobservedComponents in generation 3 of 5\n",
      "Model Number: 595 with model FBProphet in generation 3 of 5\n",
      "Model Number: 596 with model UnobservedComponents in generation 3 of 5\n",
      "Model Number: 597 with model Theta in generation 3 of 5\n",
      "Model Number: 598 with model DatepartRegression in generation 3 of 5\n",
      "Template Eval Error: ValueError(\"regression_type='User' but no future_regressor passed\") in model 598 in generation 3: DatepartRegression\n",
      "Model Number: 599 with model VAR in generation 3 of 5\n",
      "Model Number: 600 with model SectionalMotif in generation 3 of 5\n",
      "Model Number: 601 with model FFT in generation 3 of 5\n",
      "Model Number: 602 with model UnobservedComponents in generation 3 of 5\n",
      "Model Number: 603 with model AverageValueNaive in generation 3 of 5\n",
      "Model Number: 604 with model SectionalMotif in generation 3 of 5\n",
      "Model Number: 605 with model ARDL in generation 3 of 5\n",
      "Template Eval Error: ValueError(\"regression_type='User' but future_regressor not supplied\") in model 605 in generation 3: ARDL\n",
      "Model Number: 606 with model VECM in generation 3 of 5\n",
      "Model Number: 607 with model WindowRegression in generation 3 of 5\n",
      "Model Number: 608 with model ETS in generation 3 of 5\n",
      "Model Number: 609 with model WindowRegression in generation 3 of 5\n",
      "Template Eval Error: ModuleNotFoundError(\"No module named 'lightgbm'\") in model 609 in generation 3: WindowRegression\n",
      "Model Number: 610 with model KalmanStateSpace in generation 3 of 5\n",
      "Model Number: 611 with model MultivariateMotif in generation 3 of 5\n",
      "Model Number: 612 with model ConstantNaive in generation 3 of 5\n",
      "Model Number: 613 with model Theta in generation 3 of 5\n",
      "Template Eval Error: Exception('Transformer DatepartRegression failed on fit') in model 613 in generation 3: Theta\n",
      "Model Number: 614 with model UnobservedComponents in generation 3 of 5\n",
      "Model Number: 615 with model LastValueNaive in generation 3 of 5\n",
      "Model Number: 616 with model VECM in generation 3 of 5\n",
      "Model Number: 617 with model SeasonalNaive in generation 3 of 5\n",
      "Model Number: 618 with model KalmanStateSpace in generation 3 of 5\n",
      "Model Number: 619 with model ETS in generation 3 of 5\n",
      "Model Number: 620 with model MultivariateMotif in generation 3 of 5\n",
      "Model Number: 621 with model UnivariateMotif in generation 3 of 5\n",
      "Model Number: 622 with model MAR in generation 3 of 5\n",
      "Template Eval Error: ValueError('Shape of passed values is (14, 5), indices imply (15, 5)') in model 622 in generation 3: MAR\n",
      "Model Number: 623 with model VECM in generation 3 of 5\n",
      "Model Number: 624 with model Theta in generation 3 of 5\n",
      "Model Number: 625 with model KalmanStateSpace in generation 3 of 5\n",
      "Model Number: 626 with model Theta in generation 3 of 5\n",
      "Model Number: 627 with model ETS in generation 3 of 5\n",
      "Model Number: 628 with model UnobservedComponents in generation 3 of 5\n",
      "Model Number: 629 with model GLS in generation 3 of 5\n",
      "Model Number: 630 with model ARIMA in generation 3 of 5\n",
      "Model Number: 631 with model FBProphet in generation 3 of 5\n",
      "Model Number: 632 with model SeasonalityMotif in generation 3 of 5\n",
      "Model Number: 633 with model VECM in generation 3 of 5\n",
      "New Generation: 4 of 5\n",
      "Model Number: 634 with model LastValueNaive in generation 4 of 5\n",
      "Model Number: 635 with model WindowRegression in generation 4 of 5\n",
      "Model Number: 636 with model ARDL in generation 4 of 5\n",
      "Model Number: 637 with model FBProphet in generation 4 of 5\n",
      "Model Number: 638 with model SeasonalityMotif in generation 4 of 5\n",
      "Model Number: 639 with model Cassandra in generation 4 of 5\n",
      "Model Number: 640 with model LastValueNaive in generation 4 of 5\n"
     ]
    },
    {
     "name": "stderr",
     "output_type": "stream",
     "text": [
      "C:\\Users\\ekaushik\\AppData\\Local\\Packages\\PythonSoftwareFoundation.Python.3.8_qbz5n2kfra8p0\\LocalCache\\local-packages\\Python38\\site-packages\\numpy\\lib\\function_base.py:2853: RuntimeWarning: invalid value encountered in divide\n",
      "  c /= stddev[:, None]\n",
      "C:\\Users\\ekaushik\\AppData\\Local\\Packages\\PythonSoftwareFoundation.Python.3.8_qbz5n2kfra8p0\\LocalCache\\local-packages\\Python38\\site-packages\\numpy\\lib\\function_base.py:2854: RuntimeWarning: invalid value encountered in divide\n",
      "  c /= stddev[None, :]\n"
     ]
    },
    {
     "name": "stdout",
     "output_type": "stream",
     "text": [
      "Model Number: 641 with model RRVAR in generation 4 of 5\n",
      "Model Number: 642 with model LastValueNaive in generation 4 of 5\n",
      "Model Number: 643 with model UnivariateMotif in generation 4 of 5\n",
      "Model Number: 644 with model DatepartRegression in generation 4 of 5\n",
      "Model Number: 645 with model Theta in generation 4 of 5\n",
      "Model Number: 646 with model VECM in generation 4 of 5\n",
      "Model Number: 647 with model VECM in generation 4 of 5\n",
      "Model Number: 648 with model LastValueNaive in generation 4 of 5\n",
      "Model Number: 649 with model ARDL in generation 4 of 5\n",
      "Model Number: 650 with model FFT in generation 4 of 5\n",
      "Model Number: 651 with model Cassandra in generation 4 of 5\n",
      "Model Number: 652 with model FFT in generation 4 of 5\n",
      "Model Number: 653 with model UnobservedComponents in generation 4 of 5\n"
     ]
    },
    {
     "name": "stderr",
     "output_type": "stream",
     "text": [
      "C:\\Users\\ekaushik\\AppData\\Local\\Packages\\PythonSoftwareFoundation.Python.3.8_qbz5n2kfra8p0\\LocalCache\\local-packages\\Python38\\site-packages\\numpy\\lib\\function_base.py:2853: RuntimeWarning: invalid value encountered in divide\n",
      "  c /= stddev[:, None]\n",
      "C:\\Users\\ekaushik\\AppData\\Local\\Packages\\PythonSoftwareFoundation.Python.3.8_qbz5n2kfra8p0\\LocalCache\\local-packages\\Python38\\site-packages\\numpy\\lib\\function_base.py:2854: RuntimeWarning: invalid value encountered in divide\n",
      "  c /= stddev[None, :]\n"
     ]
    },
    {
     "name": "stdout",
     "output_type": "stream",
     "text": [
      "Model Number: 654 with model ARDL in generation 4 of 5\n",
      "Model Number: 655 with model UnivariateMotif in generation 4 of 5\n",
      "Model Number: 656 with model BallTreeMultivariateMotif in generation 4 of 5\n",
      "Template Eval Error: TypeError('1D weights expected when shapes of a and weights differ.') in model 656 in generation 4: BallTreeMultivariateMotif\n",
      "Model Number: 657 with model VECM in generation 4 of 5\n",
      "Model Number: 658 with model VAR in generation 4 of 5\n",
      "Model Number: 659 with model ETS in generation 4 of 5\n",
      "Model Number: 660 with model ARDL in generation 4 of 5\n",
      "Model Number: 661 with model SeasonalityMotif in generation 4 of 5\n",
      "Model Number: 662 with model SeasonalNaive in generation 4 of 5\n",
      "Model Number: 663 with model KalmanStateSpace in generation 4 of 5\n",
      "Model Number: 664 with model WindowRegression in generation 4 of 5\n",
      "Model Number: 665 with model UnobservedComponents in generation 4 of 5\n",
      "Template Eval Error: ValueError(\"Model returned NaN due to a preprocessing transformer {'fillna': 'pchip', 'transformations': {'0': 'AlignLastValue', '1': 'SinTrend', '2': 'PowerTransformer', '3': 'AlignLastValue'}, 'transformation_params': {'0': {'rows': 1, 'lag': 1, 'method': 'additive', 'strength': 0.2, 'first_value_only': False}, '1': {}, '2': {}, '3': {'rows': 1, 'lag': 2, 'method': 'additive', 'strength': 1.0, 'first_value_only': False}}}. fail_on_forecast_nan=True\") in model 665 in generation 4: UnobservedComponents\n",
      "Model Number: 666 with model ConstantNaive in generation 4 of 5\n",
      "Template Eval Error: ValueError(\"Model returned NaN due to a preprocessing transformer {'fillna': 'rolling_mean', 'transformations': {'0': 'Round', '1': 'Slice', '2': 'PowerTransformer', '3': 'MaxAbsScaler', '4': 'RobustScaler', '5': 'RobustScaler'}, 'transformation_params': {'0': {'decimals': -2, 'on_transform': False, 'on_inverse': True}, '1': {'method': 100}, '2': {}, '3': {}, '4': {}, '5': {}}}. fail_on_forecast_nan=True\") in model 666 in generation 4: ConstantNaive\n",
      "Model Number: 667 with model AverageValueNaive in generation 4 of 5\n",
      "Model Number: 668 with model SectionalMotif in generation 4 of 5\n",
      "Model Number: 669 with model Theta in generation 4 of 5\n",
      "Model Number: 670 with model ARIMA in generation 4 of 5\n",
      "Model Number: 671 with model SeasonalNaive in generation 4 of 5\n",
      "Model Number: 672 with model WindowRegression in generation 4 of 5\n",
      "Template Eval Error: ModuleNotFoundError(\"No module named 'lightgbm'\") in model 672 in generation 4: WindowRegression\n",
      "Model Number: 673 with model SeasonalNaive in generation 4 of 5\n",
      "Model Number: 674 with model ETS in generation 4 of 5\n",
      "Model Number: 675 with model ARIMA in generation 4 of 5\n",
      "Model Number: 676 with model FFT in generation 4 of 5\n",
      "Model Number: 677 with model UnobservedComponents in generation 4 of 5\n",
      "Model Number: 678 with model RRVAR in generation 4 of 5\n",
      "Model Number: 679 with model Theta in generation 4 of 5\n",
      "Model Number: 680 with model UnivariateMotif in generation 4 of 5\n",
      "Model Number: 681 with model MAR in generation 4 of 5\n",
      "Model Number: 682 with model KalmanStateSpace in generation 4 of 5\n",
      "Model Number: 683 with model ARDL in generation 4 of 5\n",
      "Model Number: 684 with model ARIMA in generation 4 of 5\n",
      "Model Number: 685 with model FFT in generation 4 of 5\n",
      "Model Number: 686 with model LastValueNaive in generation 4 of 5\n",
      "Model Number: 687 with model Theta in generation 4 of 5\n",
      "Model Number: 688 with model SeasonalNaive in generation 4 of 5\n",
      "Model Number: 689 with model GLM in generation 4 of 5\n",
      "Template Eval Error: ValueError('The first guess on the deviance function returned a nan.  This could be a boundary  problem and should be reported.') in model 689 in generation 4: GLM\n",
      "Model Number: 690 with model MultivariateMotif in generation 4 of 5\n",
      "Model Number: 691 with model Theta in generation 4 of 5\n",
      "Model Number: 692 with model ConstantNaive in generation 4 of 5\n",
      "Model Number: 693 with model MetricMotif in generation 4 of 5\n",
      "Template Eval Error: Exception('Transformer StandardScaler failed on inverse') in model 693 in generation 4: MetricMotif\n",
      "Model Number: 694 with model SeasonalityMotif in generation 4 of 5\n",
      "Model Number: 695 with model ETS in generation 4 of 5\n",
      "Model Number: 696 with model VAR in generation 4 of 5\n",
      "Model Number: 697 with model AverageValueNaive in generation 4 of 5\n",
      "Model Number: 698 with model ARIMA in generation 4 of 5\n",
      "Model Number: 699 with model SeasonalityMotif in generation 4 of 5\n",
      "Model Number: 700 with model FBProphet in generation 4 of 5\n",
      "Model Number: 701 with model MetricMotif in generation 4 of 5\n",
      "Model Number: 702 with model UnobservedComponents in generation 4 of 5\n",
      "Model Number: 703 with model VAR in generation 4 of 5\n",
      "Template Eval Error: Exception('Transformer KalmanSmoothing failed on fit') in model 703 in generation 4: VAR\n",
      "Model Number: 704 with model FBProphet in generation 4 of 5\n",
      "Model Number: 705 with model ETS in generation 4 of 5\n",
      "Model Number: 706 with model KalmanStateSpace in generation 4 of 5\n",
      "Model Number: 707 with model AverageValueNaive in generation 4 of 5\n",
      "Model Number: 708 with model FBProphet in generation 4 of 5\n",
      "Model Number: 709 with model ConstantNaive in generation 4 of 5\n",
      "Model Number: 710 with model LastValueNaive in generation 4 of 5\n",
      "Model Number: 711 with model ConstantNaive in generation 4 of 5\n",
      "Model Number: 712 with model ETS in generation 4 of 5\n",
      "Model Number: 713 with model AverageValueNaive in generation 4 of 5\n",
      "Model Number: 714 with model SectionalMotif in generation 4 of 5\n",
      "Model Number: 715 with model WindowRegression in generation 4 of 5\n",
      "Model Number: 716 with model SeasonalityMotif in generation 4 of 5\n",
      "Template Eval Error: Exception('Transformer AlignLastValue failed on inverse') in model 716 in generation 4: SeasonalityMotif\n",
      "Model Number: 717 with model MAR in generation 4 of 5\n",
      "Model Number: 718 with model DatepartRegression in generation 4 of 5\n",
      "Model Number: 719 with model KalmanStateSpace in generation 4 of 5\n",
      "Model Number: 720 with model ConstantNaive in generation 4 of 5\n",
      "Model Number: 721 with model VAR in generation 4 of 5\n",
      "Model Number: 722 with model UnobservedComponents in generation 4 of 5\n",
      "Model Number: 723 with model KalmanStateSpace in generation 4 of 5\n",
      "Model Number: 724 with model SeasonalityMotif in generation 4 of 5\n",
      "Model Number: 725 with model Theta in generation 4 of 5\n",
      "Model Number: 726 with model ARDL in generation 4 of 5\n",
      "Model Number: 727 with model SectionalMotif in generation 4 of 5\n",
      "Model Number: 728 with model ARIMA in generation 4 of 5\n",
      "Model Number: 729 with model Theta in generation 4 of 5\n",
      "Model Number: 730 with model ARCH in generation 4 of 5\n",
      "Template Eval Error: ValueError(\"Model returned NaN due to a preprocessing transformer {'fillna': 'quadratic', 'transformations': {'0': 'AlignLastValue', '1': 'AnomalyRemoval', '2': 'PowerTransformer'}, 'transformation_params': {'0': {'rows': 1, 'lag': 1, 'method': 'additive', 'strength': 0.2, 'first_value_only': False}, '1': {'method': 'minmax', 'method_params': {'alpha': 0.05}, 'fillna': 'ffill', 'transform_dict': None}, '2': {}}}. fail_on_forecast_nan=True\") in model 730 in generation 4: ARCH\n",
      "Model Number: 731 with model AverageValueNaive in generation 4 of 5\n",
      "Model Number: 732 with model LastValueNaive in generation 4 of 5\n",
      "Model Number: 733 with model KalmanStateSpace in generation 4 of 5\n",
      "Model Number: 734 with model VECM in generation 4 of 5\n",
      "Model Number: 735 with model SeasonalNaive in generation 4 of 5\n",
      "Model Number: 736 with model DatepartRegression in generation 4 of 5\n",
      "Model Number: 737 with model AverageValueNaive in generation 4 of 5\n",
      "Model Number: 738 with model MetricMotif in generation 4 of 5\n"
     ]
    },
    {
     "name": "stderr",
     "output_type": "stream",
     "text": [
      "C:\\Users\\ekaushik\\AppData\\Local\\Packages\\PythonSoftwareFoundation.Python.3.8_qbz5n2kfra8p0\\LocalCache\\local-packages\\Python38\\site-packages\\sklearn\\neural_network\\_multilayer_perceptron.py:546: ConvergenceWarning: lbfgs failed to converge (status=1):\n",
      "STOP: TOTAL NO. of ITERATIONS REACHED LIMIT.\n",
      "\n",
      "Increase the number of iterations (max_iter) or scale the data as shown in:\n",
      "    https://scikit-learn.org/stable/modules/preprocessing.html\n",
      "  self.n_iter_ = _check_optimize_result(\"lbfgs\", opt_res, self.max_iter)\n"
     ]
    },
    {
     "name": "stdout",
     "output_type": "stream",
     "text": [
      "Model Number: 739 with model UnobservedComponents in generation 4 of 5\n",
      "Model Number: 740 with model AverageValueNaive in generation 4 of 5\n",
      "Model Number: 741 with model AverageValueNaive in generation 4 of 5\n",
      "Template Eval Error: Exception('Transformer KalmanSmoothing failed on fit') in model 741 in generation 4: AverageValueNaive\n",
      "Model Number: 742 with model ETS in generation 4 of 5\n",
      "Model Number: 743 with model MultivariateMotif in generation 4 of 5\n",
      "Model Number: 744 with model VECM in generation 4 of 5\n",
      "Model Number: 745 with model VECM in generation 4 of 5\n",
      "Model Number: 746 with model ETS in generation 4 of 5\n",
      "Template Eval Error: Exception('Transformer RegressionFilter failed on fit') in model 746 in generation 4: ETS\n",
      "Model Number: 747 with model Theta in generation 4 of 5\n",
      "Model Number: 748 with model VECM in generation 4 of 5\n",
      "Model Number: 749 with model FBProphet in generation 4 of 5\n",
      "Template Eval Error: ValueError(\"regression_type='User' but no future_regressor passed\") in model 749 in generation 4: FBProphet\n",
      "Model Number: 750 with model WindowRegression in generation 4 of 5\n",
      "Template Eval Error: ValueError(\"regression_type='User' but no future_regressor passed\") in model 750 in generation 4: WindowRegression\n",
      "Model Number: 751 with model KalmanStateSpace in generation 4 of 5\n",
      "Model Number: 752 with model KalmanStateSpace in generation 4 of 5\n",
      "Model Number: 753 with model SeasonalityMotif in generation 4 of 5\n",
      "Model Number: 754 with model LastValueNaive in generation 4 of 5\n",
      "Model Number: 755 with model ETS in generation 4 of 5\n",
      "Model Number: 756 with model UnobservedComponents in generation 4 of 5\n",
      "Template Eval Error: ValueError(\"Model returned NaN due to a preprocessing transformer {'fillna': 'KNNImputer', 'transformations': {'0': 'AlignLastValue', '1': 'SinTrend', '2': 'PowerTransformer'}, 'transformation_params': {'0': {'rows': 1, 'lag': 1, 'method': 'additive', 'strength': 0.2, 'first_value_only': False}, '1': {}, '2': {}}}. fail_on_forecast_nan=True\") in model 756 in generation 4: UnobservedComponents\n",
      "Model Number: 757 with model FFT in generation 4 of 5\n",
      "Model Number: 758 with model UnobservedComponents in generation 4 of 5\n",
      "Model Number: 759 with model KalmanStateSpace in generation 4 of 5\n",
      "Template Eval Error: Exception('Transformer AlignLastValue failed on inverse') in model 759 in generation 4: KalmanStateSpace\n",
      "Model Number: 760 with model SeasonalNaive in generation 4 of 5\n",
      "Model Number: 761 with model SectionalMotif in generation 4 of 5\n",
      "Model Number: 762 with model UnobservedComponents in generation 4 of 5\n",
      "Model Number: 763 with model ConstantNaive in generation 4 of 5\n",
      "Model Number: 764 with model Cassandra in generation 4 of 5\n"
     ]
    },
    {
     "name": "stderr",
     "output_type": "stream",
     "text": [
      "C:\\Users\\ekaushik\\AppData\\Local\\Packages\\PythonSoftwareFoundation.Python.3.8_qbz5n2kfra8p0\\LocalCache\\local-packages\\Python38\\site-packages\\sklearn\\linear_model\\_coordinate_descent.py:2412: ConvergenceWarning: Objective did not converge. You might want to increase the number of iterations. Duality gap: 270030507.1339956, tolerance: 104644.38651695284\n",
      "  ) = cd_fast.enet_coordinate_descent_multi_task(\n",
      "C:\\Users\\ekaushik\\AppData\\Local\\Packages\\PythonSoftwareFoundation.Python.3.8_qbz5n2kfra8p0\\LocalCache\\local-packages\\Python38\\site-packages\\numpy\\lib\\function_base.py:2853: RuntimeWarning: invalid value encountered in divide\n",
      "  c /= stddev[:, None]\n",
      "C:\\Users\\ekaushik\\AppData\\Local\\Packages\\PythonSoftwareFoundation.Python.3.8_qbz5n2kfra8p0\\LocalCache\\local-packages\\Python38\\site-packages\\numpy\\lib\\function_base.py:2854: RuntimeWarning: invalid value encountered in divide\n",
      "  c /= stddev[None, :]\n"
     ]
    },
    {
     "name": "stdout",
     "output_type": "stream",
     "text": [
      "Model Number: 765 with model UnobservedComponents in generation 4 of 5\n",
      "Model Number: 766 with model SeasonalityMotif in generation 4 of 5\n",
      "Model Number: 767 with model FBProphet in generation 4 of 5\n",
      "Model Number: 768 with model FFT in generation 4 of 5\n",
      "Model Number: 769 with model MultivariateMotif in generation 4 of 5\n",
      "Model Number: 770 with model FFT in generation 4 of 5\n",
      "Model Number: 771 with model MultivariateMotif in generation 4 of 5\n",
      "Model Number: 772 with model FFT in generation 4 of 5\n",
      "Model Number: 773 with model MetricMotif in generation 4 of 5\n",
      "Model Number: 774 with model SectionalMotif in generation 4 of 5\n",
      "Model Number: 775 with model ConstantNaive in generation 4 of 5\n",
      "Model Number: 776 with model FBProphet in generation 4 of 5\n",
      "Model Number: 777 with model GLM in generation 4 of 5\n",
      "Model Number: 778 with model GLS in generation 4 of 5\n",
      "New Generation: 5 of 5\n",
      "Model Number: 779 with model FBProphet in generation 5 of 5\n"
     ]
    },
    {
     "name": "stderr",
     "output_type": "stream",
     "text": [
      "C:\\Users\\ekaushik\\AppData\\Local\\Packages\\PythonSoftwareFoundation.Python.3.8_qbz5n2kfra8p0\\LocalCache\\local-packages\\Python38\\site-packages\\sklearn\\linear_model\\_ridge.py:200: LinAlgWarning: Ill-conditioned matrix (rcond=4.37717e-25): result may not be accurate.\n",
      "  return linalg.solve(A, Xy, assume_a=\"pos\", overwrite_a=True).T\n"
     ]
    },
    {
     "name": "stdout",
     "output_type": "stream",
     "text": [
      "Model Number: 780 with model ARDL in generation 5 of 5\n",
      "Model Number: 781 with model ETS in generation 5 of 5\n",
      "Model Number: 782 with model VECM in generation 5 of 5\n",
      "Model Number: 783 with model FBProphet in generation 5 of 5\n",
      "Model Number: 784 with model MAR in generation 5 of 5\n",
      "Model Number: 785 with model ETS in generation 5 of 5\n",
      "Model Number: 786 with model FFT in generation 5 of 5\n",
      "Model Number: 787 with model ARIMA in generation 5 of 5\n",
      "Template Eval Error: ValueError(\"regression_type='User' but future_regressor not supplied\") in model 787 in generation 5: ARIMA\n",
      "Model Number: 788 with model UnobservedComponents in generation 5 of 5\n",
      "Model Number: 789 with model MetricMotif in generation 5 of 5\n",
      "Model Number: 790 with model AverageValueNaive in generation 5 of 5\n",
      "Model Number: 791 with model FFT in generation 5 of 5\n",
      "Model Number: 792 with model LastValueNaive in generation 5 of 5\n",
      "Model Number: 793 with model WindowRegression in generation 5 of 5\n",
      "Model Number: 794 with model KalmanStateSpace in generation 5 of 5\n",
      "Model Number: 795 with model UnivariateMotif in generation 5 of 5\n",
      "Model Number: 796 with model LastValueNaive in generation 5 of 5\n",
      "Model Number: 797 with model LastValueNaive in generation 5 of 5\n",
      "Model Number: 798 with model ARIMA in generation 5 of 5\n",
      "Template Eval Error: ValueError(\"regression_type='User' but future_regressor not supplied\") in model 798 in generation 5: ARIMA\n",
      "Model Number: 799 with model KalmanStateSpace in generation 5 of 5\n",
      "Model Number: 800 with model ARDL in generation 5 of 5\n",
      "Model Number: 801 with model VECM in generation 5 of 5\n",
      "Model Number: 802 with model MultivariateMotif in generation 5 of 5\n",
      "Model Number: 803 with model FBProphet in generation 5 of 5\n",
      "Model Number: 804 with model AverageValueNaive in generation 5 of 5\n",
      "Model Number: 805 with model FBProphet in generation 5 of 5\n",
      "Model Number: 806 with model MetricMotif in generation 5 of 5\n",
      "Model Number: 807 with model ConstantNaive in generation 5 of 5\n",
      "Model Number: 808 with model KalmanStateSpace in generation 5 of 5\n",
      "Model Number: 809 with model SeasonalityMotif in generation 5 of 5\n",
      "Model Number: 810 with model UnivariateMotif in generation 5 of 5\n",
      "Template Eval Error: Exception('Transformer RobustScaler failed on fit') in model 810 in generation 5: UnivariateMotif\n",
      "Model Number: 811 with model Theta in generation 5 of 5\n",
      "Model Number: 812 with model SeasonalNaive in generation 5 of 5\n",
      "Model Number: 813 with model SeasonalityMotif in generation 5 of 5\n",
      "Template Eval Error: Exception('Transformer KalmanSmoothing failed on fit') in model 813 in generation 5: SeasonalityMotif\n",
      "Model Number: 814 with model VECM in generation 5 of 5\n",
      "Model Number: 815 with model SectionalMotif in generation 5 of 5\n",
      "Template Eval Error: ValueError(\"regression_type=='User' but no future_regressor supplied\") in model 815 in generation 5: SectionalMotif\n",
      "Model Number: 816 with model LastValueNaive in generation 5 of 5\n",
      "Model Number: 817 with model FBProphet in generation 5 of 5\n",
      "Model Number: 818 with model ETS in generation 5 of 5\n",
      "Model Number: 819 with model SeasonalNaive in generation 5 of 5\n",
      "Model Number: 820 with model ARCH in generation 5 of 5\n",
      "Model Number: 821 with model VECM in generation 5 of 5\n",
      "Model Number: 822 with model SeasonalNaive in generation 5 of 5\n",
      "Model Number: 823 with model ETS in generation 5 of 5\n",
      "Model Number: 824 with model FFT in generation 5 of 5\n",
      "Model Number: 825 with model VECM in generation 5 of 5\n",
      "Model Number: 826 with model MetricMotif in generation 5 of 5\n",
      "Model Number: 827 with model Theta in generation 5 of 5\n",
      "Model Number: 828 with model DatepartRegression in generation 5 of 5\n",
      "Model Number: 829 with model FFT in generation 5 of 5\n",
      "Model Number: 830 with model AverageValueNaive in generation 5 of 5\n",
      "Model Number: 831 with model SeasonalNaive in generation 5 of 5\n",
      "Model Number: 832 with model GLS in generation 5 of 5\n",
      "Model Number: 833 with model LastValueNaive in generation 5 of 5\n",
      "Model Number: 834 with model ConstantNaive in generation 5 of 5\n",
      "Model Number: 835 with model ARIMA in generation 5 of 5\n",
      "Model Number: 836 with model ARIMA in generation 5 of 5\n",
      "Model Number: 837 with model ETS in generation 5 of 5\n",
      "Model Number: 838 with model MultivariateMotif in generation 5 of 5\n"
     ]
    },
    {
     "name": "stderr",
     "output_type": "stream",
     "text": [
      "C:\\Users\\ekaushik\\AppData\\Local\\Packages\\PythonSoftwareFoundation.Python.3.8_qbz5n2kfra8p0\\LocalCache\\local-packages\\Python38\\site-packages\\sklearn\\linear_model\\_ridge.py:200: LinAlgWarning: Ill-conditioned matrix (rcond=4.37717e-25): result may not be accurate.\n",
      "  return linalg.solve(A, Xy, assume_a=\"pos\", overwrite_a=True).T\n"
     ]
    },
    {
     "name": "stdout",
     "output_type": "stream",
     "text": [
      "Model Number: 839 with model SeasonalityMotif in generation 5 of 5\n",
      "Model Number: 840 with model WindowRegression in generation 5 of 5\n",
      "Template Eval Error: ModuleNotFoundError(\"No module named 'lightgbm'\") in model 840 in generation 5: WindowRegression\n",
      "Model Number: 841 with model RRVAR in generation 5 of 5\n",
      "Template Eval Error: Exception('Transformer KalmanSmoothing failed on fit') in model 841 in generation 5: RRVAR\n",
      "Model Number: 842 with model WindowRegression in generation 5 of 5\n",
      "Model Number: 843 with model UnobservedComponents in generation 5 of 5\n",
      "Model Number: 844 with model VAR in generation 5 of 5\n",
      "Model Number: 845 with model FBProphet in generation 5 of 5\n",
      "Model Number: 846 with model UnobservedComponents in generation 5 of 5\n",
      "Model Number: 847 with model UnivariateMotif in generation 5 of 5\n",
      "Template Eval Error: Exception('Transformer KalmanSmoothing failed on fit') in model 847 in generation 5: UnivariateMotif\n",
      "Model Number: 848 with model KalmanStateSpace in generation 5 of 5\n",
      "Template Eval Error: Exception('Transformer RegressionFilter failed on fit') in model 848 in generation 5: KalmanStateSpace\n",
      "Model Number: 849 with model ARIMA in generation 5 of 5\n",
      "Model Number: 850 with model KalmanStateSpace in generation 5 of 5\n",
      "Template Eval Error: Exception('Transformer Detrend failed on fit') in model 850 in generation 5: KalmanStateSpace\n",
      "Model Number: 851 with model AverageValueNaive in generation 5 of 5\n",
      "Model Number: 852 with model FBProphet in generation 5 of 5\n",
      "Model Number: 853 with model KalmanStateSpace in generation 5 of 5\n",
      "Model Number: 854 with model DatepartRegression in generation 5 of 5\n",
      "Model Number: 855 with model VAR in generation 5 of 5\n",
      "Model Number: 856 with model Theta in generation 5 of 5\n",
      "Model Number: 857 with model WindowRegression in generation 5 of 5\n",
      "Template Eval Error: ModuleNotFoundError(\"No module named 'lightgbm'\") in model 857 in generation 5: WindowRegression\n",
      "Model Number: 858 with model LastValueNaive in generation 5 of 5\n",
      "Model Number: 859 with model VECM in generation 5 of 5\n",
      "Model Number: 860 with model AverageValueNaive in generation 5 of 5\n",
      "Model Number: 861 with model ARIMA in generation 5 of 5\n",
      "Model Number: 862 with model MAR in generation 5 of 5\n",
      "Template Eval Error: ValueError('Shape of passed values is (7, 5), indices imply (15, 5)') in model 862 in generation 5: MAR\n",
      "Model Number: 863 with model ETS in generation 5 of 5\n",
      "Model Number: 864 with model LastValueNaive in generation 5 of 5\n",
      "Model Number: 865 with model SeasonalityMotif in generation 5 of 5\n",
      "Model Number: 866 with model ARIMA in generation 5 of 5\n",
      "Model Number: 867 with model SeasonalityMotif in generation 5 of 5\n",
      "Model Number: 868 with model FBProphet in generation 5 of 5\n",
      "Template Eval Error: Exception('Transformer PCA failed on inverse') in model 868 in generation 5: FBProphet\n",
      "Model Number: 869 with model SeasonalNaive in generation 5 of 5\n",
      "Model Number: 870 with model MetricMotif in generation 5 of 5\n",
      "Model Number: 871 with model RRVAR in generation 5 of 5\n",
      "Model Number: 872 with model Cassandra in generation 5 of 5\n",
      "Model Number: 873 with model ARCH in generation 5 of 5\n"
     ]
    },
    {
     "name": "stderr",
     "output_type": "stream",
     "text": [
      "C:\\Users\\ekaushik\\AppData\\Local\\Packages\\PythonSoftwareFoundation.Python.3.8_qbz5n2kfra8p0\\LocalCache\\local-packages\\Python38\\site-packages\\numpy\\lib\\function_base.py:2853: RuntimeWarning: invalid value encountered in divide\n",
      "  c /= stddev[:, None]\n",
      "C:\\Users\\ekaushik\\AppData\\Local\\Packages\\PythonSoftwareFoundation.Python.3.8_qbz5n2kfra8p0\\LocalCache\\local-packages\\Python38\\site-packages\\numpy\\lib\\function_base.py:2854: RuntimeWarning: invalid value encountered in divide\n",
      "  c /= stddev[None, :]\n"
     ]
    },
    {
     "name": "stdout",
     "output_type": "stream",
     "text": [
      "Model Number: 874 with model SectionalMotif in generation 5 of 5\n",
      "Model Number: 875 with model ETS in generation 5 of 5\n",
      "Model Number: 876 with model LastValueNaive in generation 5 of 5\n",
      "Model Number: 877 with model GLS in generation 5 of 5\n",
      "Model Number: 878 with model AverageValueNaive in generation 5 of 5\n",
      "Model Number: 879 with model KalmanStateSpace in generation 5 of 5\n",
      "Template Eval Error: Exception('Transformer AlignLastValue failed on inverse') in model 879 in generation 5: KalmanStateSpace\n",
      "Model Number: 880 with model KalmanStateSpace in generation 5 of 5\n",
      "Template Eval Error: Exception('Transformer Detrend failed on fit') in model 880 in generation 5: KalmanStateSpace\n",
      "Model Number: 881 with model Theta in generation 5 of 5\n",
      "Model Number: 882 with model VAR in generation 5 of 5\n",
      "Model Number: 883 with model ConstantNaive in generation 5 of 5\n",
      "Model Number: 884 with model KalmanStateSpace in generation 5 of 5\n",
      "Model Number: 885 with model KalmanStateSpace in generation 5 of 5\n",
      "Template Eval Error: Exception('Transformer AlignLastValue failed on inverse') in model 885 in generation 5: KalmanStateSpace\n",
      "Model Number: 886 with model SeasonalityMotif in generation 5 of 5\n",
      "Model Number: 887 with model VECM in generation 5 of 5\n",
      "Model Number: 888 with model FFT in generation 5 of 5\n",
      "Model Number: 889 with model UnobservedComponents in generation 5 of 5\n",
      "Model Number: 890 with model ARIMA in generation 5 of 5\n",
      "Model Number: 891 with model VECM in generation 5 of 5\n",
      "Model Number: 892 with model Theta in generation 5 of 5\n",
      "Model Number: 893 with model ARDL in generation 5 of 5\n",
      "Template Eval Error: ValueError(\"ARDL series A failed with error IndexError('tuple index out of range') exog train None and predict None\") in model 893 in generation 5: ARDL\n",
      "Model Number: 894 with model UnobservedComponents in generation 5 of 5\n",
      "Template Eval Error: ValueError(\"regression_type='User' but no future_regressor supplied\") in model 894 in generation 5: UnobservedComponents\n",
      "Model Number: 895 with model Ensemble in generation 6 of Ensembles\n"
     ]
    },
    {
     "name": "stderr",
     "output_type": "stream",
     "text": [
      "C:\\Users\\ekaushik\\AppData\\Local\\Packages\\PythonSoftwareFoundation.Python.3.8_qbz5n2kfra8p0\\LocalCache\\local-packages\\Python38\\site-packages\\sklearn\\linear_model\\_ridge.py:200: LinAlgWarning: Ill-conditioned matrix (rcond=4.37717e-25): result may not be accurate.\n",
      "  return linalg.solve(A, Xy, assume_a=\"pos\", overwrite_a=True).T\n"
     ]
    },
    {
     "name": "stdout",
     "output_type": "stream",
     "text": [
      "Model Number: 896 with model Ensemble in generation 6 of Ensembles\n"
     ]
    },
    {
     "name": "stderr",
     "output_type": "stream",
     "text": [
      "C:\\Users\\ekaushik\\AppData\\Local\\Packages\\PythonSoftwareFoundation.Python.3.8_qbz5n2kfra8p0\\LocalCache\\local-packages\\Python38\\site-packages\\sklearn\\linear_model\\_ridge.py:200: LinAlgWarning: Ill-conditioned matrix (rcond=4.37717e-25): result may not be accurate.\n",
      "  return linalg.solve(A, Xy, assume_a=\"pos\", overwrite_a=True).T\n"
     ]
    },
    {
     "name": "stdout",
     "output_type": "stream",
     "text": [
      "Model Number: 897 with model Ensemble in generation 6 of Ensembles\n"
     ]
    },
    {
     "name": "stderr",
     "output_type": "stream",
     "text": [
      "C:\\Users\\ekaushik\\AppData\\Local\\Packages\\PythonSoftwareFoundation.Python.3.8_qbz5n2kfra8p0\\LocalCache\\local-packages\\Python38\\site-packages\\sklearn\\linear_model\\_ridge.py:200: LinAlgWarning: Ill-conditioned matrix (rcond=4.37717e-25): result may not be accurate.\n",
      "  return linalg.solve(A, Xy, assume_a=\"pos\", overwrite_a=True).T\n"
     ]
    },
    {
     "name": "stdout",
     "output_type": "stream",
     "text": [
      "Model Number: 898 with model Ensemble in generation 6 of Ensembles\n"
     ]
    },
    {
     "name": "stderr",
     "output_type": "stream",
     "text": [
      "C:\\Users\\ekaushik\\AppData\\Local\\Packages\\PythonSoftwareFoundation.Python.3.8_qbz5n2kfra8p0\\LocalCache\\local-packages\\Python38\\site-packages\\sklearn\\linear_model\\_ridge.py:200: LinAlgWarning: Ill-conditioned matrix (rcond=4.37717e-25): result may not be accurate.\n",
      "  return linalg.solve(A, Xy, assume_a=\"pos\", overwrite_a=True).T\n"
     ]
    },
    {
     "name": "stdout",
     "output_type": "stream",
     "text": [
      "Model Number: 899 with model Ensemble in generation 6 of Ensembles\n"
     ]
    },
    {
     "name": "stderr",
     "output_type": "stream",
     "text": [
      "C:\\Users\\ekaushik\\AppData\\Local\\Packages\\PythonSoftwareFoundation.Python.3.8_qbz5n2kfra8p0\\LocalCache\\local-packages\\Python38\\site-packages\\sklearn\\linear_model\\_ridge.py:200: LinAlgWarning: Ill-conditioned matrix (rcond=4.37717e-25): result may not be accurate.\n",
      "  return linalg.solve(A, Xy, assume_a=\"pos\", overwrite_a=True).T\n"
     ]
    },
    {
     "name": "stdout",
     "output_type": "stream",
     "text": [
      "Model Number: 900 with model Ensemble in generation 6 of Ensembles\n"
     ]
    },
    {
     "name": "stderr",
     "output_type": "stream",
     "text": [
      "C:\\Users\\ekaushik\\AppData\\Local\\Packages\\PythonSoftwareFoundation.Python.3.8_qbz5n2kfra8p0\\LocalCache\\local-packages\\Python38\\site-packages\\sklearn\\linear_model\\_ridge.py:200: LinAlgWarning: Ill-conditioned matrix (rcond=4.37717e-25): result may not be accurate.\n",
      "  return linalg.solve(A, Xy, assume_a=\"pos\", overwrite_a=True).T\n"
     ]
    },
    {
     "name": "stdout",
     "output_type": "stream",
     "text": [
      "Model Number: 901 with model Ensemble in generation 6 of Ensembles\n"
     ]
    },
    {
     "name": "stderr",
     "output_type": "stream",
     "text": [
      "C:\\Users\\ekaushik\\AppData\\Local\\Packages\\PythonSoftwareFoundation.Python.3.8_qbz5n2kfra8p0\\LocalCache\\local-packages\\Python38\\site-packages\\sklearn\\linear_model\\_ridge.py:200: LinAlgWarning: Ill-conditioned matrix (rcond=4.37717e-25): result may not be accurate.\n",
      "  return linalg.solve(A, Xy, assume_a=\"pos\", overwrite_a=True).T\n"
     ]
    },
    {
     "name": "stdout",
     "output_type": "stream",
     "text": [
      "Model Number: 902 with model Ensemble in generation 6 of Ensembles\n"
     ]
    },
    {
     "name": "stderr",
     "output_type": "stream",
     "text": [
      "C:\\Users\\ekaushik\\AppData\\Local\\Packages\\PythonSoftwareFoundation.Python.3.8_qbz5n2kfra8p0\\LocalCache\\local-packages\\Python38\\site-packages\\sklearn\\linear_model\\_ridge.py:200: LinAlgWarning: Ill-conditioned matrix (rcond=4.37717e-25): result may not be accurate.\n",
      "  return linalg.solve(A, Xy, assume_a=\"pos\", overwrite_a=True).T\n"
     ]
    },
    {
     "name": "stdout",
     "output_type": "stream",
     "text": [
      "Model Number: 903 with model Ensemble in generation 6 of Ensembles\n"
     ]
    },
    {
     "name": "stderr",
     "output_type": "stream",
     "text": [
      "C:\\Users\\ekaushik\\AppData\\Local\\Packages\\PythonSoftwareFoundation.Python.3.8_qbz5n2kfra8p0\\LocalCache\\local-packages\\Python38\\site-packages\\sklearn\\linear_model\\_ridge.py:200: LinAlgWarning: Ill-conditioned matrix (rcond=4.37717e-25): result may not be accurate.\n",
      "  return linalg.solve(A, Xy, assume_a=\"pos\", overwrite_a=True).T\n"
     ]
    },
    {
     "name": "stdout",
     "output_type": "stream",
     "text": [
      "Model Number: 904 with model Ensemble in generation 6 of Ensembles\n"
     ]
    },
    {
     "name": "stderr",
     "output_type": "stream",
     "text": [
      "C:\\Users\\ekaushik\\AppData\\Local\\Packages\\PythonSoftwareFoundation.Python.3.8_qbz5n2kfra8p0\\LocalCache\\local-packages\\Python38\\site-packages\\sklearn\\linear_model\\_ridge.py:200: LinAlgWarning: Ill-conditioned matrix (rcond=4.37717e-25): result may not be accurate.\n",
      "  return linalg.solve(A, Xy, assume_a=\"pos\", overwrite_a=True).T\n"
     ]
    },
    {
     "name": "stdout",
     "output_type": "stream",
     "text": [
      "Model Number: 905 with model Ensemble in generation 6 of Ensembles\n"
     ]
    },
    {
     "name": "stderr",
     "output_type": "stream",
     "text": [
      "C:\\Users\\ekaushik\\AppData\\Local\\Packages\\PythonSoftwareFoundation.Python.3.8_qbz5n2kfra8p0\\LocalCache\\local-packages\\Python38\\site-packages\\sklearn\\linear_model\\_ridge.py:200: LinAlgWarning: Ill-conditioned matrix (rcond=4.37717e-25): result may not be accurate.\n",
      "  return linalg.solve(A, Xy, assume_a=\"pos\", overwrite_a=True).T\n"
     ]
    },
    {
     "name": "stdout",
     "output_type": "stream",
     "text": [
      "Model Number: 906 with model Ensemble in generation 6 of Ensembles\n"
     ]
    },
    {
     "name": "stderr",
     "output_type": "stream",
     "text": [
      "C:\\Users\\ekaushik\\AppData\\Local\\Packages\\PythonSoftwareFoundation.Python.3.8_qbz5n2kfra8p0\\LocalCache\\local-packages\\Python38\\site-packages\\sklearn\\linear_model\\_ridge.py:200: LinAlgWarning: Ill-conditioned matrix (rcond=4.37717e-25): result may not be accurate.\n",
      "  return linalg.solve(A, Xy, assume_a=\"pos\", overwrite_a=True).T\n"
     ]
    },
    {
     "name": "stdout",
     "output_type": "stream",
     "text": [
      "Validation Round: 1\n",
      "Model Number: 1 of 141 with model Ensemble for Validation 1\n"
     ]
    },
    {
     "name": "stderr",
     "output_type": "stream",
     "text": [
      "C:\\Users\\ekaushik\\AppData\\Local\\Packages\\PythonSoftwareFoundation.Python.3.8_qbz5n2kfra8p0\\LocalCache\\local-packages\\Python38\\site-packages\\sklearn\\linear_model\\_ridge.py:200: LinAlgWarning: Ill-conditioned matrix (rcond=4.64113e-25): result may not be accurate.\n",
      "  return linalg.solve(A, Xy, assume_a=\"pos\", overwrite_a=True).T\n"
     ]
    },
    {
     "name": "stdout",
     "output_type": "stream",
     "text": [
      "📈 1 - Ensemble with avg smape 7.62: \n",
      "Model Number: 2 of 141 with model Ensemble for Validation 1\n"
     ]
    },
    {
     "name": "stderr",
     "output_type": "stream",
     "text": [
      "C:\\Users\\ekaushik\\AppData\\Local\\Packages\\PythonSoftwareFoundation.Python.3.8_qbz5n2kfra8p0\\LocalCache\\local-packages\\Python38\\site-packages\\sklearn\\linear_model\\_ridge.py:200: LinAlgWarning: Ill-conditioned matrix (rcond=4.64113e-25): result may not be accurate.\n",
      "  return linalg.solve(A, Xy, assume_a=\"pos\", overwrite_a=True).T\n"
     ]
    },
    {
     "name": "stdout",
     "output_type": "stream",
     "text": [
      "📈 2 - Ensemble with avg smape 7.27: \n",
      "Model Number: 3 of 141 with model Ensemble for Validation 1\n"
     ]
    },
    {
     "name": "stderr",
     "output_type": "stream",
     "text": [
      "C:\\Users\\ekaushik\\AppData\\Local\\Packages\\PythonSoftwareFoundation.Python.3.8_qbz5n2kfra8p0\\LocalCache\\local-packages\\Python38\\site-packages\\sklearn\\linear_model\\_ridge.py:200: LinAlgWarning: Ill-conditioned matrix (rcond=4.64113e-25): result may not be accurate.\n",
      "  return linalg.solve(A, Xy, assume_a=\"pos\", overwrite_a=True).T\n"
     ]
    },
    {
     "name": "stdout",
     "output_type": "stream",
     "text": [
      "3 - Ensemble with avg smape 7.49: \n",
      "Model Number: 4 of 141 with model Ensemble for Validation 1\n"
     ]
    },
    {
     "name": "stderr",
     "output_type": "stream",
     "text": [
      "C:\\Users\\ekaushik\\AppData\\Local\\Packages\\PythonSoftwareFoundation.Python.3.8_qbz5n2kfra8p0\\LocalCache\\local-packages\\Python38\\site-packages\\sklearn\\linear_model\\_ridge.py:200: LinAlgWarning: Ill-conditioned matrix (rcond=4.64113e-25): result may not be accurate.\n",
      "  return linalg.solve(A, Xy, assume_a=\"pos\", overwrite_a=True).T\n"
     ]
    },
    {
     "name": "stdout",
     "output_type": "stream",
     "text": [
      "4 - Ensemble with avg smape 7.75: \n",
      "Model Number: 5 of 141 with model FBProphet for Validation 1\n"
     ]
    },
    {
     "name": "stderr",
     "output_type": "stream",
     "text": [
      "C:\\Users\\ekaushik\\AppData\\Local\\Packages\\PythonSoftwareFoundation.Python.3.8_qbz5n2kfra8p0\\LocalCache\\local-packages\\Python38\\site-packages\\sklearn\\linear_model\\_ridge.py:200: LinAlgWarning: Ill-conditioned matrix (rcond=4.64113e-25): result may not be accurate.\n",
      "  return linalg.solve(A, Xy, assume_a=\"pos\", overwrite_a=True).T\n"
     ]
    },
    {
     "name": "stdout",
     "output_type": "stream",
     "text": [
      "📈 5 - FBProphet with avg smape 7.21: \n",
      "Model Number: 6 of 141 with model Ensemble for Validation 1\n"
     ]
    },
    {
     "name": "stderr",
     "output_type": "stream",
     "text": [
      "C:\\Users\\ekaushik\\AppData\\Local\\Packages\\PythonSoftwareFoundation.Python.3.8_qbz5n2kfra8p0\\LocalCache\\local-packages\\Python38\\site-packages\\sklearn\\linear_model\\_ridge.py:200: LinAlgWarning: Ill-conditioned matrix (rcond=4.64113e-25): result may not be accurate.\n",
      "  return linalg.solve(A, Xy, assume_a=\"pos\", overwrite_a=True).T\n"
     ]
    },
    {
     "name": "stdout",
     "output_type": "stream",
     "text": [
      "6 - Ensemble with avg smape 8.06: \n",
      "Model Number: 7 of 141 with model FBProphet for Validation 1\n",
      "7 - FBProphet with avg smape 7.81: \n",
      "Model Number: 8 of 141 with model Ensemble for Validation 1\n"
     ]
    },
    {
     "name": "stderr",
     "output_type": "stream",
     "text": [
      "C:\\Users\\ekaushik\\AppData\\Local\\Packages\\PythonSoftwareFoundation.Python.3.8_qbz5n2kfra8p0\\LocalCache\\local-packages\\Python38\\site-packages\\sklearn\\linear_model\\_ridge.py:200: LinAlgWarning: Ill-conditioned matrix (rcond=4.64113e-25): result may not be accurate.\n",
      "  return linalg.solve(A, Xy, assume_a=\"pos\", overwrite_a=True).T\n"
     ]
    },
    {
     "name": "stdout",
     "output_type": "stream",
     "text": [
      "8 - Ensemble with avg smape 7.85: \n",
      "Model Number: 9 of 141 with model KalmanStateSpace for Validation 1\n",
      "9 - KalmanStateSpace with avg smape 8.24: \n",
      "Model Number: 10 of 141 with model KalmanStateSpace for Validation 1\n",
      "10 - KalmanStateSpace with avg smape 7.7: \n",
      "Model Number: 11 of 141 with model FBProphet for Validation 1\n",
      "11 - FBProphet with avg smape 8.48: \n",
      "Model Number: 12 of 141 with model KalmanStateSpace for Validation 1\n",
      "12 - KalmanStateSpace with avg smape 7.87: \n",
      "Model Number: 13 of 141 with model VECM for Validation 1\n",
      "13 - VECM with avg smape 8.24: \n",
      "Model Number: 14 of 141 with model MetricMotif for Validation 1\n",
      "14 - MetricMotif with avg smape 8.05: \n",
      "Model Number: 15 of 141 with model KalmanStateSpace for Validation 1\n",
      "15 - KalmanStateSpace with avg smape 8.14: \n",
      "Model Number: 16 of 141 with model VECM for Validation 1\n",
      "16 - VECM with avg smape 8.08: \n",
      "Model Number: 17 of 141 with model VECM for Validation 1\n",
      "17 - VECM with avg smape 8.09: \n",
      "Model Number: 18 of 141 with model ARDL for Validation 1\n",
      "18 - ARDL with avg smape 9.2: \n",
      "Model Number: 19 of 141 with model KalmanStateSpace for Validation 1\n",
      "19 - KalmanStateSpace with avg smape 7.88: \n",
      "Model Number: 20 of 141 with model LastValueNaive for Validation 1\n",
      "20 - LastValueNaive with avg smape 7.71: \n",
      "Model Number: 21 of 141 with model LastValueNaive for Validation 1\n",
      "21 - LastValueNaive with avg smape 8.16: \n",
      "Model Number: 22 of 141 with model VECM for Validation 1\n",
      "22 - VECM with avg smape 8.0: \n",
      "Model Number: 23 of 141 with model VECM for Validation 1\n",
      "23 - VECM with avg smape 7.96: \n",
      "Model Number: 24 of 141 with model VECM for Validation 1\n",
      "24 - VECM with avg smape 8.96: \n",
      "Model Number: 25 of 141 with model KalmanStateSpace for Validation 1\n",
      "25 - KalmanStateSpace with avg smape 8.03: \n",
      "Model Number: 26 of 141 with model LastValueNaive for Validation 1\n",
      "26 - LastValueNaive with avg smape 7.96: \n",
      "Model Number: 27 of 141 with model UnobservedComponents for Validation 1\n",
      "27 - UnobservedComponents with avg smape 8.12: \n",
      "Model Number: 28 of 141 with model LastValueNaive for Validation 1\n",
      "28 - LastValueNaive with avg smape 7.74: \n",
      "Model Number: 29 of 141 with model LastValueNaive for Validation 1\n",
      "29 - LastValueNaive with avg smape 7.74: \n",
      "Model Number: 30 of 141 with model LastValueNaive for Validation 1\n",
      "30 - LastValueNaive with avg smape 7.74: \n",
      "Model Number: 31 of 141 with model AverageValueNaive for Validation 1\n",
      "31 - AverageValueNaive with avg smape 9.11: \n",
      "Model Number: 32 of 141 with model ARIMA for Validation 1\n",
      "32 - ARIMA with avg smape 7.78: \n",
      "Model Number: 33 of 141 with model ARIMA for Validation 1\n",
      "33 - ARIMA with avg smape 7.78: \n",
      "Model Number: 34 of 141 with model ARIMA for Validation 1\n",
      "34 - ARIMA with avg smape 7.74: \n",
      "Model Number: 35 of 141 with model ARIMA for Validation 1\n",
      "35 - ARIMA with avg smape 7.88: \n",
      "Model Number: 36 of 141 with model WindowRegression for Validation 1\n",
      "36 - WindowRegression with avg smape 7.32: \n",
      "Model Number: 37 of 141 with model MetricMotif for Validation 1\n",
      "37 - MetricMotif with avg smape 8.1: \n",
      "Model Number: 38 of 141 with model ARIMA for Validation 1\n",
      "38 - ARIMA with avg smape 7.78: \n",
      "Model Number: 39 of 141 with model Theta for Validation 1\n",
      "39 - Theta with avg smape 9.25: \n",
      "Model Number: 40 of 141 with model ARIMA for Validation 1\n",
      "40 - ARIMA with avg smape 8.14: \n",
      "Model Number: 41 of 141 with model FFT for Validation 1\n",
      "41 - FFT with avg smape 8.39: \n",
      "Model Number: 42 of 141 with model WindowRegression for Validation 1\n",
      "42 - WindowRegression with avg smape 8.03: \n",
      "Model Number: 43 of 141 with model ETS for Validation 1\n",
      "43 - ETS with avg smape 7.75: \n",
      "Model Number: 44 of 141 with model ETS for Validation 1\n",
      "44 - ETS with avg smape 7.75: \n",
      "Model Number: 45 of 141 with model ETS for Validation 1\n",
      "45 - ETS with avg smape 7.82: \n",
      "Model Number: 46 of 141 with model Theta for Validation 1\n",
      "46 - Theta with avg smape 8.42: \n",
      "Model Number: 47 of 141 with model FBProphet for Validation 1\n",
      "📈 47 - FBProphet with avg smape 6.42: \n",
      "Model Number: 48 of 141 with model SeasonalityMotif for Validation 1\n",
      "48 - SeasonalityMotif with avg smape 10.14: \n",
      "Model Number: 49 of 141 with model SeasonalityMotif for Validation 1\n",
      "49 - SeasonalityMotif with avg smape 14.6: \n",
      "Model Number: 50 of 141 with model ETS for Validation 1\n",
      "50 - ETS with avg smape 7.74: \n",
      "Model Number: 51 of 141 with model FFT for Validation 1\n",
      "51 - FFT with avg smape 8.32: \n",
      "Model Number: 52 of 141 with model Theta for Validation 1\n",
      "52 - Theta with avg smape 8.54: \n",
      "Model Number: 53 of 141 with model ARDL for Validation 1\n",
      "53 - ARDL with avg smape 7.59: \n",
      "Model Number: 54 of 141 with model UnivariateMotif for Validation 1\n",
      "54 - UnivariateMotif with avg smape 8.18: \n",
      "Model Number: 55 of 141 with model ConstantNaive for Validation 1\n",
      "55 - ConstantNaive with avg smape 8.16: \n",
      "Model Number: 56 of 141 with model Theta for Validation 1\n",
      "56 - Theta with avg smape 8.75: \n",
      "Model Number: 57 of 141 with model DatepartRegression for Validation 1\n",
      "57 - DatepartRegression with avg smape 8.91: \n",
      "Model Number: 58 of 141 with model SeasonalityMotif for Validation 1\n",
      "58 - SeasonalityMotif with avg smape 10.87: \n",
      "Model Number: 59 of 141 with model SeasonalityMotif for Validation 1\n",
      "59 - SeasonalityMotif with avg smape 7.28: \n",
      "Model Number: 60 of 141 with model ETS for Validation 1\n",
      "60 - ETS with avg smape 8.95: \n",
      "Model Number: 61 of 141 with model ETS for Validation 1\n",
      "61 - ETS with avg smape 8.95: \n",
      "Model Number: 62 of 141 with model ARCH for Validation 1\n",
      "62 - ARCH with avg smape 7.87: \n",
      "Model Number: 63 of 141 with model MetricMotif for Validation 1\n",
      "63 - MetricMotif with avg smape 7.84: \n",
      "Model Number: 64 of 141 with model RRVAR for Validation 1\n",
      "64 - RRVAR with avg smape 8.12: \n",
      "Model Number: 65 of 141 with model FBProphet for Validation 1\n",
      "65 - FBProphet with avg smape 8.0: \n",
      "Model Number: 66 of 141 with model UnobservedComponents for Validation 1\n",
      "66 - UnobservedComponents with avg smape 8.03: \n",
      "Model Number: 67 of 141 with model Theta for Validation 1\n",
      "67 - Theta with avg smape 7.95: \n",
      "Model Number: 68 of 141 with model AverageValueNaive for Validation 1\n",
      "68 - AverageValueNaive with avg smape 7.91: \n",
      "Model Number: 69 of 141 with model AverageValueNaive for Validation 1\n",
      "69 - AverageValueNaive with avg smape 7.91: \n",
      "Model Number: 70 of 141 with model AverageValueNaive for Validation 1\n",
      "70 - AverageValueNaive with avg smape 7.91: \n",
      "Model Number: 71 of 141 with model FBProphet for Validation 1\n",
      "71 - FBProphet with avg smape 8.0: \n",
      "Model Number: 72 of 141 with model UnobservedComponents for Validation 1\n",
      "72 - UnobservedComponents with avg smape 7.89: \n",
      "Model Number: 73 of 141 with model UnobservedComponents for Validation 1\n",
      "73 - UnobservedComponents with avg smape 7.94: \n",
      "Model Number: 74 of 141 with model UnobservedComponents for Validation 1\n",
      "74 - UnobservedComponents with avg smape 7.89: \n",
      "Model Number: 75 of 141 with model SeasonalNaive for Validation 1\n",
      "75 - SeasonalNaive with avg smape 7.85: \n",
      "Model Number: 76 of 141 with model ARDL for Validation 1\n",
      "76 - ARDL with avg smape 8.94: \n",
      "Model Number: 77 of 141 with model VAR for Validation 1\n",
      "77 - VAR with avg smape 7.4: \n",
      "Model Number: 78 of 141 with model ARDL for Validation 1\n",
      "78 - ARDL with avg smape 9.2: \n",
      "Model Number: 79 of 141 with model WindowRegression for Validation 1\n",
      "79 - WindowRegression with avg smape 8.76: \n",
      "Model Number: 80 of 141 with model SeasonalityMotif for Validation 1\n",
      "80 - SeasonalityMotif with avg smape 11.52: \n",
      "Model Number: 81 of 141 with model FFT for Validation 1\n",
      "81 - FFT with avg smape 8.02: \n",
      "Model Number: 82 of 141 with model FFT for Validation 1\n",
      "82 - FFT with avg smape 7.84: \n",
      "Model Number: 83 of 141 with model ARDL for Validation 1\n",
      "83 - ARDL with avg smape 9.99: \n",
      "Model Number: 84 of 141 with model Theta for Validation 1\n",
      "84 - Theta with avg smape 8.63: \n",
      "Model Number: 85 of 141 with model SectionalMotif for Validation 1\n",
      "85 - SectionalMotif with avg smape 9.14: \n",
      "Model Number: 86 of 141 with model MultivariateMotif for Validation 1\n",
      "86 - MultivariateMotif with avg smape 6.79: \n",
      "Model Number: 87 of 141 with model SeasonalNaive for Validation 1\n",
      "87 - SeasonalNaive with avg smape 7.87: \n",
      "Model Number: 88 of 141 with model SeasonalNaive for Validation 1\n",
      "88 - SeasonalNaive with avg smape 7.85: \n",
      "Model Number: 89 of 141 with model VAR for Validation 1\n",
      "89 - VAR with avg smape 7.03: \n",
      "Model Number: 90 of 141 with model VAR for Validation 1\n",
      "90 - VAR with avg smape 7.03: \n",
      "Model Number: 91 of 141 with model VAR for Validation 1\n",
      "91 - VAR with avg smape 7.14: \n",
      "Model Number: 92 of 141 with model VAR for Validation 1\n",
      "92 - VAR with avg smape 7.14: \n",
      "Model Number: 93 of 141 with model VAR for Validation 1\n",
      "93 - VAR with avg smape 7.14: \n",
      "Model Number: 94 of 141 with model SeasonalNaive for Validation 1\n",
      "94 - SeasonalNaive with avg smape 7.84: \n",
      "Model Number: 95 of 141 with model ConstantNaive for Validation 1\n",
      "95 - ConstantNaive with avg smape 7.96: \n",
      "Model Number: 96 of 141 with model SeasonalNaive for Validation 1\n",
      "96 - SeasonalNaive with avg smape 7.25: \n",
      "Model Number: 97 of 141 with model ARDL for Validation 1\n",
      "97 - ARDL with avg smape 9.3: \n",
      "Model Number: 98 of 141 with model SeasonalNaive for Validation 1\n",
      "98 - SeasonalNaive with avg smape 7.84: \n",
      "Model Number: 99 of 141 with model UnivariateMotif for Validation 1\n",
      "99 - UnivariateMotif with avg smape 8.16: \n",
      "Model Number: 100 of 141 with model FFT for Validation 1\n",
      "100 - FFT with avg smape 9.03: \n",
      "Model Number: 101 of 141 with model SeasonalityMotif for Validation 1\n",
      "101 - SeasonalityMotif with avg smape 8.09: \n",
      "Model Number: 102 of 141 with model ARCH for Validation 1\n",
      "102 - ARCH with avg smape 8.12: \n",
      "Model Number: 103 of 141 with model ConstantNaive for Validation 1\n",
      "103 - ConstantNaive with avg smape 7.94: \n",
      "Model Number: 104 of 141 with model ConstantNaive for Validation 1\n",
      "104 - ConstantNaive with avg smape 7.94: \n",
      "Model Number: 105 of 141 with model FFT for Validation 1\n",
      "105 - FFT with avg smape 8.94: \n",
      "Model Number: 106 of 141 with model AverageValueNaive for Validation 1\n"
     ]
    },
    {
     "name": "stderr",
     "output_type": "stream",
     "text": [
      "C:\\Users\\ekaushik\\AppData\\Local\\Packages\\PythonSoftwareFoundation.Python.3.8_qbz5n2kfra8p0\\LocalCache\\local-packages\\Python38\\site-packages\\sklearn\\linear_model\\_coordinate_descent.py:2412: ConvergenceWarning: Objective did not converge. You might want to increase the number of iterations. Duality gap: 162638495.8304755, tolerance: 84221.40404402975\n",
      "  ) = cd_fast.enet_coordinate_descent_multi_task(\n"
     ]
    },
    {
     "name": "stdout",
     "output_type": "stream",
     "text": [
      "106 - AverageValueNaive with avg smape 9.13: \n",
      "Model Number: 107 of 141 with model SectionalMotif for Validation 1\n",
      "107 - SectionalMotif with avg smape 9.64: \n",
      "Model Number: 108 of 141 with model MultivariateMotif for Validation 1\n",
      "108 - MultivariateMotif with avg smape 7.84: \n",
      "Model Number: 109 of 141 with model ConstantNaive for Validation 1\n",
      "109 - ConstantNaive with avg smape 8.12: \n",
      "Model Number: 110 of 141 with model ConstantNaive for Validation 1\n",
      "110 - ConstantNaive with avg smape 8.12: \n",
      "Model Number: 111 of 141 with model UnobservedComponents for Validation 1\n"
     ]
    },
    {
     "name": "stderr",
     "output_type": "stream",
     "text": [
      "C:\\Users\\ekaushik\\AppData\\Local\\Packages\\PythonSoftwareFoundation.Python.3.8_qbz5n2kfra8p0\\LocalCache\\local-packages\\Python38\\site-packages\\sklearn\\linear_model\\_coordinate_descent.py:2412: ConvergenceWarning: Objective did not converge. You might want to increase the number of iterations. Duality gap: 117297311.2264049, tolerance: 99080.51276205013\n",
      "  ) = cd_fast.enet_coordinate_descent_multi_task(\n"
     ]
    },
    {
     "name": "stdout",
     "output_type": "stream",
     "text": [
      "111 - UnobservedComponents with avg smape 7.89: \n",
      "Model Number: 112 of 141 with model AverageValueNaive for Validation 1\n",
      "112 - AverageValueNaive with avg smape 8.94: \n",
      "Model Number: 113 of 141 with model ARCH for Validation 1\n",
      "113 - ARCH with avg smape 8.03: \n",
      "Model Number: 114 of 141 with model WindowRegression for Validation 1\n",
      "114 - WindowRegression with avg smape 8.36: \n",
      "Model Number: 115 of 141 with model MetricMotif for Validation 1\n",
      "115 - MetricMotif with avg smape 9.32: \n",
      "Model Number: 116 of 141 with model MultivariateMotif for Validation 1\n",
      "116 - MultivariateMotif with avg smape 8.06: \n",
      "Model Number: 117 of 141 with model WindowRegression for Validation 1\n",
      "117 - WindowRegression with avg smape 8.48: \n",
      "Model Number: 118 of 141 with model GLS for Validation 1\n",
      "118 - GLS with avg smape 9.56: \n",
      "Model Number: 119 of 141 with model UnivariateMotif for Validation 1\n",
      "119 - UnivariateMotif with avg smape 8.16: \n",
      "Model Number: 120 of 141 with model GLS for Validation 1\n",
      "120 - GLS with avg smape 7.78: \n",
      "Model Number: 121 of 141 with model GLS for Validation 1\n",
      "121 - GLS with avg smape 7.72: \n",
      "Model Number: 122 of 141 with model RRVAR for Validation 1\n",
      "122 - RRVAR with avg smape 7.61: \n",
      "Model Number: 123 of 141 with model MultivariateMotif for Validation 1\n",
      "123 - MultivariateMotif with avg smape 8.39: \n",
      "Model Number: 124 of 141 with model MetricMotif for Validation 1\n",
      "124 - MetricMotif with avg smape 7.38: \n",
      "Model Number: 125 of 141 with model WindowRegression for Validation 1\n",
      "125 - WindowRegression with avg smape 8.74: \n",
      "Model Number: 126 of 141 with model Cassandra for Validation 1\n",
      "126 - Cassandra with avg smape 8.99: \n",
      "Model Number: 127 of 141 with model RRVAR for Validation 1\n"
     ]
    },
    {
     "name": "stderr",
     "output_type": "stream",
     "text": [
      "C:\\Users\\ekaushik\\AppData\\Local\\Packages\\PythonSoftwareFoundation.Python.3.8_qbz5n2kfra8p0\\LocalCache\\local-packages\\Python38\\site-packages\\numpy\\lib\\function_base.py:2853: RuntimeWarning: invalid value encountered in divide\n",
      "  c /= stddev[:, None]\n",
      "C:\\Users\\ekaushik\\AppData\\Local\\Packages\\PythonSoftwareFoundation.Python.3.8_qbz5n2kfra8p0\\LocalCache\\local-packages\\Python38\\site-packages\\numpy\\lib\\function_base.py:2854: RuntimeWarning: invalid value encountered in divide\n",
      "  c /= stddev[None, :]\n"
     ]
    },
    {
     "name": "stdout",
     "output_type": "stream",
     "text": [
      "127 - RRVAR with avg smape 7.5: \n",
      "Model Number: 128 of 141 with model MultivariateMotif for Validation 1\n",
      "128 - MultivariateMotif with avg smape 8.04: \n",
      "Model Number: 129 of 141 with model MAR for Validation 1\n",
      "129 - MAR with avg smape 7.62: \n",
      "Model Number: 130 of 141 with model MultivariateMotif for Validation 1\n",
      "130 - MultivariateMotif with avg smape 9.98: \n",
      "Model Number: 131 of 141 with model DatepartRegression for Validation 1\n",
      "131 - DatepartRegression with avg smape 11.87: \n",
      "Model Number: 132 of 141 with model UnivariateMotif for Validation 1\n",
      "132 - UnivariateMotif with avg smape 9.18: \n",
      "Model Number: 133 of 141 with model RRVAR for Validation 1\n"
     ]
    },
    {
     "name": "stderr",
     "output_type": "stream",
     "text": [
      "C:\\Users\\ekaushik\\AppData\\Local\\Packages\\PythonSoftwareFoundation.Python.3.8_qbz5n2kfra8p0\\LocalCache\\local-packages\\Python38\\site-packages\\sklearn\\linear_model\\_ridge.py:200: LinAlgWarning: Ill-conditioned matrix (rcond=4.64113e-25): result may not be accurate.\n",
      "  return linalg.solve(A, Xy, assume_a=\"pos\", overwrite_a=True).T\n"
     ]
    },
    {
     "name": "stdout",
     "output_type": "stream",
     "text": [
      "133 - RRVAR with avg smape 8.5: \n",
      "Model Number: 134 of 141 with model RRVAR for Validation 1\n",
      "134 - RRVAR with avg smape 8.05: \n",
      "Model Number: 135 of 141 with model DatepartRegression for Validation 1\n",
      "135 - DatepartRegression with avg smape 8.11: \n",
      "Model Number: 136 of 141 with model RRVAR for Validation 1\n",
      "136 - RRVAR with avg smape 8.41: \n",
      "Model Number: 137 of 141 with model FFT for Validation 1\n",
      "137 - FFT with avg smape 7.16: \n",
      "Model Number: 138 of 141 with model LastValueNaive for Validation 1\n",
      "138 - LastValueNaive with avg smape 7.19: \n",
      "Model Number: 139 of 141 with model FBProphet for Validation 1\n",
      "139 - FBProphet with avg smape 7.95: \n",
      "Model Number: 140 of 141 with model WindowRegression for Validation 1\n",
      "140 - WindowRegression with avg smape 8.36: \n",
      "Model Number: 141 of 141 with model ARIMA for Validation 1\n",
      "141 - ARIMA with avg smape 8.12: \n",
      "Validation Round: 2\n",
      "Model Number: 1 of 141 with model Ensemble for Validation 2\n"
     ]
    },
    {
     "name": "stderr",
     "output_type": "stream",
     "text": [
      "C:\\Users\\ekaushik\\AppData\\Local\\Packages\\PythonSoftwareFoundation.Python.3.8_qbz5n2kfra8p0\\LocalCache\\local-packages\\Python38\\site-packages\\sklearn\\linear_model\\_ridge.py:200: LinAlgWarning: Ill-conditioned matrix (rcond=4.93879e-25): result may not be accurate.\n",
      "  return linalg.solve(A, Xy, assume_a=\"pos\", overwrite_a=True).T\n"
     ]
    },
    {
     "name": "stdout",
     "output_type": "stream",
     "text": [
      "📈 1 - Ensemble with avg smape 13.64: \n",
      "Model Number: 2 of 141 with model Ensemble for Validation 2\n"
     ]
    },
    {
     "name": "stderr",
     "output_type": "stream",
     "text": [
      "C:\\Users\\ekaushik\\AppData\\Local\\Packages\\PythonSoftwareFoundation.Python.3.8_qbz5n2kfra8p0\\LocalCache\\local-packages\\Python38\\site-packages\\sklearn\\linear_model\\_ridge.py:200: LinAlgWarning: Ill-conditioned matrix (rcond=4.93879e-25): result may not be accurate.\n",
      "  return linalg.solve(A, Xy, assume_a=\"pos\", overwrite_a=True).T\n"
     ]
    },
    {
     "name": "stdout",
     "output_type": "stream",
     "text": [
      "2 - Ensemble with avg smape 14.46: \n",
      "Model Number: 3 of 141 with model Ensemble for Validation 2\n"
     ]
    },
    {
     "name": "stderr",
     "output_type": "stream",
     "text": [
      "C:\\Users\\ekaushik\\AppData\\Local\\Packages\\PythonSoftwareFoundation.Python.3.8_qbz5n2kfra8p0\\LocalCache\\local-packages\\Python38\\site-packages\\sklearn\\linear_model\\_ridge.py:200: LinAlgWarning: Ill-conditioned matrix (rcond=4.93879e-25): result may not be accurate.\n",
      "  return linalg.solve(A, Xy, assume_a=\"pos\", overwrite_a=True).T\n"
     ]
    },
    {
     "name": "stdout",
     "output_type": "stream",
     "text": [
      "3 - Ensemble with avg smape 14.62: \n",
      "Model Number: 4 of 141 with model Ensemble for Validation 2\n"
     ]
    },
    {
     "name": "stderr",
     "output_type": "stream",
     "text": [
      "C:\\Users\\ekaushik\\AppData\\Local\\Packages\\PythonSoftwareFoundation.Python.3.8_qbz5n2kfra8p0\\LocalCache\\local-packages\\Python38\\site-packages\\sklearn\\linear_model\\_ridge.py:200: LinAlgWarning: Ill-conditioned matrix (rcond=4.93879e-25): result may not be accurate.\n",
      "  return linalg.solve(A, Xy, assume_a=\"pos\", overwrite_a=True).T\n",
      "C:\\Users\\ekaushik\\AppData\\Local\\Packages\\PythonSoftwareFoundation.Python.3.8_qbz5n2kfra8p0\\LocalCache\\local-packages\\Python38\\site-packages\\sklearn\\preprocessing\\_data.py:3308: RuntimeWarning: overflow encountered in power\n",
      "  out[pos] = (np.power(x[pos] + 1, lmbda) - 1) / lmbda\n",
      "C:\\Users\\ekaushik\\AppData\\Local\\Packages\\PythonSoftwareFoundation.Python.3.8_qbz5n2kfra8p0\\LocalCache\\local-packages\\Python38\\site-packages\\numpy\\core\\_methods.py:236: RuntimeWarning: overflow encountered in multiply\n",
      "  x = um.multiply(x, x, out=x)\n",
      "C:\\Users\\ekaushik\\AppData\\Local\\Packages\\PythonSoftwareFoundation.Python.3.8_qbz5n2kfra8p0\\LocalCache\\local-packages\\Python38\\site-packages\\numpy\\core\\_methods.py:247: RuntimeWarning: overflow encountered in reduce\n",
      "  ret = umr_sum(x, axis, dtype, out, keepdims=keepdims, where=where)\n",
      "C:\\Users\\ekaushik\\AppData\\Local\\Packages\\PythonSoftwareFoundation.Python.3.8_qbz5n2kfra8p0\\LocalCache\\local-packages\\Python38\\site-packages\\sklearn\\linear_model\\_ridge.py:200: LinAlgWarning: Ill-conditioned matrix (rcond=4.93879e-25): result may not be accurate.\n",
      "  return linalg.solve(A, Xy, assume_a=\"pos\", overwrite_a=True).T\n"
     ]
    },
    {
     "name": "stdout",
     "output_type": "stream",
     "text": [
      "📈 4 - Ensemble with avg smape 13.32: \n",
      "Model Number: 5 of 141 with model FBProphet for Validation 2\n",
      "📈 5 - FBProphet with avg smape 12.26: \n",
      "Model Number: 6 of 141 with model Ensemble for Validation 2\n"
     ]
    },
    {
     "name": "stderr",
     "output_type": "stream",
     "text": [
      "C:\\Users\\ekaushik\\AppData\\Local\\Packages\\PythonSoftwareFoundation.Python.3.8_qbz5n2kfra8p0\\LocalCache\\local-packages\\Python38\\site-packages\\sklearn\\linear_model\\_ridge.py:200: LinAlgWarning: Ill-conditioned matrix (rcond=4.93879e-25): result may not be accurate.\n",
      "  return linalg.solve(A, Xy, assume_a=\"pos\", overwrite_a=True).T\n",
      "C:\\Users\\ekaushik\\AppData\\Local\\Packages\\PythonSoftwareFoundation.Python.3.8_qbz5n2kfra8p0\\LocalCache\\local-packages\\Python38\\site-packages\\sklearn\\preprocessing\\_data.py:3308: RuntimeWarning: overflow encountered in power\n",
      "  out[pos] = (np.power(x[pos] + 1, lmbda) - 1) / lmbda\n",
      "C:\\Users\\ekaushik\\AppData\\Local\\Packages\\PythonSoftwareFoundation.Python.3.8_qbz5n2kfra8p0\\LocalCache\\local-packages\\Python38\\site-packages\\numpy\\core\\_methods.py:236: RuntimeWarning: overflow encountered in multiply\n",
      "  x = um.multiply(x, x, out=x)\n",
      "C:\\Users\\ekaushik\\AppData\\Local\\Packages\\PythonSoftwareFoundation.Python.3.8_qbz5n2kfra8p0\\LocalCache\\local-packages\\Python38\\site-packages\\numpy\\core\\_methods.py:247: RuntimeWarning: overflow encountered in reduce\n",
      "  ret = umr_sum(x, axis, dtype, out, keepdims=keepdims, where=where)\n"
     ]
    },
    {
     "name": "stdout",
     "output_type": "stream",
     "text": [
      "📈 6 - Ensemble with avg smape 11.69: \n",
      "Model Number: 7 of 141 with model FBProphet for Validation 2\n",
      "7 - FBProphet with avg smape 13.1: \n",
      "Model Number: 8 of 141 with model Ensemble for Validation 2\n"
     ]
    },
    {
     "name": "stderr",
     "output_type": "stream",
     "text": [
      "C:\\Users\\ekaushik\\AppData\\Local\\Packages\\PythonSoftwareFoundation.Python.3.8_qbz5n2kfra8p0\\LocalCache\\local-packages\\Python38\\site-packages\\sklearn\\linear_model\\_ridge.py:200: LinAlgWarning: Ill-conditioned matrix (rcond=4.93879e-25): result may not be accurate.\n",
      "  return linalg.solve(A, Xy, assume_a=\"pos\", overwrite_a=True).T\n"
     ]
    },
    {
     "name": "stdout",
     "output_type": "stream",
     "text": [
      "8 - Ensemble with avg smape 12.58: \n",
      "Model Number: 9 of 141 with model KalmanStateSpace for Validation 2\n",
      "9 - KalmanStateSpace with avg smape 16.92: \n",
      "Model Number: 10 of 141 with model KalmanStateSpace for Validation 2\n",
      "10 - KalmanStateSpace with avg smape 17.66: \n",
      "Model Number: 11 of 141 with model FBProphet for Validation 2\n",
      "11 - FBProphet with avg smape 18.05: \n",
      "Model Number: 12 of 141 with model KalmanStateSpace for Validation 2\n",
      "12 - KalmanStateSpace with avg smape 17.43: \n",
      "Model Number: 13 of 141 with model VECM for Validation 2\n",
      "13 - VECM with avg smape 12.91: \n",
      "Model Number: 14 of 141 with model MetricMotif for Validation 2\n"
     ]
    },
    {
     "name": "stderr",
     "output_type": "stream",
     "text": [
      "C:\\Users\\ekaushik\\AppData\\Local\\Packages\\PythonSoftwareFoundation.Python.3.8_qbz5n2kfra8p0\\LocalCache\\local-packages\\Python38\\site-packages\\sklearn\\preprocessing\\_data.py:3308: RuntimeWarning: overflow encountered in power\n",
      "  out[pos] = (np.power(x[pos] + 1, lmbda) - 1) / lmbda\n",
      "C:\\Users\\ekaushik\\AppData\\Local\\Packages\\PythonSoftwareFoundation.Python.3.8_qbz5n2kfra8p0\\LocalCache\\local-packages\\Python38\\site-packages\\numpy\\core\\_methods.py:236: RuntimeWarning: overflow encountered in multiply\n",
      "  x = um.multiply(x, x, out=x)\n",
      "C:\\Users\\ekaushik\\AppData\\Local\\Packages\\PythonSoftwareFoundation.Python.3.8_qbz5n2kfra8p0\\LocalCache\\local-packages\\Python38\\site-packages\\numpy\\core\\_methods.py:247: RuntimeWarning: overflow encountered in reduce\n",
      "  ret = umr_sum(x, axis, dtype, out, keepdims=keepdims, where=where)\n"
     ]
    },
    {
     "name": "stdout",
     "output_type": "stream",
     "text": [
      "📈 14 - MetricMotif with avg smape 11.2: \n",
      "Model Number: 15 of 141 with model KalmanStateSpace for Validation 2\n",
      "15 - KalmanStateSpace with avg smape 17.35: \n",
      "Model Number: 16 of 141 with model VECM for Validation 2\n",
      "16 - VECM with avg smape 12.34: \n",
      "Model Number: 17 of 141 with model VECM for Validation 2\n"
     ]
    },
    {
     "name": "stderr",
     "output_type": "stream",
     "text": [
      "C:\\Users\\ekaushik\\AppData\\Local\\Packages\\PythonSoftwareFoundation.Python.3.8_qbz5n2kfra8p0\\LocalCache\\local-packages\\Python38\\site-packages\\sklearn\\preprocessing\\_data.py:3308: RuntimeWarning: overflow encountered in power\n",
      "  out[pos] = (np.power(x[pos] + 1, lmbda) - 1) / lmbda\n",
      "C:\\Users\\ekaushik\\AppData\\Local\\Packages\\PythonSoftwareFoundation.Python.3.8_qbz5n2kfra8p0\\LocalCache\\local-packages\\Python38\\site-packages\\numpy\\core\\_methods.py:236: RuntimeWarning: overflow encountered in multiply\n",
      "  x = um.multiply(x, x, out=x)\n",
      "C:\\Users\\ekaushik\\AppData\\Local\\Packages\\PythonSoftwareFoundation.Python.3.8_qbz5n2kfra8p0\\LocalCache\\local-packages\\Python38\\site-packages\\numpy\\core\\_methods.py:247: RuntimeWarning: overflow encountered in reduce\n",
      "  ret = umr_sum(x, axis, dtype, out, keepdims=keepdims, where=where)\n",
      "C:\\Users\\ekaushik\\AppData\\Local\\Packages\\PythonSoftwareFoundation.Python.3.8_qbz5n2kfra8p0\\LocalCache\\local-packages\\Python38\\site-packages\\sklearn\\preprocessing\\_data.py:3308: RuntimeWarning: overflow encountered in power\n",
      "  out[pos] = (np.power(x[pos] + 1, lmbda) - 1) / lmbda\n",
      "C:\\Users\\ekaushik\\AppData\\Local\\Packages\\PythonSoftwareFoundation.Python.3.8_qbz5n2kfra8p0\\LocalCache\\local-packages\\Python38\\site-packages\\numpy\\core\\_methods.py:236: RuntimeWarning: overflow encountered in multiply\n",
      "  x = um.multiply(x, x, out=x)\n",
      "C:\\Users\\ekaushik\\AppData\\Local\\Packages\\PythonSoftwareFoundation.Python.3.8_qbz5n2kfra8p0\\LocalCache\\local-packages\\Python38\\site-packages\\numpy\\core\\_methods.py:247: RuntimeWarning: overflow encountered in reduce\n",
      "  ret = umr_sum(x, axis, dtype, out, keepdims=keepdims, where=where)\n"
     ]
    },
    {
     "name": "stdout",
     "output_type": "stream",
     "text": [
      "17 - VECM with avg smape 12.3: \n",
      "Model Number: 18 of 141 with model ARDL for Validation 2\n",
      "📈 18 - ARDL with avg smape 10.8: \n",
      "Model Number: 19 of 141 with model KalmanStateSpace for Validation 2\n",
      "19 - KalmanStateSpace with avg smape 17.36: \n",
      "Model Number: 20 of 141 with model LastValueNaive for Validation 2\n",
      "20 - LastValueNaive with avg smape 15.71: \n",
      "Model Number: 21 of 141 with model LastValueNaive for Validation 2\n",
      "21 - LastValueNaive with avg smape 12.09: \n",
      "Model Number: 22 of 141 with model VECM for Validation 2\n",
      "22 - VECM with avg smape 13.26: \n",
      "Model Number: 23 of 141 with model VECM for Validation 2\n",
      "23 - VECM with avg smape 13.01: \n",
      "Model Number: 24 of 141 with model VECM for Validation 2\n",
      "Template Eval Error: Exception('Transformer PowerTransformer failed on fit') in model 24 in generation 0: VECM\n",
      "Model Number: 25 of 141 with model KalmanStateSpace for Validation 2\n"
     ]
    },
    {
     "name": "stderr",
     "output_type": "stream",
     "text": [
      "C:\\Users\\ekaushik\\AppData\\Local\\Packages\\PythonSoftwareFoundation.Python.3.8_qbz5n2kfra8p0\\LocalCache\\local-packages\\Python38\\site-packages\\sklearn\\preprocessing\\_data.py:3308: RuntimeWarning: overflow encountered in power\n",
      "  out[pos] = (np.power(x[pos] + 1, lmbda) - 1) / lmbda\n"
     ]
    },
    {
     "name": "stdout",
     "output_type": "stream",
     "text": [
      "25 - KalmanStateSpace with avg smape 14.48: \n",
      "Model Number: 26 of 141 with model LastValueNaive for Validation 2\n",
      "26 - LastValueNaive with avg smape 15.07: \n",
      "Model Number: 27 of 141 with model UnobservedComponents for Validation 2\n",
      "27 - UnobservedComponents with avg smape 11.4: \n",
      "Model Number: 28 of 141 with model LastValueNaive for Validation 2\n",
      "Template Eval Error: Exception('Transformer PowerTransformer failed on fit') in model 28 in generation 0: LastValueNaive\n",
      "Model Number: 29 of 141 with model LastValueNaive for Validation 2\n",
      "Template Eval Error: Exception('Transformer PowerTransformer failed on fit') in model 29 in generation 0: LastValueNaive\n",
      "Model Number: 30 of 141 with model LastValueNaive for Validation 2\n",
      "Template Eval Error: Exception('Transformer PowerTransformer failed on fit') in model 30 in generation 0: LastValueNaive\n",
      "Model Number: 31 of 141 with model AverageValueNaive for Validation 2\n"
     ]
    },
    {
     "name": "stderr",
     "output_type": "stream",
     "text": [
      "C:\\Users\\ekaushik\\AppData\\Local\\Packages\\PythonSoftwareFoundation.Python.3.8_qbz5n2kfra8p0\\LocalCache\\local-packages\\Python38\\site-packages\\sklearn\\preprocessing\\_data.py:3308: RuntimeWarning: overflow encountered in power\n",
      "  out[pos] = (np.power(x[pos] + 1, lmbda) - 1) / lmbda\n",
      "C:\\Users\\ekaushik\\AppData\\Local\\Packages\\PythonSoftwareFoundation.Python.3.8_qbz5n2kfra8p0\\LocalCache\\local-packages\\Python38\\site-packages\\sklearn\\preprocessing\\_data.py:3308: RuntimeWarning: overflow encountered in power\n",
      "  out[pos] = (np.power(x[pos] + 1, lmbda) - 1) / lmbda\n",
      "C:\\Users\\ekaushik\\AppData\\Local\\Packages\\PythonSoftwareFoundation.Python.3.8_qbz5n2kfra8p0\\LocalCache\\local-packages\\Python38\\site-packages\\sklearn\\preprocessing\\_data.py:3308: RuntimeWarning: overflow encountered in power\n",
      "  out[pos] = (np.power(x[pos] + 1, lmbda) - 1) / lmbda\n"
     ]
    },
    {
     "name": "stdout",
     "output_type": "stream",
     "text": [
      "31 - AverageValueNaive with avg smape 11.26: \n",
      "Model Number: 32 of 141 with model ARIMA for Validation 2\n",
      "32 - ARIMA with avg smape 16.39: \n",
      "Model Number: 33 of 141 with model ARIMA for Validation 2\n",
      "33 - ARIMA with avg smape 16.39: \n",
      "Model Number: 34 of 141 with model ARIMA for Validation 2\n",
      "34 - ARIMA with avg smape 15.74: \n",
      "Model Number: 35 of 141 with model ARIMA for Validation 2\n",
      "35 - ARIMA with avg smape 16.06: \n",
      "Model Number: 36 of 141 with model WindowRegression for Validation 2\n",
      "36 - WindowRegression with avg smape 13.6: \n",
      "Model Number: 37 of 141 with model MetricMotif for Validation 2\n",
      "37 - MetricMotif with avg smape 11.5: \n",
      "Model Number: 38 of 141 with model ARIMA for Validation 2\n",
      "38 - ARIMA with avg smape 16.37: \n",
      "Model Number: 39 of 141 with model Theta for Validation 2\n",
      "📈 39 - Theta with avg smape 10.12: \n",
      "Model Number: 40 of 141 with model ARIMA for Validation 2\n",
      "40 - ARIMA with avg smape 16.15: \n",
      "Model Number: 41 of 141 with model FFT for Validation 2\n",
      "41 - FFT with avg smape 13.4: \n",
      "Model Number: 42 of 141 with model WindowRegression for Validation 2\n",
      "Template Eval Error: Exception('Transformer PowerTransformer failed on fit') in model 42 in generation 0: WindowRegression\n",
      "Model Number: 43 of 141 with model ETS for Validation 2\n",
      "Template Eval Error: Exception('Transformer PowerTransformer failed on fit') in model 43 in generation 0: ETS\n"
     ]
    },
    {
     "name": "stderr",
     "output_type": "stream",
     "text": [
      "C:\\Users\\ekaushik\\AppData\\Local\\Packages\\PythonSoftwareFoundation.Python.3.8_qbz5n2kfra8p0\\LocalCache\\local-packages\\Python38\\site-packages\\sklearn\\preprocessing\\_data.py:3308: RuntimeWarning: overflow encountered in power\n",
      "  out[pos] = (np.power(x[pos] + 1, lmbda) - 1) / lmbda\n",
      "C:\\Users\\ekaushik\\AppData\\Local\\Packages\\PythonSoftwareFoundation.Python.3.8_qbz5n2kfra8p0\\LocalCache\\local-packages\\Python38\\site-packages\\sklearn\\preprocessing\\_data.py:3308: RuntimeWarning: overflow encountered in power\n",
      "  out[pos] = (np.power(x[pos] + 1, lmbda) - 1) / lmbda\n"
     ]
    },
    {
     "name": "stdout",
     "output_type": "stream",
     "text": [
      "Model Number: 44 of 141 with model ETS for Validation 2\n",
      "Template Eval Error: Exception('Transformer PowerTransformer failed on fit') in model 44 in generation 0: ETS\n",
      "Model Number: 45 of 141 with model ETS for Validation 2\n"
     ]
    },
    {
     "name": "stderr",
     "output_type": "stream",
     "text": [
      "C:\\Users\\ekaushik\\AppData\\Local\\Packages\\PythonSoftwareFoundation.Python.3.8_qbz5n2kfra8p0\\LocalCache\\local-packages\\Python38\\site-packages\\sklearn\\preprocessing\\_data.py:3308: RuntimeWarning: overflow encountered in power\n",
      "  out[pos] = (np.power(x[pos] + 1, lmbda) - 1) / lmbda\n",
      "C:\\Users\\ekaushik\\AppData\\Local\\Packages\\PythonSoftwareFoundation.Python.3.8_qbz5n2kfra8p0\\LocalCache\\local-packages\\Python38\\site-packages\\sklearn\\preprocessing\\_data.py:3308: RuntimeWarning: overflow encountered in power\n",
      "  out[pos] = (np.power(x[pos] + 1, lmbda) - 1) / lmbda\n"
     ]
    },
    {
     "name": "stdout",
     "output_type": "stream",
     "text": [
      "Template Eval Error: Exception('Transformer PowerTransformer failed on fit') in model 45 in generation 0: ETS\n",
      "Model Number: 46 of 141 with model Theta for Validation 2\n",
      "46 - Theta with avg smape 13.71: \n",
      "Model Number: 47 of 141 with model FBProphet for Validation 2\n",
      "47 - FBProphet with avg smape 21.11: \n",
      "Model Number: 48 of 141 with model SeasonalityMotif for Validation 2\n",
      "48 - SeasonalityMotif with avg smape 27.11: \n",
      "Model Number: 49 of 141 with model SeasonalityMotif for Validation 2\n",
      "49 - SeasonalityMotif with avg smape 20.04: \n",
      "Model Number: 50 of 141 with model ETS for Validation 2\n",
      "50 - ETS with avg smape 12.86: \n",
      "Model Number: 51 of 141 with model FFT for Validation 2\n",
      "51 - FFT with avg smape 12.52: \n",
      "Model Number: 52 of 141 with model Theta for Validation 2\n",
      "52 - Theta with avg smape 12.5: \n",
      "Model Number: 53 of 141 with model ARDL for Validation 2\n",
      "53 - ARDL with avg smape 11.33: \n",
      "Model Number: 54 of 141 with model UnivariateMotif for Validation 2\n",
      "54 - UnivariateMotif with avg smape 16.21: \n",
      "Model Number: 55 of 141 with model ConstantNaive for Validation 2\n",
      "55 - ConstantNaive with avg smape 12.09: \n",
      "Model Number: 56 of 141 with model Theta for Validation 2\n",
      "56 - Theta with avg smape 11.83: \n",
      "Model Number: 57 of 141 with model DatepartRegression for Validation 2\n",
      "57 - DatepartRegression with avg smape 11.48: \n",
      "Model Number: 58 of 141 with model SeasonalityMotif for Validation 2\n",
      "58 - SeasonalityMotif with avg smape 25.81: \n",
      "Model Number: 59 of 141 with model SeasonalityMotif for Validation 2\n",
      "59 - SeasonalityMotif with avg smape 14.48: \n",
      "Model Number: 60 of 141 with model ETS for Validation 2\n",
      "📈 60 - ETS with avg smape 9.09: \n",
      "Model Number: 61 of 141 with model ETS for Validation 2\n",
      "61 - ETS with avg smape 9.09: \n",
      "Model Number: 62 of 141 with model ARCH for Validation 2\n",
      "Template Eval Error: Exception('Transformer PowerTransformer failed on fit') in model 62 in generation 0: ARCH\n",
      "Model Number: 63 of 141 with model MetricMotif for Validation 2\n"
     ]
    },
    {
     "name": "stderr",
     "output_type": "stream",
     "text": [
      "C:\\Users\\ekaushik\\AppData\\Local\\Packages\\PythonSoftwareFoundation.Python.3.8_qbz5n2kfra8p0\\LocalCache\\local-packages\\Python38\\site-packages\\sklearn\\preprocessing\\_data.py:3308: RuntimeWarning: overflow encountered in power\n",
      "  out[pos] = (np.power(x[pos] + 1, lmbda) - 1) / lmbda\n"
     ]
    },
    {
     "name": "stdout",
     "output_type": "stream",
     "text": [
      "📈 63 - MetricMotif with avg smape 8.78: \n",
      "Model Number: 64 of 141 with model RRVAR for Validation 2\n"
     ]
    },
    {
     "name": "stderr",
     "output_type": "stream",
     "text": [
      "C:\\Users\\ekaushik\\AppData\\Local\\Packages\\PythonSoftwareFoundation.Python.3.8_qbz5n2kfra8p0\\LocalCache\\local-packages\\Python38\\site-packages\\sklearn\\preprocessing\\_data.py:3308: RuntimeWarning: overflow encountered in power\n",
      "  out[pos] = (np.power(x[pos] + 1, lmbda) - 1) / lmbda\n",
      "C:\\Users\\ekaushik\\AppData\\Local\\Packages\\PythonSoftwareFoundation.Python.3.8_qbz5n2kfra8p0\\LocalCache\\local-packages\\Python38\\site-packages\\numpy\\core\\_methods.py:236: RuntimeWarning: overflow encountered in multiply\n",
      "  x = um.multiply(x, x, out=x)\n",
      "C:\\Users\\ekaushik\\AppData\\Local\\Packages\\PythonSoftwareFoundation.Python.3.8_qbz5n2kfra8p0\\LocalCache\\local-packages\\Python38\\site-packages\\numpy\\core\\_methods.py:247: RuntimeWarning: overflow encountered in reduce\n",
      "  ret = umr_sum(x, axis, dtype, out, keepdims=keepdims, where=where)\n"
     ]
    },
    {
     "name": "stdout",
     "output_type": "stream",
     "text": [
      "📈 64 - RRVAR with avg smape 7.2: \n",
      "Model Number: 65 of 141 with model FBProphet for Validation 2\n",
      "65 - FBProphet with avg smape 14.65: \n",
      "Model Number: 66 of 141 with model UnobservedComponents for Validation 2\n",
      "Template Eval Error: Exception('Transformer PowerTransformer failed on fit') in model 66 in generation 0: UnobservedComponents\n",
      "Model Number: 67 of 141 with model Theta for Validation 2\n"
     ]
    },
    {
     "name": "stderr",
     "output_type": "stream",
     "text": [
      "C:\\Users\\ekaushik\\AppData\\Local\\Packages\\PythonSoftwareFoundation.Python.3.8_qbz5n2kfra8p0\\LocalCache\\local-packages\\Python38\\site-packages\\sklearn\\preprocessing\\_data.py:3308: RuntimeWarning: overflow encountered in power\n",
      "  out[pos] = (np.power(x[pos] + 1, lmbda) - 1) / lmbda\n"
     ]
    },
    {
     "name": "stdout",
     "output_type": "stream",
     "text": [
      "67 - Theta with avg smape 12.81: \n",
      "Model Number: 68 of 141 with model AverageValueNaive for Validation 2\n",
      "68 - AverageValueNaive with avg smape 10.03: \n",
      "Model Number: 69 of 141 with model AverageValueNaive for Validation 2\n",
      "69 - AverageValueNaive with avg smape 10.03: \n",
      "Model Number: 70 of 141 with model AverageValueNaive for Validation 2\n",
      "70 - AverageValueNaive with avg smape 10.03: \n",
      "Model Number: 71 of 141 with model FBProphet for Validation 2\n",
      "71 - FBProphet with avg smape 14.75: \n",
      "Model Number: 72 of 141 with model UnobservedComponents for Validation 2\n",
      "72 - UnobservedComponents with avg smape 9.99: \n",
      "Model Number: 73 of 141 with model UnobservedComponents for Validation 2\n",
      "73 - UnobservedComponents with avg smape 9.79: \n",
      "Model Number: 74 of 141 with model UnobservedComponents for Validation 2\n",
      "74 - UnobservedComponents with avg smape 10.01: \n",
      "Model Number: 75 of 141 with model SeasonalNaive for Validation 2\n",
      "Template Eval Error: Exception('Transformer PowerTransformer failed on fit') in model 75 in generation 0: SeasonalNaive\n",
      "Model Number: 76 of 141 with model ARDL for Validation 2\n"
     ]
    },
    {
     "name": "stderr",
     "output_type": "stream",
     "text": [
      "C:\\Users\\ekaushik\\AppData\\Local\\Packages\\PythonSoftwareFoundation.Python.3.8_qbz5n2kfra8p0\\LocalCache\\local-packages\\Python38\\site-packages\\sklearn\\preprocessing\\_data.py:3308: RuntimeWarning: overflow encountered in power\n",
      "  out[pos] = (np.power(x[pos] + 1, lmbda) - 1) / lmbda\n"
     ]
    },
    {
     "name": "stdout",
     "output_type": "stream",
     "text": [
      "76 - ARDL with avg smape 14.45: \n",
      "Model Number: 77 of 141 with model VAR for Validation 2\n",
      "77 - VAR with avg smape 12.58: \n",
      "Model Number: 78 of 141 with model ARDL for Validation 2\n",
      "78 - ARDL with avg smape 12.59: \n",
      "Model Number: 79 of 141 with model WindowRegression for Validation 2\n",
      "Template Eval Error: Exception('Transformer PowerTransformer failed on fit') in model 79 in generation 0: WindowRegression\n",
      "Model Number: 80 of 141 with model SeasonalityMotif for Validation 2\n",
      "80 - SeasonalityMotif with avg smape 26.86: \n",
      "Model Number: 81 of 141 with model FFT for Validation 2\n"
     ]
    },
    {
     "name": "stderr",
     "output_type": "stream",
     "text": [
      "C:\\Users\\ekaushik\\AppData\\Local\\Packages\\PythonSoftwareFoundation.Python.3.8_qbz5n2kfra8p0\\LocalCache\\local-packages\\Python38\\site-packages\\sklearn\\preprocessing\\_data.py:3308: RuntimeWarning: overflow encountered in power\n",
      "  out[pos] = (np.power(x[pos] + 1, lmbda) - 1) / lmbda\n"
     ]
    },
    {
     "name": "stdout",
     "output_type": "stream",
     "text": [
      "81 - FFT with avg smape 11.91: \n",
      "Model Number: 82 of 141 with model FFT for Validation 2\n",
      "82 - FFT with avg smape 11.81: \n",
      "Model Number: 83 of 141 with model ARDL for Validation 2\n",
      "83 - ARDL with avg smape 9.41: \n",
      "Model Number: 84 of 141 with model Theta for Validation 2\n",
      "84 - Theta with avg smape 10.4: \n",
      "Model Number: 85 of 141 with model SectionalMotif for Validation 2\n",
      "85 - SectionalMotif with avg smape 11.93: \n",
      "Model Number: 86 of 141 with model MultivariateMotif for Validation 2\n",
      "86 - MultivariateMotif with avg smape 12.25: \n",
      "Model Number: 87 of 141 with model SeasonalNaive for Validation 2\n",
      "87 - SeasonalNaive with avg smape 10.6: \n",
      "Model Number: 88 of 141 with model SeasonalNaive for Validation 2\n",
      "88 - SeasonalNaive with avg smape 11.47: \n",
      "Model Number: 89 of 141 with model VAR for Validation 2\n",
      "89 - VAR with avg smape 16.37: \n",
      "Model Number: 90 of 141 with model VAR for Validation 2\n",
      "90 - VAR with avg smape 16.37: \n",
      "Model Number: 91 of 141 with model VAR for Validation 2\n",
      "91 - VAR with avg smape 14.67: \n",
      "Model Number: 92 of 141 with model VAR for Validation 2\n",
      "92 - VAR with avg smape 14.67: \n",
      "Model Number: 93 of 141 with model VAR for Validation 2\n",
      "93 - VAR with avg smape 14.67: \n",
      "Model Number: 94 of 141 with model SeasonalNaive for Validation 2\n",
      "94 - SeasonalNaive with avg smape 10.5: \n",
      "Model Number: 95 of 141 with model ConstantNaive for Validation 2\n"
     ]
    },
    {
     "name": "stderr",
     "output_type": "stream",
     "text": [
      "C:\\Users\\ekaushik\\AppData\\Local\\Packages\\PythonSoftwareFoundation.Python.3.8_qbz5n2kfra8p0\\LocalCache\\local-packages\\Python38\\site-packages\\sklearn\\preprocessing\\_data.py:3308: RuntimeWarning: overflow encountered in power\n",
      "  out[pos] = (np.power(x[pos] + 1, lmbda) - 1) / lmbda\n",
      "C:\\Users\\ekaushik\\AppData\\Local\\Packages\\PythonSoftwareFoundation.Python.3.8_qbz5n2kfra8p0\\LocalCache\\local-packages\\Python38\\site-packages\\numpy\\core\\_methods.py:236: RuntimeWarning: overflow encountered in multiply\n",
      "  x = um.multiply(x, x, out=x)\n",
      "C:\\Users\\ekaushik\\AppData\\Local\\Packages\\PythonSoftwareFoundation.Python.3.8_qbz5n2kfra8p0\\LocalCache\\local-packages\\Python38\\site-packages\\numpy\\core\\_methods.py:247: RuntimeWarning: overflow encountered in reduce\n",
      "  ret = umr_sum(x, axis, dtype, out, keepdims=keepdims, where=where)\n"
     ]
    },
    {
     "name": "stdout",
     "output_type": "stream",
     "text": [
      "95 - ConstantNaive with avg smape 15.07: \n",
      "Model Number: 96 of 141 with model SeasonalNaive for Validation 2\n",
      "96 - SeasonalNaive with avg smape 12.49: \n",
      "Model Number: 97 of 141 with model ARDL for Validation 2\n",
      "97 - ARDL with avg smape 12.76: \n",
      "Model Number: 98 of 141 with model SeasonalNaive for Validation 2\n",
      "98 - SeasonalNaive with avg smape 10.54: \n",
      "Model Number: 99 of 141 with model UnivariateMotif for Validation 2\n",
      "99 - UnivariateMotif with avg smape 15.74: \n",
      "Model Number: 100 of 141 with model FFT for Validation 2\n",
      "100 - FFT with avg smape 11.47: \n",
      "Model Number: 101 of 141 with model SeasonalityMotif for Validation 2\n",
      "101 - SeasonalityMotif with avg smape 12.13: \n",
      "Model Number: 102 of 141 with model ARCH for Validation 2\n",
      "102 - ARCH with avg smape 13.01: \n",
      "Model Number: 103 of 141 with model ConstantNaive for Validation 2\n",
      "103 - ConstantNaive with avg smape 15.51: \n",
      "Model Number: 104 of 141 with model ConstantNaive for Validation 2\n",
      "104 - ConstantNaive with avg smape 15.51: \n",
      "Model Number: 105 of 141 with model FFT for Validation 2\n"
     ]
    },
    {
     "name": "stderr",
     "output_type": "stream",
     "text": [
      "C:\\Users\\ekaushik\\AppData\\Local\\Packages\\PythonSoftwareFoundation.Python.3.8_qbz5n2kfra8p0\\LocalCache\\local-packages\\Python38\\site-packages\\sklearn\\linear_model\\_coordinate_descent.py:2412: ConvergenceWarning: Objective did not converge. You might want to increase the number of iterations. Duality gap: 76520928.70936137, tolerance: 74255.8996584385\n",
      "  ) = cd_fast.enet_coordinate_descent_multi_task(\n"
     ]
    },
    {
     "name": "stdout",
     "output_type": "stream",
     "text": [
      "105 - FFT with avg smape 11.76: \n",
      "Model Number: 106 of 141 with model AverageValueNaive for Validation 2\n",
      "106 - AverageValueNaive with avg smape 11.37: \n",
      "Model Number: 107 of 141 with model SectionalMotif for Validation 2\n",
      "107 - SectionalMotif with avg smape 8.21: \n",
      "Model Number: 108 of 141 with model MultivariateMotif for Validation 2\n",
      "108 - MultivariateMotif with avg smape 8.24: \n",
      "Model Number: 109 of 141 with model ConstantNaive for Validation 2\n",
      "109 - ConstantNaive with avg smape 13.01: \n",
      "Model Number: 110 of 141 with model ConstantNaive for Validation 2\n",
      "110 - ConstantNaive with avg smape 13.01: \n",
      "Model Number: 111 of 141 with model UnobservedComponents for Validation 2\n"
     ]
    },
    {
     "name": "stderr",
     "output_type": "stream",
     "text": [
      "C:\\Users\\ekaushik\\AppData\\Local\\Packages\\PythonSoftwareFoundation.Python.3.8_qbz5n2kfra8p0\\LocalCache\\local-packages\\Python38\\site-packages\\sklearn\\linear_model\\_coordinate_descent.py:2412: ConvergenceWarning: Objective did not converge. You might want to increase the number of iterations. Duality gap: 36778393.95100391, tolerance: 92834.49678186984\n",
      "  ) = cd_fast.enet_coordinate_descent_multi_task(\n"
     ]
    },
    {
     "name": "stdout",
     "output_type": "stream",
     "text": [
      "111 - UnobservedComponents with avg smape 12.69: \n",
      "Model Number: 112 of 141 with model AverageValueNaive for Validation 2\n",
      "112 - AverageValueNaive with avg smape 13.34: \n",
      "Model Number: 113 of 141 with model ARCH for Validation 2\n",
      "113 - ARCH with avg smape 13.44: \n",
      "Model Number: 114 of 141 with model WindowRegression for Validation 2\n",
      "114 - WindowRegression with avg smape 11.71: \n",
      "Model Number: 115 of 141 with model MetricMotif for Validation 2\n",
      "115 - MetricMotif with avg smape 15.71: \n",
      "Model Number: 116 of 141 with model MultivariateMotif for Validation 2\n",
      "116 - MultivariateMotif with avg smape 10.43: \n",
      "Model Number: 117 of 141 with model WindowRegression for Validation 2\n",
      "Template Eval Error: Exception('Transformer PowerTransformer failed on fit') in model 117 in generation 0: WindowRegression\n",
      "Model Number: 118 of 141 with model GLS for Validation 2\n"
     ]
    },
    {
     "name": "stderr",
     "output_type": "stream",
     "text": [
      "C:\\Users\\ekaushik\\AppData\\Local\\Packages\\PythonSoftwareFoundation.Python.3.8_qbz5n2kfra8p0\\LocalCache\\local-packages\\Python38\\site-packages\\sklearn\\preprocessing\\_data.py:3308: RuntimeWarning: overflow encountered in power\n",
      "  out[pos] = (np.power(x[pos] + 1, lmbda) - 1) / lmbda\n"
     ]
    },
    {
     "name": "stdout",
     "output_type": "stream",
     "text": [
      "118 - GLS with avg smape 10.96: \n",
      "Model Number: 119 of 141 with model UnivariateMotif for Validation 2\n",
      "119 - UnivariateMotif with avg smape 17.09: \n",
      "Model Number: 120 of 141 with model GLS for Validation 2\n",
      "120 - GLS with avg smape 10.65: \n",
      "Model Number: 121 of 141 with model GLS for Validation 2\n",
      "121 - GLS with avg smape 10.56: \n",
      "Model Number: 122 of 141 with model RRVAR for Validation 2\n"
     ]
    },
    {
     "name": "stderr",
     "output_type": "stream",
     "text": [
      "C:\\Users\\ekaushik\\AppData\\Local\\Packages\\PythonSoftwareFoundation.Python.3.8_qbz5n2kfra8p0\\LocalCache\\local-packages\\Python38\\site-packages\\sklearn\\preprocessing\\_data.py:3308: RuntimeWarning: overflow encountered in power\n",
      "  out[pos] = (np.power(x[pos] + 1, lmbda) - 1) / lmbda\n",
      "C:\\Users\\ekaushik\\AppData\\Local\\Packages\\PythonSoftwareFoundation.Python.3.8_qbz5n2kfra8p0\\LocalCache\\local-packages\\Python38\\site-packages\\numpy\\core\\_methods.py:236: RuntimeWarning: overflow encountered in multiply\n",
      "  x = um.multiply(x, x, out=x)\n",
      "C:\\Users\\ekaushik\\AppData\\Local\\Packages\\PythonSoftwareFoundation.Python.3.8_qbz5n2kfra8p0\\LocalCache\\local-packages\\Python38\\site-packages\\numpy\\core\\_methods.py:247: RuntimeWarning: overflow encountered in reduce\n",
      "  ret = umr_sum(x, axis, dtype, out, keepdims=keepdims, where=where)\n"
     ]
    },
    {
     "name": "stdout",
     "output_type": "stream",
     "text": [
      "122 - RRVAR with avg smape 12.34: \n",
      "Model Number: 123 of 141 with model MultivariateMotif for Validation 2\n",
      "123 - MultivariateMotif with avg smape 11.65: \n",
      "Model Number: 124 of 141 with model MetricMotif for Validation 2\n",
      "124 - MetricMotif with avg smape 9.84: \n",
      "Model Number: 125 of 141 with model WindowRegression for Validation 2\n",
      "125 - WindowRegression with avg smape 13.04: \n",
      "Model Number: 126 of 141 with model Cassandra for Validation 2\n"
     ]
    },
    {
     "name": "stderr",
     "output_type": "stream",
     "text": [
      "C:\\Users\\ekaushik\\AppData\\Local\\Packages\\PythonSoftwareFoundation.Python.3.8_qbz5n2kfra8p0\\LocalCache\\local-packages\\Python38\\site-packages\\numpy\\lib\\function_base.py:2853: RuntimeWarning: invalid value encountered in divide\n",
      "  c /= stddev[:, None]\n",
      "C:\\Users\\ekaushik\\AppData\\Local\\Packages\\PythonSoftwareFoundation.Python.3.8_qbz5n2kfra8p0\\LocalCache\\local-packages\\Python38\\site-packages\\numpy\\lib\\function_base.py:2854: RuntimeWarning: invalid value encountered in divide\n",
      "  c /= stddev[None, :]\n"
     ]
    },
    {
     "name": "stdout",
     "output_type": "stream",
     "text": [
      "126 - Cassandra with avg smape 12.62: \n",
      "Model Number: 127 of 141 with model RRVAR for Validation 2\n"
     ]
    },
    {
     "name": "stderr",
     "output_type": "stream",
     "text": [
      "C:\\Users\\ekaushik\\AppData\\Local\\Packages\\PythonSoftwareFoundation.Python.3.8_qbz5n2kfra8p0\\LocalCache\\local-packages\\Python38\\site-packages\\sklearn\\preprocessing\\_data.py:3308: RuntimeWarning: overflow encountered in power\n",
      "  out[pos] = (np.power(x[pos] + 1, lmbda) - 1) / lmbda\n"
     ]
    },
    {
     "name": "stdout",
     "output_type": "stream",
     "text": [
      "Template Eval Error: Exception('Transformer PowerTransformer failed on fit') in model 127 in generation 0: RRVAR\n",
      "Model Number: 128 of 141 with model MultivariateMotif for Validation 2\n",
      "128 - MultivariateMotif with avg smape 17.61: \n",
      "Model Number: 129 of 141 with model MAR for Validation 2\n",
      "129 - MAR with avg smape 15.59: \n",
      "Model Number: 130 of 141 with model MultivariateMotif for Validation 2\n",
      "Template Eval Error: Exception('Transformer PowerTransformer failed on fit') in model 130 in generation 0: MultivariateMotif\n",
      "Model Number: 131 of 141 with model DatepartRegression for Validation 2\n"
     ]
    },
    {
     "name": "stderr",
     "output_type": "stream",
     "text": [
      "C:\\Users\\ekaushik\\AppData\\Local\\Packages\\PythonSoftwareFoundation.Python.3.8_qbz5n2kfra8p0\\LocalCache\\local-packages\\Python38\\site-packages\\sklearn\\preprocessing\\_data.py:3308: RuntimeWarning: overflow encountered in power\n",
      "  out[pos] = (np.power(x[pos] + 1, lmbda) - 1) / lmbda\n",
      "C:\\Users\\ekaushik\\AppData\\Local\\Packages\\PythonSoftwareFoundation.Python.3.8_qbz5n2kfra8p0\\LocalCache\\local-packages\\Python38\\site-packages\\sklearn\\linear_model\\_ridge.py:200: LinAlgWarning: Ill-conditioned matrix (rcond=4.93879e-25): result may not be accurate.\n",
      "  return linalg.solve(A, Xy, assume_a=\"pos\", overwrite_a=True).T\n"
     ]
    },
    {
     "name": "stdout",
     "output_type": "stream",
     "text": [
      "131 - DatepartRegression with avg smape 9.22: \n",
      "Model Number: 132 of 141 with model UnivariateMotif for Validation 2\n",
      "132 - UnivariateMotif with avg smape 15.93: \n",
      "Model Number: 133 of 141 with model RRVAR for Validation 2\n",
      "133 - RRVAR with avg smape 11.84: \n",
      "Model Number: 134 of 141 with model RRVAR for Validation 2\n",
      "134 - RRVAR with avg smape 17.5: \n",
      "Model Number: 135 of 141 with model DatepartRegression for Validation 2\n",
      "135 - DatepartRegression with avg smape 13.06: \n",
      "Model Number: 136 of 141 with model RRVAR for Validation 2\n",
      "136 - RRVAR with avg smape 11.42: \n",
      "Model Number: 137 of 141 with model FFT for Validation 2\n",
      "137 - FFT with avg smape 9.63: \n",
      "Model Number: 138 of 141 with model LastValueNaive for Validation 2\n",
      "138 - LastValueNaive with avg smape 9.63: \n",
      "Model Number: 139 of 141 with model FBProphet for Validation 2\n",
      "139 - FBProphet with avg smape 14.69: \n",
      "Model Number: 140 of 141 with model WindowRegression for Validation 2\n",
      "Template Eval Error: Exception('Transformer PowerTransformer failed on fit') in model 140 in generation 0: WindowRegression\n",
      "Model Number: 141 of 141 with model ARIMA for Validation 2\n"
     ]
    },
    {
     "name": "stderr",
     "output_type": "stream",
     "text": [
      "C:\\Users\\ekaushik\\AppData\\Local\\Packages\\PythonSoftwareFoundation.Python.3.8_qbz5n2kfra8p0\\LocalCache\\local-packages\\Python38\\site-packages\\sklearn\\preprocessing\\_data.py:3308: RuntimeWarning: overflow encountered in power\n",
      "  out[pos] = (np.power(x[pos] + 1, lmbda) - 1) / lmbda\n"
     ]
    },
    {
     "name": "stdout",
     "output_type": "stream",
     "text": [
      "141 - ARIMA with avg smape 13.01: \n",
      "Validation Round: 3\n",
      "Model Number: 1 of 141 with model Ensemble for Validation 3\n"
     ]
    },
    {
     "name": "stderr",
     "output_type": "stream",
     "text": [
      "C:\\Users\\ekaushik\\AppData\\Local\\Packages\\PythonSoftwareFoundation.Python.3.8_qbz5n2kfra8p0\\LocalCache\\local-packages\\Python38\\site-packages\\sklearn\\linear_model\\_ridge.py:200: LinAlgWarning: Ill-conditioned matrix (rcond=5.2773e-25): result may not be accurate.\n",
      "  return linalg.solve(A, Xy, assume_a=\"pos\", overwrite_a=True).T\n"
     ]
    },
    {
     "name": "stdout",
     "output_type": "stream",
     "text": [
      "📈 1 - Ensemble with avg smape 10.62: \n",
      "Model Number: 2 of 141 with model Ensemble for Validation 3\n"
     ]
    },
    {
     "name": "stderr",
     "output_type": "stream",
     "text": [
      "C:\\Users\\ekaushik\\AppData\\Local\\Packages\\PythonSoftwareFoundation.Python.3.8_qbz5n2kfra8p0\\LocalCache\\local-packages\\Python38\\site-packages\\sklearn\\linear_model\\_ridge.py:200: LinAlgWarning: Ill-conditioned matrix (rcond=5.2773e-25): result may not be accurate.\n",
      "  return linalg.solve(A, Xy, assume_a=\"pos\", overwrite_a=True).T\n"
     ]
    },
    {
     "name": "stdout",
     "output_type": "stream",
     "text": [
      "2 - Ensemble with avg smape 10.73: \n",
      "Model Number: 3 of 141 with model Ensemble for Validation 3\n"
     ]
    },
    {
     "name": "stderr",
     "output_type": "stream",
     "text": [
      "C:\\Users\\ekaushik\\AppData\\Local\\Packages\\PythonSoftwareFoundation.Python.3.8_qbz5n2kfra8p0\\LocalCache\\local-packages\\Python38\\site-packages\\sklearn\\linear_model\\_ridge.py:200: LinAlgWarning: Ill-conditioned matrix (rcond=5.2773e-25): result may not be accurate.\n",
      "  return linalg.solve(A, Xy, assume_a=\"pos\", overwrite_a=True).T\n"
     ]
    },
    {
     "name": "stdout",
     "output_type": "stream",
     "text": [
      "3 - Ensemble with avg smape 10.72: \n",
      "Model Number: 4 of 141 with model Ensemble for Validation 3\n"
     ]
    },
    {
     "name": "stderr",
     "output_type": "stream",
     "text": [
      "C:\\Users\\ekaushik\\AppData\\Local\\Packages\\PythonSoftwareFoundation.Python.3.8_qbz5n2kfra8p0\\LocalCache\\local-packages\\Python38\\site-packages\\sklearn\\linear_model\\_ridge.py:200: LinAlgWarning: Ill-conditioned matrix (rcond=5.2773e-25): result may not be accurate.\n",
      "  return linalg.solve(A, Xy, assume_a=\"pos\", overwrite_a=True).T\n",
      "C:\\Users\\ekaushik\\AppData\\Local\\Packages\\PythonSoftwareFoundation.Python.3.8_qbz5n2kfra8p0\\LocalCache\\local-packages\\Python38\\site-packages\\sklearn\\preprocessing\\_data.py:3308: RuntimeWarning: overflow encountered in power\n",
      "  out[pos] = (np.power(x[pos] + 1, lmbda) - 1) / lmbda\n"
     ]
    },
    {
     "name": "stdout",
     "output_type": "stream",
     "text": [
      "Traceback (most recent call last):\n",
      "  File \"C:\\Users\\ekaushik\\AppData\\Local\\Packages\\PythonSoftwareFoundation.Python.3.8_qbz5n2kfra8p0\\LocalCache\\local-packages\\Python38\\site-packages\\autots\\tools\\transform.py\", line 4732, in _fit\n",
      "    df = self._fit_one(df, i)\n",
      "  File \"C:\\Users\\ekaushik\\AppData\\Local\\Packages\\PythonSoftwareFoundation.Python.3.8_qbz5n2kfra8p0\\LocalCache\\local-packages\\Python38\\site-packages\\autots\\tools\\transform.py\", line 4716, in _fit_one\n",
      "    df = self.transformers[i].fit_transform(df)\n",
      "  File \"C:\\Users\\ekaushik\\AppData\\Local\\Packages\\PythonSoftwareFoundation.Python.3.8_qbz5n2kfra8p0\\LocalCache\\local-packages\\Python38\\site-packages\\sklearn\\utils\\_set_output.py\", line 157, in wrapped\n",
      "    data_to_wrap = f(self, X, *args, **kwargs)\n",
      "  File \"C:\\Users\\ekaushik\\AppData\\Local\\Packages\\PythonSoftwareFoundation.Python.3.8_qbz5n2kfra8p0\\LocalCache\\local-packages\\Python38\\site-packages\\sklearn\\base.py\", line 1152, in wrapper\n",
      "    return fit_method(estimator, *args, **kwargs)\n",
      "  File \"C:\\Users\\ekaushik\\AppData\\Local\\Packages\\PythonSoftwareFoundation.Python.3.8_qbz5n2kfra8p0\\LocalCache\\local-packages\\Python38\\site-packages\\sklearn\\preprocessing\\_data.py\", line 3142, in fit_transform\n",
      "    return self._fit(X, y, force_transform=True)\n",
      "  File \"C:\\Users\\ekaushik\\AppData\\Local\\Packages\\PythonSoftwareFoundation.Python.3.8_qbz5n2kfra8p0\\LocalCache\\local-packages\\Python38\\site-packages\\sklearn\\preprocessing\\_data.py\", line 3182, in _fit\n",
      "    X = self._scaler.fit_transform(X)\n",
      "  File \"C:\\Users\\ekaushik\\AppData\\Local\\Packages\\PythonSoftwareFoundation.Python.3.8_qbz5n2kfra8p0\\LocalCache\\local-packages\\Python38\\site-packages\\sklearn\\utils\\_set_output.py\", line 157, in wrapped\n",
      "    data_to_wrap = f(self, X, *args, **kwargs)\n",
      "  File \"C:\\Users\\ekaushik\\AppData\\Local\\Packages\\PythonSoftwareFoundation.Python.3.8_qbz5n2kfra8p0\\LocalCache\\local-packages\\Python38\\site-packages\\sklearn\\base.py\", line 916, in fit_transform\n",
      "    return self.fit(X, **fit_params).transform(X)\n",
      "  File \"C:\\Users\\ekaushik\\AppData\\Local\\Packages\\PythonSoftwareFoundation.Python.3.8_qbz5n2kfra8p0\\LocalCache\\local-packages\\Python38\\site-packages\\sklearn\\preprocessing\\_data.py\", line 839, in fit\n",
      "    return self.partial_fit(X, y, sample_weight)\n",
      "  File \"C:\\Users\\ekaushik\\AppData\\Local\\Packages\\PythonSoftwareFoundation.Python.3.8_qbz5n2kfra8p0\\LocalCache\\local-packages\\Python38\\site-packages\\sklearn\\base.py\", line 1152, in wrapper\n",
      "    return fit_method(estimator, *args, **kwargs)\n",
      "  File \"C:\\Users\\ekaushik\\AppData\\Local\\Packages\\PythonSoftwareFoundation.Python.3.8_qbz5n2kfra8p0\\LocalCache\\local-packages\\Python38\\site-packages\\sklearn\\preprocessing\\_data.py\", line 875, in partial_fit\n",
      "    X = self._validate_data(\n",
      "  File \"C:\\Users\\ekaushik\\AppData\\Local\\Packages\\PythonSoftwareFoundation.Python.3.8_qbz5n2kfra8p0\\LocalCache\\local-packages\\Python38\\site-packages\\sklearn\\base.py\", line 605, in _validate_data\n",
      "    out = check_array(X, input_name=\"X\", **check_params)\n",
      "  File \"C:\\Users\\ekaushik\\AppData\\Local\\Packages\\PythonSoftwareFoundation.Python.3.8_qbz5n2kfra8p0\\LocalCache\\local-packages\\Python38\\site-packages\\sklearn\\utils\\validation.py\", line 957, in check_array\n",
      "    _assert_all_finite(\n",
      "  File \"C:\\Users\\ekaushik\\AppData\\Local\\Packages\\PythonSoftwareFoundation.Python.3.8_qbz5n2kfra8p0\\LocalCache\\local-packages\\Python38\\site-packages\\sklearn\\utils\\validation.py\", line 122, in _assert_all_finite\n",
      "    _assert_all_finite_element_wise(\n",
      "  File \"C:\\Users\\ekaushik\\AppData\\Local\\Packages\\PythonSoftwareFoundation.Python.3.8_qbz5n2kfra8p0\\LocalCache\\local-packages\\Python38\\site-packages\\sklearn\\utils\\validation.py\", line 171, in _assert_all_finite_element_wise\n",
      "    raise ValueError(msg_err)\n",
      "ValueError: Input X contains infinity or a value too large for dtype('float64').\n",
      "\n",
      "The above exception was the direct cause of the following exception:\n",
      "\n",
      "Traceback (most recent call last):\n",
      "  File \"C:\\Users\\ekaushik\\AppData\\Local\\Packages\\PythonSoftwareFoundation.Python.3.8_qbz5n2kfra8p0\\LocalCache\\local-packages\\Python38\\site-packages\\autots\\evaluator\\auto_model.py\", line 1285, in model_forecast\n",
      "    df_forecast = model_forecast(\n",
      "  File \"C:\\Users\\ekaushik\\AppData\\Local\\Packages\\PythonSoftwareFoundation.Python.3.8_qbz5n2kfra8p0\\LocalCache\\local-packages\\Python38\\site-packages\\autots\\evaluator\\auto_model.py\", line 1389, in model_forecast\n",
      "    model = model.fit(df_train_low, future_regressor_train)\n",
      "  File \"C:\\Users\\ekaushik\\AppData\\Local\\Packages\\PythonSoftwareFoundation.Python.3.8_qbz5n2kfra8p0\\LocalCache\\local-packages\\Python38\\site-packages\\autots\\evaluator\\auto_model.py\", line 813, in fit\n",
      "    df_train_transformed = self.transformer_object._fit(df)\n",
      "  File \"C:\\Users\\ekaushik\\AppData\\Local\\Packages\\PythonSoftwareFoundation.Python.3.8_qbz5n2kfra8p0\\LocalCache\\local-packages\\Python38\\site-packages\\autots\\tools\\transform.py\", line 4734, in _fit\n",
      "    raise Exception(\n",
      "Exception: Transformer PowerTransformer failed on fit\n",
      "\n",
      "FAILED: Ensemble BestN component 4 of 3 VECM with error: Exception('Transformer PowerTransformer failed on fit')\n",
      "4 - Ensemble with avg smape 10.79: \n",
      "Model Number: 5 of 141 with model FBProphet for Validation 3\n"
     ]
    },
    {
     "name": "stderr",
     "output_type": "stream",
     "text": [
      "C:\\Users\\ekaushik\\AppData\\Local\\Packages\\PythonSoftwareFoundation.Python.3.8_qbz5n2kfra8p0\\LocalCache\\local-packages\\Python38\\site-packages\\sklearn\\linear_model\\_ridge.py:200: LinAlgWarning: Ill-conditioned matrix (rcond=5.2773e-25): result may not be accurate.\n",
      "  return linalg.solve(A, Xy, assume_a=\"pos\", overwrite_a=True).T\n"
     ]
    },
    {
     "name": "stdout",
     "output_type": "stream",
     "text": [
      "5 - FBProphet with avg smape 10.71: \n",
      "Model Number: 6 of 141 with model Ensemble for Validation 3\n"
     ]
    },
    {
     "name": "stderr",
     "output_type": "stream",
     "text": [
      "C:\\Users\\ekaushik\\AppData\\Local\\Packages\\PythonSoftwareFoundation.Python.3.8_qbz5n2kfra8p0\\LocalCache\\local-packages\\Python38\\site-packages\\sklearn\\linear_model\\_ridge.py:200: LinAlgWarning: Ill-conditioned matrix (rcond=5.2773e-25): result may not be accurate.\n",
      "  return linalg.solve(A, Xy, assume_a=\"pos\", overwrite_a=True).T\n"
     ]
    },
    {
     "name": "stdout",
     "output_type": "stream",
     "text": [
      "Traceback (most recent call last):\n",
      "  File \"C:\\Users\\ekaushik\\AppData\\Local\\Packages\\PythonSoftwareFoundation.Python.3.8_qbz5n2kfra8p0\\LocalCache\\local-packages\\Python38\\site-packages\\autots\\tools\\transform.py\", line 4732, in _fit\n",
      "    df = self._fit_one(df, i)\n",
      "  File \"C:\\Users\\ekaushik\\AppData\\Local\\Packages\\PythonSoftwareFoundation.Python.3.8_qbz5n2kfra8p0\\LocalCache\\local-packages\\Python38\\site-packages\\autots\\tools\\transform.py\", line 4716, in _fit_one\n",
      "    df = self.transformers[i].fit_transform(df)\n",
      "  File \"C:\\Users\\ekaushik\\AppData\\Local\\Packages\\PythonSoftwareFoundation.Python.3.8_qbz5n2kfra8p0\\LocalCache\\local-packages\\Python38\\site-packages\\sklearn\\utils\\_set_output.py\", line 157, in wrapped\n",
      "    data_to_wrap = f(self, X, *args, **kwargs)\n",
      "  File \"C:\\Users\\ekaushik\\AppData\\Local\\Packages\\PythonSoftwareFoundation.Python.3.8_qbz5n2kfra8p0\\LocalCache\\local-packages\\Python38\\site-packages\\sklearn\\base.py\", line 1152, in wrapper\n",
      "    return fit_method(estimator, *args, **kwargs)\n",
      "  File \"C:\\Users\\ekaushik\\AppData\\Local\\Packages\\PythonSoftwareFoundation.Python.3.8_qbz5n2kfra8p0\\LocalCache\\local-packages\\Python38\\site-packages\\sklearn\\preprocessing\\_data.py\", line 3142, in fit_transform\n",
      "    return self._fit(X, y, force_transform=True)\n",
      "  File \"C:\\Users\\ekaushik\\AppData\\Local\\Packages\\PythonSoftwareFoundation.Python.3.8_qbz5n2kfra8p0\\LocalCache\\local-packages\\Python38\\site-packages\\sklearn\\preprocessing\\_data.py\", line 3182, in _fit\n",
      "    X = self._scaler.fit_transform(X)\n",
      "  File \"C:\\Users\\ekaushik\\AppData\\Local\\Packages\\PythonSoftwareFoundation.Python.3.8_qbz5n2kfra8p0\\LocalCache\\local-packages\\Python38\\site-packages\\sklearn\\utils\\_set_output.py\", line 157, in wrapped\n",
      "    data_to_wrap = f(self, X, *args, **kwargs)\n",
      "  File \"C:\\Users\\ekaushik\\AppData\\Local\\Packages\\PythonSoftwareFoundation.Python.3.8_qbz5n2kfra8p0\\LocalCache\\local-packages\\Python38\\site-packages\\sklearn\\base.py\", line 916, in fit_transform\n",
      "    return self.fit(X, **fit_params).transform(X)\n",
      "  File \"C:\\Users\\ekaushik\\AppData\\Local\\Packages\\PythonSoftwareFoundation.Python.3.8_qbz5n2kfra8p0\\LocalCache\\local-packages\\Python38\\site-packages\\sklearn\\preprocessing\\_data.py\", line 839, in fit\n",
      "    return self.partial_fit(X, y, sample_weight)\n",
      "  File \"C:\\Users\\ekaushik\\AppData\\Local\\Packages\\PythonSoftwareFoundation.Python.3.8_qbz5n2kfra8p0\\LocalCache\\local-packages\\Python38\\site-packages\\sklearn\\base.py\", line 1152, in wrapper\n",
      "    return fit_method(estimator, *args, **kwargs)\n",
      "  File \"C:\\Users\\ekaushik\\AppData\\Local\\Packages\\PythonSoftwareFoundation.Python.3.8_qbz5n2kfra8p0\\LocalCache\\local-packages\\Python38\\site-packages\\sklearn\\preprocessing\\_data.py\", line 875, in partial_fit\n",
      "    X = self._validate_data(\n",
      "  File \"C:\\Users\\ekaushik\\AppData\\Local\\Packages\\PythonSoftwareFoundation.Python.3.8_qbz5n2kfra8p0\\LocalCache\\local-packages\\Python38\\site-packages\\sklearn\\base.py\", line 605, in _validate_data\n",
      "    out = check_array(X, input_name=\"X\", **check_params)\n",
      "  File \"C:\\Users\\ekaushik\\AppData\\Local\\Packages\\PythonSoftwareFoundation.Python.3.8_qbz5n2kfra8p0\\LocalCache\\local-packages\\Python38\\site-packages\\sklearn\\utils\\validation.py\", line 957, in check_array\n",
      "    _assert_all_finite(\n",
      "  File \"C:\\Users\\ekaushik\\AppData\\Local\\Packages\\PythonSoftwareFoundation.Python.3.8_qbz5n2kfra8p0\\LocalCache\\local-packages\\Python38\\site-packages\\sklearn\\utils\\validation.py\", line 122, in _assert_all_finite\n",
      "    _assert_all_finite_element_wise(\n",
      "  File \"C:\\Users\\ekaushik\\AppData\\Local\\Packages\\PythonSoftwareFoundation.Python.3.8_qbz5n2kfra8p0\\LocalCache\\local-packages\\Python38\\site-packages\\sklearn\\utils\\validation.py\", line 171, in _assert_all_finite_element_wise\n",
      "    raise ValueError(msg_err)\n",
      "ValueError: Input X contains infinity or a value too large for dtype('float64').\n",
      "\n",
      "The above exception was the direct cause of the following exception:\n",
      "\n",
      "Traceback (most recent call last):\n",
      "  File \"C:\\Users\\ekaushik\\AppData\\Local\\Packages\\PythonSoftwareFoundation.Python.3.8_qbz5n2kfra8p0\\LocalCache\\local-packages\\Python38\\site-packages\\autots\\evaluator\\auto_model.py\", line 1285, in model_forecast\n",
      "    df_forecast = model_forecast(\n",
      "  File \"C:\\Users\\ekaushik\\AppData\\Local\\Packages\\PythonSoftwareFoundation.Python.3.8_qbz5n2kfra8p0\\LocalCache\\local-packages\\Python38\\site-packages\\autots\\evaluator\\auto_model.py\", line 1389, in model_forecast\n",
      "    model = model.fit(df_train_low, future_regressor_train)\n",
      "  File \"C:\\Users\\ekaushik\\AppData\\Local\\Packages\\PythonSoftwareFoundation.Python.3.8_qbz5n2kfra8p0\\LocalCache\\local-packages\\Python38\\site-packages\\autots\\evaluator\\auto_model.py\", line 813, in fit\n",
      "    df_train_transformed = self.transformer_object._fit(df)\n",
      "  File \"C:\\Users\\ekaushik\\AppData\\Local\\Packages\\PythonSoftwareFoundation.Python.3.8_qbz5n2kfra8p0\\LocalCache\\local-packages\\Python38\\site-packages\\autots\\tools\\transform.py\", line 4734, in _fit\n",
      "    raise Exception(\n",
      "Exception: Transformer PowerTransformer failed on fit\n",
      "\n",
      "FAILED: Ensemble BestN component 4 of 5 VECM with error: Exception('Transformer PowerTransformer failed on fit')\n"
     ]
    },
    {
     "name": "stderr",
     "output_type": "stream",
     "text": [
      "C:\\Users\\ekaushik\\AppData\\Local\\Packages\\PythonSoftwareFoundation.Python.3.8_qbz5n2kfra8p0\\LocalCache\\local-packages\\Python38\\site-packages\\sklearn\\preprocessing\\_data.py:3308: RuntimeWarning: overflow encountered in power\n",
      "  out[pos] = (np.power(x[pos] + 1, lmbda) - 1) / lmbda\n"
     ]
    },
    {
     "name": "stdout",
     "output_type": "stream",
     "text": [
      "6 - Ensemble with avg smape 11.51: \n",
      "Model Number: 7 of 141 with model FBProphet for Validation 3\n",
      "📈 7 - FBProphet with avg smape 10.49: \n",
      "Model Number: 8 of 141 with model Ensemble for Validation 3\n"
     ]
    },
    {
     "name": "stderr",
     "output_type": "stream",
     "text": [
      "C:\\Users\\ekaushik\\AppData\\Local\\Packages\\PythonSoftwareFoundation.Python.3.8_qbz5n2kfra8p0\\LocalCache\\local-packages\\Python38\\site-packages\\sklearn\\linear_model\\_ridge.py:200: LinAlgWarning: Ill-conditioned matrix (rcond=5.2773e-25): result may not be accurate.\n",
      "  return linalg.solve(A, Xy, assume_a=\"pos\", overwrite_a=True).T\n"
     ]
    },
    {
     "name": "stdout",
     "output_type": "stream",
     "text": [
      "8 - Ensemble with avg smape 11.41: \n",
      "Model Number: 9 of 141 with model KalmanStateSpace for Validation 3\n",
      "9 - KalmanStateSpace with avg smape 12.22: \n",
      "Model Number: 10 of 141 with model KalmanStateSpace for Validation 3\n",
      "10 - KalmanStateSpace with avg smape 11.21: \n",
      "Model Number: 11 of 141 with model FBProphet for Validation 3\n",
      "11 - FBProphet with avg smape 11.02: \n",
      "Model Number: 12 of 141 with model KalmanStateSpace for Validation 3\n",
      "12 - KalmanStateSpace with avg smape 11.58: \n",
      "Model Number: 13 of 141 with model VECM for Validation 3\n",
      "Template Eval Error: Exception('Transformer PowerTransformer failed on fit') in model 13 in generation 0: VECM\n",
      "Model Number: 14 of 141 with model MetricMotif for Validation 3\n"
     ]
    },
    {
     "name": "stderr",
     "output_type": "stream",
     "text": [
      "C:\\Users\\ekaushik\\AppData\\Local\\Packages\\PythonSoftwareFoundation.Python.3.8_qbz5n2kfra8p0\\LocalCache\\local-packages\\Python38\\site-packages\\sklearn\\preprocessing\\_data.py:3308: RuntimeWarning: overflow encountered in power\n",
      "  out[pos] = (np.power(x[pos] + 1, lmbda) - 1) / lmbda\n"
     ]
    },
    {
     "name": "stdout",
     "output_type": "stream",
     "text": [
      "14 - MetricMotif with avg smape 11.8: \n",
      "Model Number: 15 of 141 with model KalmanStateSpace for Validation 3\n",
      "15 - KalmanStateSpace with avg smape 11.46: \n",
      "Model Number: 16 of 141 with model VECM for Validation 3\n",
      "Template Eval Error: Exception('Transformer PowerTransformer failed on fit') in model 16 in generation 0: VECM\n",
      "Model Number: 17 of 141 with model VECM for Validation 3\n"
     ]
    },
    {
     "name": "stderr",
     "output_type": "stream",
     "text": [
      "C:\\Users\\ekaushik\\AppData\\Local\\Packages\\PythonSoftwareFoundation.Python.3.8_qbz5n2kfra8p0\\LocalCache\\local-packages\\Python38\\site-packages\\sklearn\\preprocessing\\_data.py:3308: RuntimeWarning: overflow encountered in power\n",
      "  out[pos] = (np.power(x[pos] + 1, lmbda) - 1) / lmbda\n",
      "C:\\Users\\ekaushik\\AppData\\Local\\Packages\\PythonSoftwareFoundation.Python.3.8_qbz5n2kfra8p0\\LocalCache\\local-packages\\Python38\\site-packages\\sklearn\\preprocessing\\_data.py:3308: RuntimeWarning: overflow encountered in power\n",
      "  out[pos] = (np.power(x[pos] + 1, lmbda) - 1) / lmbda\n"
     ]
    },
    {
     "name": "stdout",
     "output_type": "stream",
     "text": [
      "Template Eval Error: Exception('Transformer PowerTransformer failed on fit') in model 17 in generation 0: VECM\n",
      "Model Number: 18 of 141 with model ARDL for Validation 3\n",
      "18 - ARDL with avg smape 13.42: \n",
      "Model Number: 19 of 141 with model KalmanStateSpace for Validation 3\n",
      "19 - KalmanStateSpace with avg smape 10.87: \n",
      "Model Number: 20 of 141 with model LastValueNaive for Validation 3\n",
      "20 - LastValueNaive with avg smape 11.33: \n",
      "Model Number: 21 of 141 with model LastValueNaive for Validation 3\n",
      "21 - LastValueNaive with avg smape 11.08: \n",
      "Model Number: 22 of 141 with model VECM for Validation 3\n",
      "📈 22 - VECM with avg smape 10.3: \n",
      "Model Number: 23 of 141 with model VECM for Validation 3\n",
      "23 - VECM with avg smape 11.17: \n",
      "Model Number: 24 of 141 with model VECM for Validation 3\n",
      "Template Eval Error: Exception('Transformer PowerTransformer failed on fit') in model 24 in generation 0: VECM\n",
      "Model Number: 25 of 141 with model KalmanStateSpace for Validation 3\n"
     ]
    },
    {
     "name": "stderr",
     "output_type": "stream",
     "text": [
      "C:\\Users\\ekaushik\\AppData\\Local\\Packages\\PythonSoftwareFoundation.Python.3.8_qbz5n2kfra8p0\\LocalCache\\local-packages\\Python38\\site-packages\\sklearn\\preprocessing\\_data.py:3308: RuntimeWarning: overflow encountered in power\n",
      "  out[pos] = (np.power(x[pos] + 1, lmbda) - 1) / lmbda\n"
     ]
    },
    {
     "name": "stdout",
     "output_type": "stream",
     "text": [
      "25 - KalmanStateSpace with avg smape 11.46: \n",
      "Model Number: 26 of 141 with model LastValueNaive for Validation 3\n",
      "26 - LastValueNaive with avg smape 11.16: \n",
      "Model Number: 27 of 141 with model UnobservedComponents for Validation 3\n",
      "27 - UnobservedComponents with avg smape 10.4: \n",
      "Model Number: 28 of 141 with model LastValueNaive for Validation 3\n",
      "Template Eval Error: Exception('Transformer PowerTransformer failed on fit') in model 28 in generation 0: LastValueNaive\n",
      "Model Number: 29 of 141 with model LastValueNaive for Validation 3\n"
     ]
    },
    {
     "name": "stderr",
     "output_type": "stream",
     "text": [
      "C:\\Users\\ekaushik\\AppData\\Local\\Packages\\PythonSoftwareFoundation.Python.3.8_qbz5n2kfra8p0\\LocalCache\\local-packages\\Python38\\site-packages\\sklearn\\preprocessing\\_data.py:3308: RuntimeWarning: overflow encountered in power\n",
      "  out[pos] = (np.power(x[pos] + 1, lmbda) - 1) / lmbda\n",
      "C:\\Users\\ekaushik\\AppData\\Local\\Packages\\PythonSoftwareFoundation.Python.3.8_qbz5n2kfra8p0\\LocalCache\\local-packages\\Python38\\site-packages\\sklearn\\preprocessing\\_data.py:3308: RuntimeWarning: overflow encountered in power\n",
      "  out[pos] = (np.power(x[pos] + 1, lmbda) - 1) / lmbda\n"
     ]
    },
    {
     "name": "stdout",
     "output_type": "stream",
     "text": [
      "Template Eval Error: Exception('Transformer PowerTransformer failed on fit') in model 29 in generation 0: LastValueNaive\n",
      "Model Number: 30 of 141 with model LastValueNaive for Validation 3\n",
      "Template Eval Error: Exception('Transformer PowerTransformer failed on fit') in model 30 in generation 0: LastValueNaive\n",
      "Model Number: 31 of 141 with model AverageValueNaive for Validation 3\n",
      "31 - AverageValueNaive with avg smape 12.46: "
     ]
    },
    {
     "name": "stderr",
     "output_type": "stream",
     "text": [
      "C:\\Users\\ekaushik\\AppData\\Local\\Packages\\PythonSoftwareFoundation.Python.3.8_qbz5n2kfra8p0\\LocalCache\\local-packages\\Python38\\site-packages\\sklearn\\preprocessing\\_data.py:3308: RuntimeWarning: overflow encountered in power\n",
      "  out[pos] = (np.power(x[pos] + 1, lmbda) - 1) / lmbda\n"
     ]
    },
    {
     "name": "stdout",
     "output_type": "stream",
     "text": [
      "\n",
      "Model Number: 32 of 141 with model ARIMA for Validation 3\n",
      "32 - ARIMA with avg smape 11.08: \n",
      "Model Number: 33 of 141 with model ARIMA for Validation 3\n",
      "33 - ARIMA with avg smape 11.08: \n",
      "Model Number: 34 of 141 with model ARIMA for Validation 3\n",
      "34 - ARIMA with avg smape 11.0: \n",
      "Model Number: 35 of 141 with model ARIMA for Validation 3\n",
      "35 - ARIMA with avg smape 10.96: \n",
      "Model Number: 36 of 141 with model WindowRegression for Validation 3\n",
      "36 - WindowRegression with avg smape 12.9: \n",
      "Model Number: 37 of 141 with model MetricMotif for Validation 3\n",
      "37 - MetricMotif with avg smape 12.6: \n",
      "Model Number: 38 of 141 with model ARIMA for Validation 3\n",
      "38 - ARIMA with avg smape 11.08: \n",
      "Model Number: 39 of 141 with model Theta for Validation 3\n",
      "39 - Theta with avg smape 12.74: \n",
      "Model Number: 40 of 141 with model ARIMA for Validation 3\n",
      "40 - ARIMA with avg smape 11.63: \n",
      "Model Number: 41 of 141 with model FFT for Validation 3\n",
      "41 - FFT with avg smape 14.16: \n",
      "Model Number: 42 of 141 with model WindowRegression for Validation 3\n"
     ]
    },
    {
     "name": "stderr",
     "output_type": "stream",
     "text": [
      "C:\\Users\\ekaushik\\AppData\\Local\\Packages\\PythonSoftwareFoundation.Python.3.8_qbz5n2kfra8p0\\LocalCache\\local-packages\\Python38\\site-packages\\sklearn\\preprocessing\\_data.py:3308: RuntimeWarning: overflow encountered in power\n",
      "  out[pos] = (np.power(x[pos] + 1, lmbda) - 1) / lmbda\n",
      "C:\\Users\\ekaushik\\AppData\\Local\\Packages\\PythonSoftwareFoundation.Python.3.8_qbz5n2kfra8p0\\LocalCache\\local-packages\\Python38\\site-packages\\sklearn\\preprocessing\\_data.py:3308: RuntimeWarning: overflow encountered in power\n",
      "  out[pos] = (np.power(x[pos] + 1, lmbda) - 1) / lmbda\n"
     ]
    },
    {
     "name": "stdout",
     "output_type": "stream",
     "text": [
      "Template Eval Error: Exception('Transformer PowerTransformer failed on fit') in model 42 in generation 0: WindowRegression\n",
      "Model Number: 43 of 141 with model ETS for Validation 3\n",
      "Template Eval Error: Exception('Transformer PowerTransformer failed on fit') in model 43 in generation 0: ETS\n",
      "Model Number: 44 of 141 with model ETS for Validation 3\n"
     ]
    },
    {
     "name": "stderr",
     "output_type": "stream",
     "text": [
      "C:\\Users\\ekaushik\\AppData\\Local\\Packages\\PythonSoftwareFoundation.Python.3.8_qbz5n2kfra8p0\\LocalCache\\local-packages\\Python38\\site-packages\\sklearn\\preprocessing\\_data.py:3308: RuntimeWarning: overflow encountered in power\n",
      "  out[pos] = (np.power(x[pos] + 1, lmbda) - 1) / lmbda\n"
     ]
    },
    {
     "name": "stdout",
     "output_type": "stream",
     "text": [
      "Template Eval Error: Exception('Transformer PowerTransformer failed on fit') in model 44 in generation 0: ETS\n",
      "Model Number: 45 of 141 with model ETS for Validation 3\n"
     ]
    },
    {
     "name": "stderr",
     "output_type": "stream",
     "text": [
      "C:\\Users\\ekaushik\\AppData\\Local\\Packages\\PythonSoftwareFoundation.Python.3.8_qbz5n2kfra8p0\\LocalCache\\local-packages\\Python38\\site-packages\\sklearn\\preprocessing\\_data.py:3308: RuntimeWarning: overflow encountered in power\n",
      "  out[pos] = (np.power(x[pos] + 1, lmbda) - 1) / lmbda\n"
     ]
    },
    {
     "name": "stdout",
     "output_type": "stream",
     "text": [
      "Template Eval Error: Exception('Transformer PowerTransformer failed on fit') in model 45 in generation 0: ETS\n",
      "Model Number: 46 of 141 with model Theta for Validation 3\n",
      "46 - Theta with avg smape 11.55: \n",
      "Model Number: 47 of 141 with model FBProphet for Validation 3\n",
      "📈 47 - FBProphet with avg smape 9.88: \n",
      "Model Number: 48 of 141 with model SeasonalityMotif for Validation 3\n",
      "48 - SeasonalityMotif with avg smape 10.49: \n",
      "Model Number: 49 of 141 with model SeasonalityMotif for Validation 3\n",
      "📈 49 - SeasonalityMotif with avg smape 7.75: \n",
      "Model Number: 50 of 141 with model ETS for Validation 3\n",
      "50 - ETS with avg smape 11.67: \n",
      "Model Number: 51 of 141 with model FFT for Validation 3\n",
      "51 - FFT with avg smape 11.49: \n",
      "Model Number: 52 of 141 with model Theta for Validation 3\n",
      "52 - Theta with avg smape 11.84: \n",
      "Model Number: 53 of 141 with model ARDL for Validation 3\n",
      "53 - ARDL with avg smape 12.87: \n",
      "Model Number: 54 of 141 with model UnivariateMotif for Validation 3\n",
      "54 - UnivariateMotif with avg smape 12.5: \n",
      "Model Number: 55 of 141 with model ConstantNaive for Validation 3\n",
      "55 - ConstantNaive with avg smape 11.08: \n",
      "Model Number: 56 of 141 with model Theta for Validation 3\n",
      "56 - Theta with avg smape 12.06: \n",
      "Model Number: 57 of 141 with model DatepartRegression for Validation 3\n",
      "57 - DatepartRegression with avg smape 12.26: \n",
      "Model Number: 58 of 141 with model SeasonalityMotif for Validation 3\n",
      "📈 58 - SeasonalityMotif with avg smape 7.31: \n",
      "Model Number: 59 of 141 with model SeasonalityMotif for Validation 3\n",
      "59 - SeasonalityMotif with avg smape 9.85: \n",
      "Model Number: 60 of 141 with model ETS for Validation 3\n",
      "60 - ETS with avg smape 15.77: \n",
      "Model Number: 61 of 141 with model ETS for Validation 3\n",
      "61 - ETS with avg smape 15.77: \n",
      "Model Number: 62 of 141 with model ARCH for Validation 3\n",
      "Template Eval Error: Exception('Transformer PowerTransformer failed on fit') in model 62 in generation 0: ARCH\n",
      "Model Number: 63 of 141 with model MetricMotif for Validation 3\n"
     ]
    },
    {
     "name": "stderr",
     "output_type": "stream",
     "text": [
      "C:\\Users\\ekaushik\\AppData\\Local\\Packages\\PythonSoftwareFoundation.Python.3.8_qbz5n2kfra8p0\\LocalCache\\local-packages\\Python38\\site-packages\\sklearn\\preprocessing\\_data.py:3308: RuntimeWarning: overflow encountered in power\n",
      "  out[pos] = (np.power(x[pos] + 1, lmbda) - 1) / lmbda\n"
     ]
    },
    {
     "name": "stdout",
     "output_type": "stream",
     "text": [
      "63 - MetricMotif with avg smape 12.28: \n",
      "Model Number: 64 of 141 with model RRVAR for Validation 3\n",
      "Template Eval Error: Exception('Transformer PowerTransformer failed on fit') in model 64 in generation 0: RRVAR\n",
      "Model Number: 65 of 141 with model FBProphet for Validation 3\n"
     ]
    },
    {
     "name": "stderr",
     "output_type": "stream",
     "text": [
      "C:\\Users\\ekaushik\\AppData\\Local\\Packages\\PythonSoftwareFoundation.Python.3.8_qbz5n2kfra8p0\\LocalCache\\local-packages\\Python38\\site-packages\\sklearn\\preprocessing\\_data.py:3308: RuntimeWarning: overflow encountered in power\n",
      "  out[pos] = (np.power(x[pos] + 1, lmbda) - 1) / lmbda\n"
     ]
    },
    {
     "name": "stdout",
     "output_type": "stream",
     "text": [
      "65 - FBProphet with avg smape 9.07: \n",
      "Model Number: 66 of 141 with model UnobservedComponents for Validation 3\n",
      "Template Eval Error: Exception('Transformer PowerTransformer failed on fit') in model 66 in generation 0: UnobservedComponents\n",
      "Model Number: 67 of 141 with model Theta for Validation 3\n"
     ]
    },
    {
     "name": "stderr",
     "output_type": "stream",
     "text": [
      "C:\\Users\\ekaushik\\AppData\\Local\\Packages\\PythonSoftwareFoundation.Python.3.8_qbz5n2kfra8p0\\LocalCache\\local-packages\\Python38\\site-packages\\sklearn\\preprocessing\\_data.py:3308: RuntimeWarning: overflow encountered in power\n",
      "  out[pos] = (np.power(x[pos] + 1, lmbda) - 1) / lmbda\n"
     ]
    },
    {
     "name": "stdout",
     "output_type": "stream",
     "text": [
      "67 - Theta with avg smape 12.62: \n",
      "Model Number: 68 of 141 with model AverageValueNaive for Validation 3\n",
      "68 - AverageValueNaive with avg smape 12.17: \n",
      "Model Number: 69 of 141 with model AverageValueNaive for Validation 3\n",
      "69 - AverageValueNaive with avg smape 12.17: \n",
      "Model Number: 70 of 141 with model AverageValueNaive for Validation 3\n",
      "70 - AverageValueNaive with avg smape 12.17: \n",
      "Model Number: 71 of 141 with model FBProphet for Validation 3\n",
      "71 - FBProphet with avg smape 8.88: \n",
      "Model Number: 72 of 141 with model UnobservedComponents for Validation 3\n",
      "72 - UnobservedComponents with avg smape 12.32: \n",
      "Model Number: 73 of 141 with model UnobservedComponents for Validation 3\n",
      "73 - UnobservedComponents with avg smape 12.35: \n",
      "Model Number: 74 of 141 with model UnobservedComponents for Validation 3\n",
      "74 - UnobservedComponents with avg smape 12.29: \n",
      "Model Number: 75 of 141 with model SeasonalNaive for Validation 3\n",
      "Template Eval Error: Exception('Transformer PowerTransformer failed on fit') in model 75 in generation 0: SeasonalNaive\n",
      "Model Number: 76 of 141 with model ARDL for Validation 3\n"
     ]
    },
    {
     "name": "stderr",
     "output_type": "stream",
     "text": [
      "C:\\Users\\ekaushik\\AppData\\Local\\Packages\\PythonSoftwareFoundation.Python.3.8_qbz5n2kfra8p0\\LocalCache\\local-packages\\Python38\\site-packages\\sklearn\\preprocessing\\_data.py:3308: RuntimeWarning: overflow encountered in power\n",
      "  out[pos] = (np.power(x[pos] + 1, lmbda) - 1) / lmbda\n"
     ]
    },
    {
     "name": "stdout",
     "output_type": "stream",
     "text": [
      "76 - ARDL with avg smape 12.42: \n",
      "Model Number: 77 of 141 with model VAR for Validation 3\n",
      "77 - VAR with avg smape 9.95: \n",
      "Model Number: 78 of 141 with model ARDL for Validation 3\n",
      "78 - ARDL with avg smape 13.37: \n",
      "Model Number: 79 of 141 with model WindowRegression for Validation 3\n",
      "Template Eval Error: Exception('Transformer PowerTransformer failed on fit') in model 79 in generation 0: WindowRegression\n",
      "Model Number: 80 of 141 with model SeasonalityMotif for Validation 3\n",
      "80 - SeasonalityMotif with avg smape 9.59: \n",
      "Model Number: 81 of 141 with model FFT for Validation 3\n"
     ]
    },
    {
     "name": "stderr",
     "output_type": "stream",
     "text": [
      "C:\\Users\\ekaushik\\AppData\\Local\\Packages\\PythonSoftwareFoundation.Python.3.8_qbz5n2kfra8p0\\LocalCache\\local-packages\\Python38\\site-packages\\sklearn\\preprocessing\\_data.py:3308: RuntimeWarning: overflow encountered in power\n",
      "  out[pos] = (np.power(x[pos] + 1, lmbda) - 1) / lmbda\n"
     ]
    },
    {
     "name": "stdout",
     "output_type": "stream",
     "text": [
      "81 - FFT with avg smape 11.82: \n",
      "Model Number: 82 of 141 with model FFT for Validation 3\n",
      "82 - FFT with avg smape 11.91: \n",
      "Model Number: 83 of 141 with model ARDL for Validation 3\n",
      "83 - ARDL with avg smape 14.45: \n",
      "Model Number: 84 of 141 with model Theta for Validation 3\n",
      "84 - Theta with avg smape 12.78: \n",
      "Model Number: 85 of 141 with model SectionalMotif for Validation 3\n",
      "85 - SectionalMotif with avg smape 11.98: \n",
      "Model Number: 86 of 141 with model MultivariateMotif for Validation 3\n",
      "86 - MultivariateMotif with avg smape 11.55: \n",
      "Model Number: 87 of 141 with model SeasonalNaive for Validation 3\n",
      "87 - SeasonalNaive with avg smape 12.16: \n",
      "Model Number: 88 of 141 with model SeasonalNaive for Validation 3\n",
      "88 - SeasonalNaive with avg smape 12.05: \n",
      "Model Number: 89 of 141 with model VAR for Validation 3\n",
      "89 - VAR with avg smape 10.86: \n",
      "Model Number: 90 of 141 with model VAR for Validation 3\n",
      "90 - VAR with avg smape 10.86: \n",
      "Model Number: 91 of 141 with model VAR for Validation 3\n",
      "91 - VAR with avg smape 9.4: \n",
      "Model Number: 92 of 141 with model VAR for Validation 3\n",
      "92 - VAR with avg smape 9.4: \n",
      "Model Number: 93 of 141 with model VAR for Validation 3\n",
      "93 - VAR with avg smape 9.4: \n",
      "Model Number: 94 of 141 with model SeasonalNaive for Validation 3\n",
      "Template Eval Error: Exception('Transformer PowerTransformer failed on fit') in model 94 in generation 0: SeasonalNaive\n",
      "Model Number: 95 of 141 with model ConstantNaive for Validation 3\n",
      "95 - ConstantNaive with avg smape 11.16: \n",
      "Model Number: 96 of 141 with model SeasonalNaive for Validation 3\n"
     ]
    },
    {
     "name": "stderr",
     "output_type": "stream",
     "text": [
      "C:\\Users\\ekaushik\\AppData\\Local\\Packages\\PythonSoftwareFoundation.Python.3.8_qbz5n2kfra8p0\\LocalCache\\local-packages\\Python38\\site-packages\\sklearn\\preprocessing\\_data.py:3308: RuntimeWarning: overflow encountered in power\n",
      "  out[pos] = (np.power(x[pos] + 1, lmbda) - 1) / lmbda\n"
     ]
    },
    {
     "name": "stdout",
     "output_type": "stream",
     "text": [
      "96 - SeasonalNaive with avg smape 10.91: \n",
      "Model Number: 97 of 141 with model ARDL for Validation 3\n",
      "97 - ARDL with avg smape 13.37: \n",
      "Model Number: 98 of 141 with model SeasonalNaive for Validation 3\n",
      "98 - SeasonalNaive with avg smape 12.01: \n",
      "Model Number: 99 of 141 with model UnivariateMotif for Validation 3\n",
      "99 - UnivariateMotif with avg smape 12.9: \n",
      "Model Number: 100 of 141 with model FFT for Validation 3\n",
      "100 - FFT with avg smape 12.47: \n",
      "Model Number: 101 of 141 with model SeasonalityMotif for Validation 3\n",
      "101 - SeasonalityMotif with avg smape 12.94: \n",
      "Model Number: 102 of 141 with model ARCH for Validation 3\n",
      "102 - ARCH with avg smape 11.17: \n",
      "Model Number: 103 of 141 with model ConstantNaive for Validation 3\n",
      "103 - ConstantNaive with avg smape 11.25: \n",
      "Model Number: 104 of 141 with model ConstantNaive for Validation 3\n",
      "104 - ConstantNaive with avg smape 11.25: \n",
      "Model Number: 105 of 141 with model FFT for Validation 3\n"
     ]
    },
    {
     "name": "stderr",
     "output_type": "stream",
     "text": [
      "C:\\Users\\ekaushik\\AppData\\Local\\Packages\\PythonSoftwareFoundation.Python.3.8_qbz5n2kfra8p0\\LocalCache\\local-packages\\Python38\\site-packages\\sklearn\\linear_model\\_coordinate_descent.py:2412: ConvergenceWarning: Objective did not converge. You might want to increase the number of iterations. Duality gap: 46050908.75899589, tolerance: 61454.34676966943\n",
      "  ) = cd_fast.enet_coordinate_descent_multi_task(\n"
     ]
    },
    {
     "name": "stdout",
     "output_type": "stream",
     "text": [
      "105 - FFT with avg smape 11.32: \n",
      "Model Number: 106 of 141 with model AverageValueNaive for Validation 3\n",
      "106 - AverageValueNaive with avg smape 12.51: \n",
      "Model Number: 107 of 141 with model SectionalMotif for Validation 3\n",
      "107 - SectionalMotif with avg smape 15.67: \n",
      "Model Number: 108 of 141 with model MultivariateMotif for Validation 3\n",
      "108 - MultivariateMotif with avg smape 12.89: \n",
      "Model Number: 109 of 141 with model ConstantNaive for Validation 3\n",
      "109 - ConstantNaive with avg smape 11.17: \n",
      "Model Number: 110 of 141 with model ConstantNaive for Validation 3\n",
      "110 - ConstantNaive with avg smape 11.17: \n",
      "Model Number: 111 of 141 with model UnobservedComponents for Validation 3\n"
     ]
    },
    {
     "name": "stderr",
     "output_type": "stream",
     "text": [
      "C:\\Users\\ekaushik\\AppData\\Local\\Packages\\PythonSoftwareFoundation.Python.3.8_qbz5n2kfra8p0\\LocalCache\\local-packages\\Python38\\site-packages\\sklearn\\linear_model\\_coordinate_descent.py:2412: ConvergenceWarning: Objective did not converge. You might want to increase the number of iterations. Duality gap: 186310271.29092163, tolerance: 81675.68397912303\n",
      "  ) = cd_fast.enet_coordinate_descent_multi_task(\n"
     ]
    },
    {
     "name": "stdout",
     "output_type": "stream",
     "text": [
      "111 - UnobservedComponents with avg smape 11.67: \n",
      "Model Number: 112 of 141 with model AverageValueNaive for Validation 3\n",
      "112 - AverageValueNaive with avg smape 12.05: \n",
      "Model Number: 113 of 141 with model ARCH for Validation 3\n",
      "113 - ARCH with avg smape 11.23: \n",
      "Model Number: 114 of 141 with model WindowRegression for Validation 3\n",
      "114 - WindowRegression with avg smape 13.76: \n",
      "Model Number: 115 of 141 with model MetricMotif for Validation 3\n",
      "115 - MetricMotif with avg smape 11.4: \n",
      "Model Number: 116 of 141 with model MultivariateMotif for Validation 3\n",
      "116 - MultivariateMotif with avg smape 11.67: \n",
      "Model Number: 117 of 141 with model WindowRegression for Validation 3\n",
      "Template Eval Error: Exception('Transformer PowerTransformer failed on fit') in model 117 in generation 0: WindowRegression\n",
      "Model Number: 118 of 141 with model GLS for Validation 3\n",
      "118 - GLS with avg smape 13.62: \n",
      "Model Number: 119 of 141 with model UnivariateMotif for Validation 3\n"
     ]
    },
    {
     "name": "stderr",
     "output_type": "stream",
     "text": [
      "C:\\Users\\ekaushik\\AppData\\Local\\Packages\\PythonSoftwareFoundation.Python.3.8_qbz5n2kfra8p0\\LocalCache\\local-packages\\Python38\\site-packages\\sklearn\\preprocessing\\_data.py:3308: RuntimeWarning: overflow encountered in power\n",
      "  out[pos] = (np.power(x[pos] + 1, lmbda) - 1) / lmbda\n"
     ]
    },
    {
     "name": "stdout",
     "output_type": "stream",
     "text": [
      "119 - UnivariateMotif with avg smape 12.72: \n",
      "Model Number: 120 of 141 with model GLS for Validation 3\n",
      "120 - GLS with avg smape 10.71: \n",
      "Model Number: 121 of 141 with model GLS for Validation 3\n",
      "121 - GLS with avg smape 10.5: \n",
      "Model Number: 122 of 141 with model RRVAR for Validation 3\n"
     ]
    },
    {
     "name": "stderr",
     "output_type": "stream",
     "text": [
      "C:\\Users\\ekaushik\\AppData\\Local\\Packages\\PythonSoftwareFoundation.Python.3.8_qbz5n2kfra8p0\\LocalCache\\local-packages\\Python38\\site-packages\\sklearn\\preprocessing\\_data.py:3308: RuntimeWarning: overflow encountered in power\n",
      "  out[pos] = (np.power(x[pos] + 1, lmbda) - 1) / lmbda\n"
     ]
    },
    {
     "name": "stdout",
     "output_type": "stream",
     "text": [
      "Template Eval Error: Exception('Transformer PowerTransformer failed on fit') in model 122 in generation 0: RRVAR\n",
      "Model Number: 123 of 141 with model MultivariateMotif for Validation 3\n",
      "123 - MultivariateMotif with avg smape 11.69: \n",
      "Model Number: 124 of 141 with model MetricMotif for Validation 3\n",
      "124 - MetricMotif with avg smape 12.67: \n",
      "Model Number: 125 of 141 with model WindowRegression for Validation 3\n",
      "125 - WindowRegression with avg smape 12.23: \n",
      "Model Number: 126 of 141 with model Cassandra for Validation 3\n"
     ]
    },
    {
     "name": "stderr",
     "output_type": "stream",
     "text": [
      "C:\\Users\\ekaushik\\AppData\\Local\\Packages\\PythonSoftwareFoundation.Python.3.8_qbz5n2kfra8p0\\LocalCache\\local-packages\\Python38\\site-packages\\numpy\\lib\\function_base.py:2853: RuntimeWarning: invalid value encountered in divide\n",
      "  c /= stddev[:, None]\n",
      "C:\\Users\\ekaushik\\AppData\\Local\\Packages\\PythonSoftwareFoundation.Python.3.8_qbz5n2kfra8p0\\LocalCache\\local-packages\\Python38\\site-packages\\numpy\\lib\\function_base.py:2854: RuntimeWarning: invalid value encountered in divide\n",
      "  c /= stddev[None, :]\n"
     ]
    },
    {
     "name": "stdout",
     "output_type": "stream",
     "text": [
      "126 - Cassandra with avg smape 11.07: \n",
      "Model Number: 127 of 141 with model RRVAR for Validation 3\n"
     ]
    },
    {
     "name": "stderr",
     "output_type": "stream",
     "text": [
      "C:\\Users\\ekaushik\\AppData\\Local\\Packages\\PythonSoftwareFoundation.Python.3.8_qbz5n2kfra8p0\\LocalCache\\local-packages\\Python38\\site-packages\\sklearn\\preprocessing\\_data.py:3308: RuntimeWarning: overflow encountered in power\n",
      "  out[pos] = (np.power(x[pos] + 1, lmbda) - 1) / lmbda\n"
     ]
    },
    {
     "name": "stdout",
     "output_type": "stream",
     "text": [
      "Template Eval Error: Exception('Transformer PowerTransformer failed on fit') in model 127 in generation 0: RRVAR\n",
      "Model Number: 128 of 141 with model MultivariateMotif for Validation 3\n",
      "128 - MultivariateMotif with avg smape 13.01: \n",
      "Model Number: 129 of 141 with model MAR for Validation 3\n",
      "129 - MAR with avg smape 10.22: \n",
      "Model Number: 130 of 141 with model MultivariateMotif for Validation 3\n",
      "Template Eval Error: Exception('Transformer PowerTransformer failed on fit') in model 130 in generation 0: MultivariateMotif\n",
      "Model Number: 131 of 141 with model DatepartRegression for Validation 3\n",
      "131 - DatepartRegression with avg smape 16.02: \n",
      "Model Number: 132 of 141 with model UnivariateMotif for Validation 3\n"
     ]
    },
    {
     "name": "stderr",
     "output_type": "stream",
     "text": [
      "C:\\Users\\ekaushik\\AppData\\Local\\Packages\\PythonSoftwareFoundation.Python.3.8_qbz5n2kfra8p0\\LocalCache\\local-packages\\Python38\\site-packages\\sklearn\\preprocessing\\_data.py:3308: RuntimeWarning: overflow encountered in power\n",
      "  out[pos] = (np.power(x[pos] + 1, lmbda) - 1) / lmbda\n",
      "C:\\Users\\ekaushik\\AppData\\Local\\Packages\\PythonSoftwareFoundation.Python.3.8_qbz5n2kfra8p0\\LocalCache\\local-packages\\Python38\\site-packages\\sklearn\\linear_model\\_ridge.py:200: LinAlgWarning: Ill-conditioned matrix (rcond=5.2773e-25): result may not be accurate.\n",
      "  return linalg.solve(A, Xy, assume_a=\"pos\", overwrite_a=True).T\n"
     ]
    },
    {
     "name": "stdout",
     "output_type": "stream",
     "text": [
      "132 - UnivariateMotif with avg smape 11.54: \n",
      "Model Number: 133 of 141 with model RRVAR for Validation 3\n",
      "133 - RRVAR with avg smape 13.39: \n",
      "Model Number: 134 of 141 with model RRVAR for Validation 3\n",
      "134 - RRVAR with avg smape 25.55: \n",
      "Model Number: 135 of 141 with model DatepartRegression for Validation 3\n",
      "135 - DatepartRegression with avg smape 11.18: \n",
      "Model Number: 136 of 141 with model RRVAR for Validation 3\n",
      "136 - RRVAR with avg smape 11.52: \n",
      "Model Number: 137 of 141 with model FFT for Validation 3\n",
      "137 - FFT with avg smape 11.67: \n",
      "Model Number: 138 of 141 with model LastValueNaive for Validation 3\n",
      "138 - LastValueNaive with avg smape 15.39: \n",
      "Model Number: 139 of 141 with model FBProphet for Validation 3\n",
      "139 - FBProphet with avg smape 8.86: \n",
      "Model Number: 140 of 141 with model WindowRegression for Validation 3\n",
      "Template Eval Error: Exception('Transformer PowerTransformer failed on fit') in model 140 in generation 0: WindowRegression\n",
      "Model Number: 141 of 141 with model ARIMA for Validation 3\n"
     ]
    },
    {
     "name": "stderr",
     "output_type": "stream",
     "text": [
      "C:\\Users\\ekaushik\\AppData\\Local\\Packages\\PythonSoftwareFoundation.Python.3.8_qbz5n2kfra8p0\\LocalCache\\local-packages\\Python38\\site-packages\\sklearn\\preprocessing\\_data.py:3308: RuntimeWarning: overflow encountered in power\n",
      "  out[pos] = (np.power(x[pos] + 1, lmbda) - 1) / lmbda\n"
     ]
    },
    {
     "name": "stdout",
     "output_type": "stream",
     "text": [
      "141 - ARIMA with avg smape 11.17: \n",
      "Validation Round: 4\n",
      "Model Number: 1 of 141 with model Ensemble for Validation 4\n"
     ]
    },
    {
     "name": "stderr",
     "output_type": "stream",
     "text": [
      "C:\\Users\\ekaushik\\AppData\\Local\\Packages\\PythonSoftwareFoundation.Python.3.8_qbz5n2kfra8p0\\LocalCache\\local-packages\\Python38\\site-packages\\sklearn\\linear_model\\_ridge.py:200: LinAlgWarning: Ill-conditioned matrix (rcond=5.66561e-25): result may not be accurate.\n",
      "  return linalg.solve(A, Xy, assume_a=\"pos\", overwrite_a=True).T\n"
     ]
    },
    {
     "name": "stdout",
     "output_type": "stream",
     "text": [
      "📈 1 - Ensemble with avg smape 6.86: \n",
      "Model Number: 2 of 141 with model Ensemble for Validation 4\n"
     ]
    },
    {
     "name": "stderr",
     "output_type": "stream",
     "text": [
      "C:\\Users\\ekaushik\\AppData\\Local\\Packages\\PythonSoftwareFoundation.Python.3.8_qbz5n2kfra8p0\\LocalCache\\local-packages\\Python38\\site-packages\\sklearn\\linear_model\\_ridge.py:200: LinAlgWarning: Ill-conditioned matrix (rcond=5.66561e-25): result may not be accurate.\n",
      "  return linalg.solve(A, Xy, assume_a=\"pos\", overwrite_a=True).T\n"
     ]
    },
    {
     "name": "stdout",
     "output_type": "stream",
     "text": [
      "2 - Ensemble with avg smape 13.41: \n",
      "Model Number: 3 of 141 with model Ensemble for Validation 4\n"
     ]
    },
    {
     "name": "stderr",
     "output_type": "stream",
     "text": [
      "C:\\Users\\ekaushik\\AppData\\Local\\Packages\\PythonSoftwareFoundation.Python.3.8_qbz5n2kfra8p0\\LocalCache\\local-packages\\Python38\\site-packages\\sklearn\\linear_model\\_ridge.py:200: LinAlgWarning: Ill-conditioned matrix (rcond=5.66561e-25): result may not be accurate.\n",
      "  return linalg.solve(A, Xy, assume_a=\"pos\", overwrite_a=True).T\n"
     ]
    },
    {
     "name": "stdout",
     "output_type": "stream",
     "text": [
      "3 - Ensemble with avg smape 7.04: \n",
      "Model Number: 4 of 141 with model Ensemble for Validation 4\n"
     ]
    },
    {
     "name": "stderr",
     "output_type": "stream",
     "text": [
      "C:\\Users\\ekaushik\\AppData\\Local\\Packages\\PythonSoftwareFoundation.Python.3.8_qbz5n2kfra8p0\\LocalCache\\local-packages\\Python38\\site-packages\\sklearn\\linear_model\\_ridge.py:200: LinAlgWarning: Ill-conditioned matrix (rcond=5.66561e-25): result may not be accurate.\n",
      "  return linalg.solve(A, Xy, assume_a=\"pos\", overwrite_a=True).T\n",
      "C:\\Users\\ekaushik\\AppData\\Local\\Packages\\PythonSoftwareFoundation.Python.3.8_qbz5n2kfra8p0\\LocalCache\\local-packages\\Python38\\site-packages\\sklearn\\preprocessing\\_data.py:3308: RuntimeWarning: overflow encountered in power\n",
      "  out[pos] = (np.power(x[pos] + 1, lmbda) - 1) / lmbda\n",
      "C:\\Users\\ekaushik\\AppData\\Local\\Packages\\PythonSoftwareFoundation.Python.3.8_qbz5n2kfra8p0\\LocalCache\\local-packages\\Python38\\site-packages\\numpy\\core\\_methods.py:236: RuntimeWarning: overflow encountered in multiply\n",
      "  x = um.multiply(x, x, out=x)\n",
      "C:\\Users\\ekaushik\\AppData\\Local\\Packages\\PythonSoftwareFoundation.Python.3.8_qbz5n2kfra8p0\\LocalCache\\local-packages\\Python38\\site-packages\\numpy\\core\\_methods.py:247: RuntimeWarning: overflow encountered in reduce\n",
      "  ret = umr_sum(x, axis, dtype, out, keepdims=keepdims, where=where)\n",
      "C:\\Users\\ekaushik\\AppData\\Local\\Packages\\PythonSoftwareFoundation.Python.3.8_qbz5n2kfra8p0\\LocalCache\\local-packages\\Python38\\site-packages\\sklearn\\linear_model\\_ridge.py:200: LinAlgWarning: Ill-conditioned matrix (rcond=5.66561e-25): result may not be accurate.\n",
      "  return linalg.solve(A, Xy, assume_a=\"pos\", overwrite_a=True).T\n"
     ]
    },
    {
     "name": "stdout",
     "output_type": "stream",
     "text": [
      "Traceback (most recent call last):\n",
      "  File \"C:\\Users\\ekaushik\\AppData\\Local\\Packages\\PythonSoftwareFoundation.Python.3.8_qbz5n2kfra8p0\\LocalCache\\local-packages\\Python38\\site-packages\\autots\\tools\\transform.py\", line 4732, in _fit\n",
      "    df = self._fit_one(df, i)\n",
      "  File \"C:\\Users\\ekaushik\\AppData\\Local\\Packages\\PythonSoftwareFoundation.Python.3.8_qbz5n2kfra8p0\\LocalCache\\local-packages\\Python38\\site-packages\\autots\\tools\\transform.py\", line 4716, in _fit_one\n",
      "    df = self.transformers[i].fit_transform(df)\n",
      "  File \"C:\\Users\\ekaushik\\AppData\\Local\\Packages\\PythonSoftwareFoundation.Python.3.8_qbz5n2kfra8p0\\LocalCache\\local-packages\\Python38\\site-packages\\sklearn\\utils\\_set_output.py\", line 157, in wrapped\n",
      "    data_to_wrap = f(self, X, *args, **kwargs)\n",
      "  File \"C:\\Users\\ekaushik\\AppData\\Local\\Packages\\PythonSoftwareFoundation.Python.3.8_qbz5n2kfra8p0\\LocalCache\\local-packages\\Python38\\site-packages\\sklearn\\base.py\", line 1152, in wrapper\n",
      "    return fit_method(estimator, *args, **kwargs)\n",
      "  File \"C:\\Users\\ekaushik\\AppData\\Local\\Packages\\PythonSoftwareFoundation.Python.3.8_qbz5n2kfra8p0\\LocalCache\\local-packages\\Python38\\site-packages\\sklearn\\preprocessing\\_data.py\", line 3142, in fit_transform\n",
      "    return self._fit(X, y, force_transform=True)\n",
      "  File \"C:\\Users\\ekaushik\\AppData\\Local\\Packages\\PythonSoftwareFoundation.Python.3.8_qbz5n2kfra8p0\\LocalCache\\local-packages\\Python38\\site-packages\\sklearn\\preprocessing\\_data.py\", line 3182, in _fit\n",
      "    X = self._scaler.fit_transform(X)\n",
      "  File \"C:\\Users\\ekaushik\\AppData\\Local\\Packages\\PythonSoftwareFoundation.Python.3.8_qbz5n2kfra8p0\\LocalCache\\local-packages\\Python38\\site-packages\\sklearn\\utils\\_set_output.py\", line 157, in wrapped\n",
      "    data_to_wrap = f(self, X, *args, **kwargs)\n",
      "  File \"C:\\Users\\ekaushik\\AppData\\Local\\Packages\\PythonSoftwareFoundation.Python.3.8_qbz5n2kfra8p0\\LocalCache\\local-packages\\Python38\\site-packages\\sklearn\\base.py\", line 916, in fit_transform\n",
      "    return self.fit(X, **fit_params).transform(X)\n",
      "  File \"C:\\Users\\ekaushik\\AppData\\Local\\Packages\\PythonSoftwareFoundation.Python.3.8_qbz5n2kfra8p0\\LocalCache\\local-packages\\Python38\\site-packages\\sklearn\\preprocessing\\_data.py\", line 839, in fit\n",
      "    return self.partial_fit(X, y, sample_weight)\n",
      "  File \"C:\\Users\\ekaushik\\AppData\\Local\\Packages\\PythonSoftwareFoundation.Python.3.8_qbz5n2kfra8p0\\LocalCache\\local-packages\\Python38\\site-packages\\sklearn\\base.py\", line 1152, in wrapper\n",
      "    return fit_method(estimator, *args, **kwargs)\n",
      "  File \"C:\\Users\\ekaushik\\AppData\\Local\\Packages\\PythonSoftwareFoundation.Python.3.8_qbz5n2kfra8p0\\LocalCache\\local-packages\\Python38\\site-packages\\sklearn\\preprocessing\\_data.py\", line 875, in partial_fit\n",
      "    X = self._validate_data(\n",
      "  File \"C:\\Users\\ekaushik\\AppData\\Local\\Packages\\PythonSoftwareFoundation.Python.3.8_qbz5n2kfra8p0\\LocalCache\\local-packages\\Python38\\site-packages\\sklearn\\base.py\", line 605, in _validate_data\n",
      "    out = check_array(X, input_name=\"X\", **check_params)\n",
      "  File \"C:\\Users\\ekaushik\\AppData\\Local\\Packages\\PythonSoftwareFoundation.Python.3.8_qbz5n2kfra8p0\\LocalCache\\local-packages\\Python38\\site-packages\\sklearn\\utils\\validation.py\", line 957, in check_array\n",
      "    _assert_all_finite(\n",
      "  File \"C:\\Users\\ekaushik\\AppData\\Local\\Packages\\PythonSoftwareFoundation.Python.3.8_qbz5n2kfra8p0\\LocalCache\\local-packages\\Python38\\site-packages\\sklearn\\utils\\validation.py\", line 122, in _assert_all_finite\n",
      "    _assert_all_finite_element_wise(\n",
      "  File \"C:\\Users\\ekaushik\\AppData\\Local\\Packages\\PythonSoftwareFoundation.Python.3.8_qbz5n2kfra8p0\\LocalCache\\local-packages\\Python38\\site-packages\\sklearn\\utils\\validation.py\", line 171, in _assert_all_finite_element_wise\n",
      "    raise ValueError(msg_err)\n",
      "ValueError: Input X contains infinity or a value too large for dtype('float64').\n",
      "\n",
      "The above exception was the direct cause of the following exception:\n",
      "\n",
      "Traceback (most recent call last):\n",
      "  File \"C:\\Users\\ekaushik\\AppData\\Local\\Packages\\PythonSoftwareFoundation.Python.3.8_qbz5n2kfra8p0\\LocalCache\\local-packages\\Python38\\site-packages\\autots\\evaluator\\auto_model.py\", line 1285, in model_forecast\n",
      "    df_forecast = model_forecast(\n",
      "  File \"C:\\Users\\ekaushik\\AppData\\Local\\Packages\\PythonSoftwareFoundation.Python.3.8_qbz5n2kfra8p0\\LocalCache\\local-packages\\Python38\\site-packages\\autots\\evaluator\\auto_model.py\", line 1389, in model_forecast\n",
      "    model = model.fit(df_train_low, future_regressor_train)\n",
      "  File \"C:\\Users\\ekaushik\\AppData\\Local\\Packages\\PythonSoftwareFoundation.Python.3.8_qbz5n2kfra8p0\\LocalCache\\local-packages\\Python38\\site-packages\\autots\\evaluator\\auto_model.py\", line 813, in fit\n",
      "    df_train_transformed = self.transformer_object._fit(df)\n",
      "  File \"C:\\Users\\ekaushik\\AppData\\Local\\Packages\\PythonSoftwareFoundation.Python.3.8_qbz5n2kfra8p0\\LocalCache\\local-packages\\Python38\\site-packages\\autots\\tools\\transform.py\", line 4734, in _fit\n",
      "    raise Exception(\n",
      "Exception: Transformer PowerTransformer failed on fit\n",
      "\n",
      "FAILED: Ensemble BestN component 4 of 3 VECM with error: Exception('Transformer PowerTransformer failed on fit')\n",
      "4 - Ensemble with avg smape 8.52: \n",
      "Model Number: 5 of 141 with model FBProphet for Validation 4\n",
      "📈 5 - FBProphet with avg smape 6.27: \n",
      "Model Number: 6 of 141 with model Ensemble for Validation 4\n"
     ]
    },
    {
     "name": "stderr",
     "output_type": "stream",
     "text": [
      "C:\\Users\\ekaushik\\AppData\\Local\\Packages\\PythonSoftwareFoundation.Python.3.8_qbz5n2kfra8p0\\LocalCache\\local-packages\\Python38\\site-packages\\sklearn\\linear_model\\_ridge.py:200: LinAlgWarning: Ill-conditioned matrix (rcond=5.66561e-25): result may not be accurate.\n",
      "  return linalg.solve(A, Xy, assume_a=\"pos\", overwrite_a=True).T\n",
      "C:\\Users\\ekaushik\\AppData\\Local\\Packages\\PythonSoftwareFoundation.Python.3.8_qbz5n2kfra8p0\\LocalCache\\local-packages\\Python38\\site-packages\\sklearn\\preprocessing\\_data.py:3308: RuntimeWarning: overflow encountered in power\n",
      "  out[pos] = (np.power(x[pos] + 1, lmbda) - 1) / lmbda\n",
      "C:\\Users\\ekaushik\\AppData\\Local\\Packages\\PythonSoftwareFoundation.Python.3.8_qbz5n2kfra8p0\\LocalCache\\local-packages\\Python38\\site-packages\\numpy\\core\\_methods.py:236: RuntimeWarning: overflow encountered in multiply\n",
      "  x = um.multiply(x, x, out=x)\n",
      "C:\\Users\\ekaushik\\AppData\\Local\\Packages\\PythonSoftwareFoundation.Python.3.8_qbz5n2kfra8p0\\LocalCache\\local-packages\\Python38\\site-packages\\numpy\\core\\_methods.py:247: RuntimeWarning: overflow encountered in reduce\n",
      "  ret = umr_sum(x, axis, dtype, out, keepdims=keepdims, where=where)\n"
     ]
    },
    {
     "name": "stdout",
     "output_type": "stream",
     "text": [
      "Traceback (most recent call last):\n",
      "  File \"C:\\Users\\ekaushik\\AppData\\Local\\Packages\\PythonSoftwareFoundation.Python.3.8_qbz5n2kfra8p0\\LocalCache\\local-packages\\Python38\\site-packages\\autots\\tools\\transform.py\", line 4732, in _fit\n",
      "    df = self._fit_one(df, i)\n",
      "  File \"C:\\Users\\ekaushik\\AppData\\Local\\Packages\\PythonSoftwareFoundation.Python.3.8_qbz5n2kfra8p0\\LocalCache\\local-packages\\Python38\\site-packages\\autots\\tools\\transform.py\", line 4716, in _fit_one\n",
      "    df = self.transformers[i].fit_transform(df)\n",
      "  File \"C:\\Users\\ekaushik\\AppData\\Local\\Packages\\PythonSoftwareFoundation.Python.3.8_qbz5n2kfra8p0\\LocalCache\\local-packages\\Python38\\site-packages\\sklearn\\utils\\_set_output.py\", line 157, in wrapped\n",
      "    data_to_wrap = f(self, X, *args, **kwargs)\n",
      "  File \"C:\\Users\\ekaushik\\AppData\\Local\\Packages\\PythonSoftwareFoundation.Python.3.8_qbz5n2kfra8p0\\LocalCache\\local-packages\\Python38\\site-packages\\sklearn\\base.py\", line 1152, in wrapper\n",
      "    return fit_method(estimator, *args, **kwargs)\n",
      "  File \"C:\\Users\\ekaushik\\AppData\\Local\\Packages\\PythonSoftwareFoundation.Python.3.8_qbz5n2kfra8p0\\LocalCache\\local-packages\\Python38\\site-packages\\sklearn\\preprocessing\\_data.py\", line 3142, in fit_transform\n",
      "    return self._fit(X, y, force_transform=True)\n",
      "  File \"C:\\Users\\ekaushik\\AppData\\Local\\Packages\\PythonSoftwareFoundation.Python.3.8_qbz5n2kfra8p0\\LocalCache\\local-packages\\Python38\\site-packages\\sklearn\\preprocessing\\_data.py\", line 3182, in _fit\n",
      "    X = self._scaler.fit_transform(X)\n",
      "  File \"C:\\Users\\ekaushik\\AppData\\Local\\Packages\\PythonSoftwareFoundation.Python.3.8_qbz5n2kfra8p0\\LocalCache\\local-packages\\Python38\\site-packages\\sklearn\\utils\\_set_output.py\", line 157, in wrapped\n",
      "    data_to_wrap = f(self, X, *args, **kwargs)\n",
      "  File \"C:\\Users\\ekaushik\\AppData\\Local\\Packages\\PythonSoftwareFoundation.Python.3.8_qbz5n2kfra8p0\\LocalCache\\local-packages\\Python38\\site-packages\\sklearn\\base.py\", line 916, in fit_transform\n",
      "    return self.fit(X, **fit_params).transform(X)\n",
      "  File \"C:\\Users\\ekaushik\\AppData\\Local\\Packages\\PythonSoftwareFoundation.Python.3.8_qbz5n2kfra8p0\\LocalCache\\local-packages\\Python38\\site-packages\\sklearn\\preprocessing\\_data.py\", line 839, in fit\n",
      "    return self.partial_fit(X, y, sample_weight)\n",
      "  File \"C:\\Users\\ekaushik\\AppData\\Local\\Packages\\PythonSoftwareFoundation.Python.3.8_qbz5n2kfra8p0\\LocalCache\\local-packages\\Python38\\site-packages\\sklearn\\base.py\", line 1152, in wrapper\n",
      "    return fit_method(estimator, *args, **kwargs)\n",
      "  File \"C:\\Users\\ekaushik\\AppData\\Local\\Packages\\PythonSoftwareFoundation.Python.3.8_qbz5n2kfra8p0\\LocalCache\\local-packages\\Python38\\site-packages\\sklearn\\preprocessing\\_data.py\", line 875, in partial_fit\n",
      "    X = self._validate_data(\n",
      "  File \"C:\\Users\\ekaushik\\AppData\\Local\\Packages\\PythonSoftwareFoundation.Python.3.8_qbz5n2kfra8p0\\LocalCache\\local-packages\\Python38\\site-packages\\sklearn\\base.py\", line 605, in _validate_data\n",
      "    out = check_array(X, input_name=\"X\", **check_params)\n",
      "  File \"C:\\Users\\ekaushik\\AppData\\Local\\Packages\\PythonSoftwareFoundation.Python.3.8_qbz5n2kfra8p0\\LocalCache\\local-packages\\Python38\\site-packages\\sklearn\\utils\\validation.py\", line 957, in check_array\n",
      "    _assert_all_finite(\n",
      "  File \"C:\\Users\\ekaushik\\AppData\\Local\\Packages\\PythonSoftwareFoundation.Python.3.8_qbz5n2kfra8p0\\LocalCache\\local-packages\\Python38\\site-packages\\sklearn\\utils\\validation.py\", line 122, in _assert_all_finite\n",
      "    _assert_all_finite_element_wise(\n",
      "  File \"C:\\Users\\ekaushik\\AppData\\Local\\Packages\\PythonSoftwareFoundation.Python.3.8_qbz5n2kfra8p0\\LocalCache\\local-packages\\Python38\\site-packages\\sklearn\\utils\\validation.py\", line 171, in _assert_all_finite_element_wise\n",
      "    raise ValueError(msg_err)\n",
      "ValueError: Input X contains infinity or a value too large for dtype('float64').\n",
      "\n",
      "The above exception was the direct cause of the following exception:\n",
      "\n",
      "Traceback (most recent call last):\n",
      "  File \"C:\\Users\\ekaushik\\AppData\\Local\\Packages\\PythonSoftwareFoundation.Python.3.8_qbz5n2kfra8p0\\LocalCache\\local-packages\\Python38\\site-packages\\autots\\evaluator\\auto_model.py\", line 1285, in model_forecast\n",
      "    df_forecast = model_forecast(\n",
      "  File \"C:\\Users\\ekaushik\\AppData\\Local\\Packages\\PythonSoftwareFoundation.Python.3.8_qbz5n2kfra8p0\\LocalCache\\local-packages\\Python38\\site-packages\\autots\\evaluator\\auto_model.py\", line 1389, in model_forecast\n",
      "    model = model.fit(df_train_low, future_regressor_train)\n",
      "  File \"C:\\Users\\ekaushik\\AppData\\Local\\Packages\\PythonSoftwareFoundation.Python.3.8_qbz5n2kfra8p0\\LocalCache\\local-packages\\Python38\\site-packages\\autots\\evaluator\\auto_model.py\", line 813, in fit\n",
      "    df_train_transformed = self.transformer_object._fit(df)\n",
      "  File \"C:\\Users\\ekaushik\\AppData\\Local\\Packages\\PythonSoftwareFoundation.Python.3.8_qbz5n2kfra8p0\\LocalCache\\local-packages\\Python38\\site-packages\\autots\\tools\\transform.py\", line 4734, in _fit\n",
      "    raise Exception(\n",
      "Exception: Transformer PowerTransformer failed on fit\n",
      "\n",
      "FAILED: Ensemble BestN component 4 of 5 VECM with error: Exception('Transformer PowerTransformer failed on fit')\n",
      "6 - Ensemble with avg smape 8.26: \n",
      "Model Number: 7 of 141 with model FBProphet for Validation 4\n",
      "7 - FBProphet with avg smape 6.47: \n",
      "Model Number: 8 of 141 with model Ensemble for Validation 4\n"
     ]
    },
    {
     "name": "stderr",
     "output_type": "stream",
     "text": [
      "C:\\Users\\ekaushik\\AppData\\Local\\Packages\\PythonSoftwareFoundation.Python.3.8_qbz5n2kfra8p0\\LocalCache\\local-packages\\Python38\\site-packages\\sklearn\\linear_model\\_ridge.py:200: LinAlgWarning: Ill-conditioned matrix (rcond=5.66561e-25): result may not be accurate.\n",
      "  return linalg.solve(A, Xy, assume_a=\"pos\", overwrite_a=True).T\n"
     ]
    },
    {
     "name": "stdout",
     "output_type": "stream",
     "text": [
      "8 - Ensemble with avg smape 8.2: \n",
      "Model Number: 9 of 141 with model KalmanStateSpace for Validation 4\n",
      "9 - KalmanStateSpace with avg smape 16.83: \n",
      "Model Number: 10 of 141 with model KalmanStateSpace for Validation 4\n",
      "10 - KalmanStateSpace with avg smape 10.85: \n",
      "Model Number: 11 of 141 with model FBProphet for Validation 4\n",
      "11 - FBProphet with avg smape 10.56: \n",
      "Model Number: 12 of 141 with model KalmanStateSpace for Validation 4\n",
      "12 - KalmanStateSpace with avg smape 8.94: \n",
      "Model Number: 13 of 141 with model VECM for Validation 4\n",
      "Template Eval Error: Exception('Transformer PowerTransformer failed on fit') in model 13 in generation 0: VECM\n",
      "Model Number: 14 of 141 with model MetricMotif for Validation 4\n"
     ]
    },
    {
     "name": "stderr",
     "output_type": "stream",
     "text": [
      "C:\\Users\\ekaushik\\AppData\\Local\\Packages\\PythonSoftwareFoundation.Python.3.8_qbz5n2kfra8p0\\LocalCache\\local-packages\\Python38\\site-packages\\sklearn\\preprocessing\\_data.py:3308: RuntimeWarning: overflow encountered in power\n",
      "  out[pos] = (np.power(x[pos] + 1, lmbda) - 1) / lmbda\n",
      "C:\\Users\\ekaushik\\AppData\\Local\\Packages\\PythonSoftwareFoundation.Python.3.8_qbz5n2kfra8p0\\LocalCache\\local-packages\\Python38\\site-packages\\numpy\\core\\_methods.py:236: RuntimeWarning: overflow encountered in multiply\n",
      "  x = um.multiply(x, x, out=x)\n",
      "C:\\Users\\ekaushik\\AppData\\Local\\Packages\\PythonSoftwareFoundation.Python.3.8_qbz5n2kfra8p0\\LocalCache\\local-packages\\Python38\\site-packages\\numpy\\core\\_methods.py:247: RuntimeWarning: overflow encountered in reduce\n",
      "  ret = umr_sum(x, axis, dtype, out, keepdims=keepdims, where=where)\n"
     ]
    },
    {
     "name": "stdout",
     "output_type": "stream",
     "text": [
      "14 - MetricMotif with avg smape 10.01: \n",
      "Model Number: 15 of 141 with model KalmanStateSpace for Validation 4\n",
      "15 - KalmanStateSpace with avg smape 7.57: \n",
      "Model Number: 16 of 141 with model VECM for Validation 4\n",
      "Template Eval Error: Exception('Transformer PowerTransformer failed on fit') in model 16 in generation 0: VECM\n",
      "Model Number: 17 of 141 with model VECM for Validation 4\n",
      "Template Eval Error: Exception('Transformer PowerTransformer failed on fit') in model 17 in generation 0: VECM\n"
     ]
    },
    {
     "name": "stderr",
     "output_type": "stream",
     "text": [
      "C:\\Users\\ekaushik\\AppData\\Local\\Packages\\PythonSoftwareFoundation.Python.3.8_qbz5n2kfra8p0\\LocalCache\\local-packages\\Python38\\site-packages\\sklearn\\preprocessing\\_data.py:3308: RuntimeWarning: overflow encountered in power\n",
      "  out[pos] = (np.power(x[pos] + 1, lmbda) - 1) / lmbda\n",
      "C:\\Users\\ekaushik\\AppData\\Local\\Packages\\PythonSoftwareFoundation.Python.3.8_qbz5n2kfra8p0\\LocalCache\\local-packages\\Python38\\site-packages\\numpy\\core\\_methods.py:236: RuntimeWarning: overflow encountered in multiply\n",
      "  x = um.multiply(x, x, out=x)\n",
      "C:\\Users\\ekaushik\\AppData\\Local\\Packages\\PythonSoftwareFoundation.Python.3.8_qbz5n2kfra8p0\\LocalCache\\local-packages\\Python38\\site-packages\\numpy\\core\\_methods.py:247: RuntimeWarning: overflow encountered in reduce\n",
      "  ret = umr_sum(x, axis, dtype, out, keepdims=keepdims, where=where)\n",
      "C:\\Users\\ekaushik\\AppData\\Local\\Packages\\PythonSoftwareFoundation.Python.3.8_qbz5n2kfra8p0\\LocalCache\\local-packages\\Python38\\site-packages\\sklearn\\preprocessing\\_data.py:3308: RuntimeWarning: overflow encountered in power\n",
      "  out[pos] = (np.power(x[pos] + 1, lmbda) - 1) / lmbda\n",
      "C:\\Users\\ekaushik\\AppData\\Local\\Packages\\PythonSoftwareFoundation.Python.3.8_qbz5n2kfra8p0\\LocalCache\\local-packages\\Python38\\site-packages\\numpy\\core\\_methods.py:236: RuntimeWarning: overflow encountered in multiply\n",
      "  x = um.multiply(x, x, out=x)\n",
      "C:\\Users\\ekaushik\\AppData\\Local\\Packages\\PythonSoftwareFoundation.Python.3.8_qbz5n2kfra8p0\\LocalCache\\local-packages\\Python38\\site-packages\\numpy\\core\\_methods.py:247: RuntimeWarning: overflow encountered in reduce\n",
      "  ret = umr_sum(x, axis, dtype, out, keepdims=keepdims, where=where)\n"
     ]
    },
    {
     "name": "stdout",
     "output_type": "stream",
     "text": [
      "Model Number: 18 of 141 with model ARDL for Validation 4\n",
      "18 - ARDL with avg smape 11.84: \n",
      "Model Number: 19 of 141 with model KalmanStateSpace for Validation 4\n",
      "19 - KalmanStateSpace with avg smape 8.39: \n",
      "Model Number: 20 of 141 with model LastValueNaive for Validation 4\n",
      "20 - LastValueNaive with avg smape 7.27: \n",
      "Model Number: 21 of 141 with model LastValueNaive for Validation 4\n",
      "21 - LastValueNaive with avg smape 7.34: \n",
      "Model Number: 22 of 141 with model VECM for Validation 4\n",
      "22 - VECM with avg smape 10.24: \n",
      "Model Number: 23 of 141 with model VECM for Validation 4\n",
      "23 - VECM with avg smape 9.57: \n",
      "Model Number: 24 of 141 with model VECM for Validation 4\n"
     ]
    },
    {
     "name": "stderr",
     "output_type": "stream",
     "text": [
      "C:\\Users\\ekaushik\\AppData\\Local\\Packages\\PythonSoftwareFoundation.Python.3.8_qbz5n2kfra8p0\\LocalCache\\local-packages\\Python38\\site-packages\\sklearn\\preprocessing\\_data.py:3308: RuntimeWarning: overflow encountered in power\n",
      "  out[pos] = (np.power(x[pos] + 1, lmbda) - 1) / lmbda\n"
     ]
    },
    {
     "name": "stdout",
     "output_type": "stream",
     "text": [
      "Template Eval Error: Exception('Transformer PowerTransformer failed on fit') in model 24 in generation 0: VECM\n",
      "Model Number: 25 of 141 with model KalmanStateSpace for Validation 4\n",
      "25 - KalmanStateSpace with avg smape 9.71: \n",
      "Model Number: 26 of 141 with model LastValueNaive for Validation 4\n",
      "26 - LastValueNaive with avg smape 6.87: \n",
      "Model Number: 27 of 141 with model UnobservedComponents for Validation 4\n",
      "27 - UnobservedComponents with avg smape 13.2: \n",
      "Model Number: 28 of 141 with model LastValueNaive for Validation 4\n",
      "Template Eval Error: Exception('Transformer PowerTransformer failed on fit') in model 28 in generation 0: LastValueNaive\n",
      "Model Number: 29 of 141 with model LastValueNaive for Validation 4\n"
     ]
    },
    {
     "name": "stderr",
     "output_type": "stream",
     "text": [
      "C:\\Users\\ekaushik\\AppData\\Local\\Packages\\PythonSoftwareFoundation.Python.3.8_qbz5n2kfra8p0\\LocalCache\\local-packages\\Python38\\site-packages\\sklearn\\preprocessing\\_data.py:3308: RuntimeWarning: overflow encountered in power\n",
      "  out[pos] = (np.power(x[pos] + 1, lmbda) - 1) / lmbda\n",
      "C:\\Users\\ekaushik\\AppData\\Local\\Packages\\PythonSoftwareFoundation.Python.3.8_qbz5n2kfra8p0\\LocalCache\\local-packages\\Python38\\site-packages\\sklearn\\preprocessing\\_data.py:3308: RuntimeWarning: overflow encountered in power\n",
      "  out[pos] = (np.power(x[pos] + 1, lmbda) - 1) / lmbda\n"
     ]
    },
    {
     "name": "stdout",
     "output_type": "stream",
     "text": [
      "Template Eval Error: Exception('Transformer PowerTransformer failed on fit') in model 29 in generation 0: LastValueNaive\n",
      "Model Number: 30 of 141 with model LastValueNaive for Validation 4\n",
      "Template Eval Error: Exception('Transformer PowerTransformer failed on fit') in model 30 in generation 0: LastValueNaive\n",
      "Model Number: 31 of 141 with model AverageValueNaive for Validation 4\n"
     ]
    },
    {
     "name": "stderr",
     "output_type": "stream",
     "text": [
      "C:\\Users\\ekaushik\\AppData\\Local\\Packages\\PythonSoftwareFoundation.Python.3.8_qbz5n2kfra8p0\\LocalCache\\local-packages\\Python38\\site-packages\\sklearn\\preprocessing\\_data.py:3308: RuntimeWarning: overflow encountered in power\n",
      "  out[pos] = (np.power(x[pos] + 1, lmbda) - 1) / lmbda\n"
     ]
    },
    {
     "name": "stdout",
     "output_type": "stream",
     "text": [
      "31 - AverageValueNaive with avg smape 7.99: \n",
      "Model Number: 32 of 141 with model ARIMA for Validation 4\n",
      "32 - ARIMA with avg smape 7.26: \n",
      "Model Number: 33 of 141 with model ARIMA for Validation 4\n",
      "33 - ARIMA with avg smape 7.26: \n",
      "Model Number: 34 of 141 with model ARIMA for Validation 4\n",
      "34 - ARIMA with avg smape 9.51: \n",
      "Model Number: 35 of 141 with model ARIMA for Validation 4\n",
      "35 - ARIMA with avg smape 7.79: \n",
      "Model Number: 36 of 141 with model WindowRegression for Validation 4\n",
      "36 - WindowRegression with avg smape 10.18: \n",
      "Model Number: 37 of 141 with model MetricMotif for Validation 4\n",
      "37 - MetricMotif with avg smape 9.6: \n",
      "Model Number: 38 of 141 with model ARIMA for Validation 4\n",
      "38 - ARIMA with avg smape 7.3: \n",
      "Model Number: 39 of 141 with model Theta for Validation 4\n",
      "39 - Theta with avg smape 7.99: \n",
      "Model Number: 40 of 141 with model ARIMA for Validation 4\n",
      "40 - ARIMA with avg smape 7.93: \n",
      "Model Number: 41 of 141 with model FFT for Validation 4\n",
      "41 - FFT with avg smape 11.97: \n",
      "Model Number: 42 of 141 with model WindowRegression for Validation 4\n"
     ]
    },
    {
     "name": "stderr",
     "output_type": "stream",
     "text": [
      "C:\\Users\\ekaushik\\AppData\\Local\\Packages\\PythonSoftwareFoundation.Python.3.8_qbz5n2kfra8p0\\LocalCache\\local-packages\\Python38\\site-packages\\sklearn\\preprocessing\\_data.py:3308: RuntimeWarning: overflow encountered in power\n",
      "  out[pos] = (np.power(x[pos] + 1, lmbda) - 1) / lmbda\n"
     ]
    },
    {
     "name": "stdout",
     "output_type": "stream",
     "text": [
      "Template Eval Error: Exception('Transformer PowerTransformer failed on fit') in model 42 in generation 0: WindowRegression\n",
      "Model Number: 43 of 141 with model ETS for Validation 4\n"
     ]
    },
    {
     "name": "stderr",
     "output_type": "stream",
     "text": [
      "C:\\Users\\ekaushik\\AppData\\Local\\Packages\\PythonSoftwareFoundation.Python.3.8_qbz5n2kfra8p0\\LocalCache\\local-packages\\Python38\\site-packages\\sklearn\\preprocessing\\_data.py:3308: RuntimeWarning: overflow encountered in power\n",
      "  out[pos] = (np.power(x[pos] + 1, lmbda) - 1) / lmbda\n"
     ]
    },
    {
     "name": "stdout",
     "output_type": "stream",
     "text": [
      "Template Eval Error: Exception('Transformer PowerTransformer failed on fit') in model 43 in generation 0: ETS\n",
      "Model Number: 44 of 141 with model ETS for Validation 4\n"
     ]
    },
    {
     "name": "stderr",
     "output_type": "stream",
     "text": [
      "C:\\Users\\ekaushik\\AppData\\Local\\Packages\\PythonSoftwareFoundation.Python.3.8_qbz5n2kfra8p0\\LocalCache\\local-packages\\Python38\\site-packages\\sklearn\\preprocessing\\_data.py:3308: RuntimeWarning: overflow encountered in power\n",
      "  out[pos] = (np.power(x[pos] + 1, lmbda) - 1) / lmbda\n"
     ]
    },
    {
     "name": "stdout",
     "output_type": "stream",
     "text": [
      "Template Eval Error: Exception('Transformer PowerTransformer failed on fit') in model 44 in generation 0: ETS\n",
      "Model Number: 45 of 141 with model ETS for Validation 4\n"
     ]
    },
    {
     "name": "stderr",
     "output_type": "stream",
     "text": [
      "C:\\Users\\ekaushik\\AppData\\Local\\Packages\\PythonSoftwareFoundation.Python.3.8_qbz5n2kfra8p0\\LocalCache\\local-packages\\Python38\\site-packages\\sklearn\\preprocessing\\_data.py:3308: RuntimeWarning: overflow encountered in power\n",
      "  out[pos] = (np.power(x[pos] + 1, lmbda) - 1) / lmbda\n"
     ]
    },
    {
     "name": "stdout",
     "output_type": "stream",
     "text": [
      "Template Eval Error: Exception('Transformer PowerTransformer failed on fit') in model 45 in generation 0: ETS\n",
      "Model Number: 46 of 141 with model Theta for Validation 4\n",
      "46 - Theta with avg smape 7.92: \n",
      "Model Number: 47 of 141 with model FBProphet for Validation 4\n",
      "47 - FBProphet with avg smape 6.79: \n",
      "Model Number: 48 of 141 with model SeasonalityMotif for Validation 4\n",
      "48 - SeasonalityMotif with avg smape 8.05: \n",
      "Model Number: 49 of 141 with model SeasonalityMotif for Validation 4\n",
      "49 - SeasonalityMotif with avg smape 13.86: \n",
      "Model Number: 50 of 141 with model ETS for Validation 4\n",
      "50 - ETS with avg smape 10.88: \n",
      "Model Number: 51 of 141 with model FFT for Validation 4\n",
      "51 - FFT with avg smape 7.16: \n",
      "Model Number: 52 of 141 with model Theta for Validation 4\n",
      "52 - Theta with avg smape 7.44: \n",
      "Model Number: 53 of 141 with model ARDL for Validation 4\n",
      "53 - ARDL with avg smape 11.57: \n",
      "Model Number: 54 of 141 with model UnivariateMotif for Validation 4\n",
      "54 - UnivariateMotif with avg smape 11.38: \n",
      "Model Number: 55 of 141 with model ConstantNaive for Validation 4\n",
      "55 - ConstantNaive with avg smape 7.34: \n",
      "Model Number: 56 of 141 with model Theta for Validation 4\n",
      "56 - Theta with avg smape 7.52: \n",
      "Model Number: 57 of 141 with model DatepartRegression for Validation 4\n",
      "57 - DatepartRegression with avg smape 7.68: \n",
      "Model Number: 58 of 141 with model SeasonalityMotif for Validation 4\n",
      "58 - SeasonalityMotif with avg smape 10.97: \n",
      "Model Number: 59 of 141 with model SeasonalityMotif for Validation 4\n",
      "59 - SeasonalityMotif with avg smape 8.95: \n",
      "Model Number: 60 of 141 with model ETS for Validation 4\n",
      "60 - ETS with avg smape 11.22: \n",
      "Model Number: 61 of 141 with model ETS for Validation 4\n",
      "61 - ETS with avg smape 11.22: \n",
      "Model Number: 62 of 141 with model ARCH for Validation 4\n",
      "Template Eval Error: Exception('Transformer PowerTransformer failed on fit') in model 62 in generation 0: ARCH\n",
      "Model Number: 63 of 141 with model MetricMotif for Validation 4\n"
     ]
    },
    {
     "name": "stderr",
     "output_type": "stream",
     "text": [
      "C:\\Users\\ekaushik\\AppData\\Local\\Packages\\PythonSoftwareFoundation.Python.3.8_qbz5n2kfra8p0\\LocalCache\\local-packages\\Python38\\site-packages\\sklearn\\preprocessing\\_data.py:3308: RuntimeWarning: overflow encountered in power\n",
      "  out[pos] = (np.power(x[pos] + 1, lmbda) - 1) / lmbda\n"
     ]
    },
    {
     "name": "stdout",
     "output_type": "stream",
     "text": [
      "63 - MetricMotif with avg smape 9.57: \n",
      "Model Number: 64 of 141 with model RRVAR for Validation 4\n",
      "Template Eval Error: Exception('Transformer PowerTransformer failed on fit') in model 64 in generation 0: RRVAR\n",
      "Model Number: 65 of 141 with model FBProphet for Validation 4\n"
     ]
    },
    {
     "name": "stderr",
     "output_type": "stream",
     "text": [
      "C:\\Users\\ekaushik\\AppData\\Local\\Packages\\PythonSoftwareFoundation.Python.3.8_qbz5n2kfra8p0\\LocalCache\\local-packages\\Python38\\site-packages\\sklearn\\preprocessing\\_data.py:3308: RuntimeWarning: overflow encountered in power\n",
      "  out[pos] = (np.power(x[pos] + 1, lmbda) - 1) / lmbda\n",
      "C:\\Users\\ekaushik\\AppData\\Local\\Packages\\PythonSoftwareFoundation.Python.3.8_qbz5n2kfra8p0\\LocalCache\\local-packages\\Python38\\site-packages\\numpy\\core\\_methods.py:236: RuntimeWarning: overflow encountered in multiply\n",
      "  x = um.multiply(x, x, out=x)\n"
     ]
    },
    {
     "name": "stdout",
     "output_type": "stream",
     "text": [
      "65 - FBProphet with avg smape 9.07: \n",
      "Model Number: 66 of 141 with model UnobservedComponents for Validation 4\n",
      "Template Eval Error: Exception('Transformer PowerTransformer failed on fit') in model 66 in generation 0: UnobservedComponents\n",
      "Model Number: 67 of 141 with model Theta for Validation 4\n"
     ]
    },
    {
     "name": "stderr",
     "output_type": "stream",
     "text": [
      "C:\\Users\\ekaushik\\AppData\\Local\\Packages\\PythonSoftwareFoundation.Python.3.8_qbz5n2kfra8p0\\LocalCache\\local-packages\\Python38\\site-packages\\sklearn\\preprocessing\\_data.py:3308: RuntimeWarning: overflow encountered in power\n",
      "  out[pos] = (np.power(x[pos] + 1, lmbda) - 1) / lmbda\n"
     ]
    },
    {
     "name": "stdout",
     "output_type": "stream",
     "text": [
      "67 - Theta with avg smape 9.83: \n",
      "Model Number: 68 of 141 with model AverageValueNaive for Validation 4\n",
      "68 - AverageValueNaive with avg smape 9.63: \n",
      "Model Number: 69 of 141 with model AverageValueNaive for Validation 4\n",
      "69 - AverageValueNaive with avg smape 9.63: \n",
      "Model Number: 70 of 141 with model AverageValueNaive for Validation 4\n",
      "70 - AverageValueNaive with avg smape 9.63: \n",
      "Model Number: 71 of 141 with model FBProphet for Validation 4\n",
      "71 - FBProphet with avg smape 9.22: \n",
      "Model Number: 72 of 141 with model UnobservedComponents for Validation 4\n",
      "72 - UnobservedComponents with avg smape 10.1: \n",
      "Model Number: 73 of 141 with model UnobservedComponents for Validation 4\n",
      "73 - UnobservedComponents with avg smape 10.08: \n",
      "Model Number: 74 of 141 with model UnobservedComponents for Validation 4\n",
      "74 - UnobservedComponents with avg smape 10.1: \n",
      "Model Number: 75 of 141 with model SeasonalNaive for Validation 4\n",
      "Template Eval Error: Exception('Transformer PowerTransformer failed on fit') in model 75 in generation 0: SeasonalNaive\n",
      "Model Number: 76 of 141 with model ARDL for Validation 4\n"
     ]
    },
    {
     "name": "stderr",
     "output_type": "stream",
     "text": [
      "C:\\Users\\ekaushik\\AppData\\Local\\Packages\\PythonSoftwareFoundation.Python.3.8_qbz5n2kfra8p0\\LocalCache\\local-packages\\Python38\\site-packages\\sklearn\\preprocessing\\_data.py:3308: RuntimeWarning: overflow encountered in power\n",
      "  out[pos] = (np.power(x[pos] + 1, lmbda) - 1) / lmbda\n"
     ]
    },
    {
     "name": "stdout",
     "output_type": "stream",
     "text": [
      "76 - ARDL with avg smape 13.3: \n",
      "Model Number: 77 of 141 with model VAR for Validation 4\n",
      "77 - VAR with avg smape 8.22: \n",
      "Model Number: 78 of 141 with model ARDL for Validation 4\n",
      "78 - ARDL with avg smape 10.29: \n",
      "Model Number: 79 of 141 with model WindowRegression for Validation 4\n",
      "Template Eval Error: Exception('Transformer PowerTransformer failed on fit') in model 79 in generation 0: WindowRegression\n",
      "Model Number: 80 of 141 with model SeasonalityMotif for Validation 4\n",
      "80 - SeasonalityMotif with avg smape 8.35: \n",
      "Model Number: 81 of 141 with model FFT for Validation 4\n"
     ]
    },
    {
     "name": "stderr",
     "output_type": "stream",
     "text": [
      "C:\\Users\\ekaushik\\AppData\\Local\\Packages\\PythonSoftwareFoundation.Python.3.8_qbz5n2kfra8p0\\LocalCache\\local-packages\\Python38\\site-packages\\sklearn\\preprocessing\\_data.py:3308: RuntimeWarning: overflow encountered in power\n",
      "  out[pos] = (np.power(x[pos] + 1, lmbda) - 1) / lmbda\n"
     ]
    },
    {
     "name": "stdout",
     "output_type": "stream",
     "text": [
      "81 - FFT with avg smape 7.27: \n",
      "Model Number: 82 of 141 with model FFT for Validation 4\n",
      "82 - FFT with avg smape 7.32: \n",
      "Model Number: 83 of 141 with model ARDL for Validation 4\n",
      "83 - ARDL with avg smape 11.68: \n",
      "Model Number: 84 of 141 with model Theta for Validation 4\n",
      "84 - Theta with avg smape 7.57: \n",
      "Model Number: 85 of 141 with model SectionalMotif for Validation 4\n",
      "85 - SectionalMotif with avg smape 7.79: \n",
      "Model Number: 86 of 141 with model MultivariateMotif for Validation 4\n",
      "86 - MultivariateMotif with avg smape 24.22: \n",
      "Model Number: 87 of 141 with model SeasonalNaive for Validation 4\n",
      "87 - SeasonalNaive with avg smape 9.99: \n",
      "Model Number: 88 of 141 with model SeasonalNaive for Validation 4\n",
      "88 - SeasonalNaive with avg smape 10.23: \n",
      "Model Number: 89 of 141 with model VAR for Validation 4\n",
      "89 - VAR with avg smape 11.09: \n",
      "Model Number: 90 of 141 with model VAR for Validation 4\n",
      "90 - VAR with avg smape 11.09: \n",
      "Model Number: 91 of 141 with model VAR for Validation 4\n",
      "91 - VAR with avg smape 9.04: \n",
      "Model Number: 92 of 141 with model VAR for Validation 4\n",
      "92 - VAR with avg smape 9.04: \n",
      "Model Number: 93 of 141 with model VAR for Validation 4\n",
      "93 - VAR with avg smape 9.04: \n",
      "Model Number: 94 of 141 with model SeasonalNaive for Validation 4\n",
      "Template Eval Error: Exception('Transformer PowerTransformer failed on fit') in model 94 in generation 0: SeasonalNaive\n",
      "Model Number: 95 of 141 with model ConstantNaive for Validation 4\n"
     ]
    },
    {
     "name": "stderr",
     "output_type": "stream",
     "text": [
      "C:\\Users\\ekaushik\\AppData\\Local\\Packages\\PythonSoftwareFoundation.Python.3.8_qbz5n2kfra8p0\\LocalCache\\local-packages\\Python38\\site-packages\\sklearn\\preprocessing\\_data.py:3308: RuntimeWarning: overflow encountered in power\n",
      "  out[pos] = (np.power(x[pos] + 1, lmbda) - 1) / lmbda\n",
      "C:\\Users\\ekaushik\\AppData\\Local\\Packages\\PythonSoftwareFoundation.Python.3.8_qbz5n2kfra8p0\\LocalCache\\local-packages\\Python38\\site-packages\\numpy\\core\\_methods.py:236: RuntimeWarning: overflow encountered in multiply\n",
      "  x = um.multiply(x, x, out=x)\n",
      "C:\\Users\\ekaushik\\AppData\\Local\\Packages\\PythonSoftwareFoundation.Python.3.8_qbz5n2kfra8p0\\LocalCache\\local-packages\\Python38\\site-packages\\numpy\\core\\_methods.py:247: RuntimeWarning: overflow encountered in reduce\n",
      "  ret = umr_sum(x, axis, dtype, out, keepdims=keepdims, where=where)\n"
     ]
    },
    {
     "name": "stdout",
     "output_type": "stream",
     "text": [
      "95 - ConstantNaive with avg smape 6.87: \n",
      "Model Number: 96 of 141 with model SeasonalNaive for Validation 4\n",
      "96 - SeasonalNaive with avg smape 8.07: \n",
      "Model Number: 97 of 141 with model ARDL for Validation 4\n",
      "97 - ARDL with avg smape 9.99: \n",
      "Model Number: 98 of 141 with model SeasonalNaive for Validation 4\n",
      "98 - SeasonalNaive with avg smape 10.15: \n",
      "Model Number: 99 of 141 with model UnivariateMotif for Validation 4\n",
      "99 - UnivariateMotif with avg smape 11.24: \n",
      "Model Number: 100 of 141 with model FFT for Validation 4\n",
      "100 - FFT with avg smape 7.87: \n",
      "Model Number: 101 of 141 with model SeasonalityMotif for Validation 4\n",
      "101 - SeasonalityMotif with avg smape 7.67: \n",
      "Model Number: 102 of 141 with model ARCH for Validation 4\n",
      "102 - ARCH with avg smape 6.87: \n",
      "Model Number: 103 of 141 with model ConstantNaive for Validation 4\n",
      "103 - ConstantNaive with avg smape 7.55: \n",
      "Model Number: 104 of 141 with model ConstantNaive for Validation 4\n",
      "104 - ConstantNaive with avg smape 7.55: \n",
      "Model Number: 105 of 141 with model FFT for Validation 4\n"
     ]
    },
    {
     "name": "stderr",
     "output_type": "stream",
     "text": [
      "C:\\Users\\ekaushik\\AppData\\Local\\Packages\\PythonSoftwareFoundation.Python.3.8_qbz5n2kfra8p0\\LocalCache\\local-packages\\Python38\\site-packages\\sklearn\\linear_model\\_coordinate_descent.py:2412: ConvergenceWarning: Objective did not converge. You might want to increase the number of iterations. Duality gap: 80334171.57403585, tolerance: 40426.029779356526\n",
      "  ) = cd_fast.enet_coordinate_descent_multi_task(\n"
     ]
    },
    {
     "name": "stdout",
     "output_type": "stream",
     "text": [
      "105 - FFT with avg smape 7.36: \n",
      "Model Number: 106 of 141 with model AverageValueNaive for Validation 4\n",
      "106 - AverageValueNaive with avg smape 7.89: \n",
      "Model Number: 107 of 141 with model SectionalMotif for Validation 4\n",
      "107 - SectionalMotif with avg smape 7.7: \n",
      "Model Number: 108 of 141 with model MultivariateMotif for Validation 4\n",
      "108 - MultivariateMotif with avg smape 10.35: \n",
      "Model Number: 109 of 141 with model ConstantNaive for Validation 4\n"
     ]
    },
    {
     "name": "stderr",
     "output_type": "stream",
     "text": [
      "C:\\Users\\ekaushik\\AppData\\Local\\Packages\\PythonSoftwareFoundation.Python.3.8_qbz5n2kfra8p0\\LocalCache\\local-packages\\Python38\\site-packages\\sklearn\\linear_model\\_coordinate_descent.py:2412: ConvergenceWarning: Objective did not converge. You might want to increase the number of iterations. Duality gap: 30199152.2441445, tolerance: 60041.854104618076\n",
      "  ) = cd_fast.enet_coordinate_descent_multi_task(\n"
     ]
    },
    {
     "name": "stdout",
     "output_type": "stream",
     "text": [
      "109 - ConstantNaive with avg smape 6.87: \n",
      "Model Number: 110 of 141 with model ConstantNaive for Validation 4\n",
      "110 - ConstantNaive with avg smape 6.87: \n",
      "Model Number: 111 of 141 with model UnobservedComponents for Validation 4\n",
      "111 - UnobservedComponents with avg smape 9.88: \n",
      "Model Number: 112 of 141 with model AverageValueNaive for Validation 4\n",
      "112 - AverageValueNaive with avg smape 9.34: \n",
      "Model Number: 113 of 141 with model ARCH for Validation 4\n",
      "113 - ARCH with avg smape 7.4: \n",
      "Model Number: 114 of 141 with model WindowRegression for Validation 4\n",
      "114 - WindowRegression with avg smape 10.68: \n",
      "Model Number: 115 of 141 with model MetricMotif for Validation 4\n",
      "115 - MetricMotif with avg smape 13.14: \n",
      "Model Number: 116 of 141 with model MultivariateMotif for Validation 4\n",
      "116 - MultivariateMotif with avg smape 8.17: \n",
      "Model Number: 117 of 141 with model WindowRegression for Validation 4\n",
      "Template Eval Error: Exception('Transformer PowerTransformer failed on fit') in model 117 in generation 0: WindowRegression\n",
      "Model Number: 118 of 141 with model GLS for Validation 4\n"
     ]
    },
    {
     "name": "stderr",
     "output_type": "stream",
     "text": [
      "C:\\Users\\ekaushik\\AppData\\Local\\Packages\\PythonSoftwareFoundation.Python.3.8_qbz5n2kfra8p0\\LocalCache\\local-packages\\Python38\\site-packages\\sklearn\\preprocessing\\_data.py:3308: RuntimeWarning: overflow encountered in power\n",
      "  out[pos] = (np.power(x[pos] + 1, lmbda) - 1) / lmbda\n"
     ]
    },
    {
     "name": "stdout",
     "output_type": "stream",
     "text": [
      "118 - GLS with avg smape 11.29: \n",
      "Model Number: 119 of 141 with model UnivariateMotif for Validation 4\n",
      "119 - UnivariateMotif with avg smape 12.82: \n",
      "Model Number: 120 of 141 with model GLS for Validation 4\n",
      "120 - GLS with avg smape 8.51: \n",
      "Model Number: 121 of 141 with model GLS for Validation 4\n",
      "121 - GLS with avg smape 8.12: \n",
      "Model Number: 122 of 141 with model RRVAR for Validation 4\n"
     ]
    },
    {
     "name": "stderr",
     "output_type": "stream",
     "text": [
      "C:\\Users\\ekaushik\\AppData\\Local\\Packages\\PythonSoftwareFoundation.Python.3.8_qbz5n2kfra8p0\\LocalCache\\local-packages\\Python38\\site-packages\\sklearn\\preprocessing\\_data.py:3308: RuntimeWarning: overflow encountered in power\n",
      "  out[pos] = (np.power(x[pos] + 1, lmbda) - 1) / lmbda\n",
      "C:\\Users\\ekaushik\\AppData\\Local\\Packages\\PythonSoftwareFoundation.Python.3.8_qbz5n2kfra8p0\\LocalCache\\local-packages\\Python38\\site-packages\\numpy\\core\\_methods.py:236: RuntimeWarning: overflow encountered in multiply\n",
      "  x = um.multiply(x, x, out=x)\n"
     ]
    },
    {
     "name": "stdout",
     "output_type": "stream",
     "text": [
      "Template Eval Error: Exception('Transformer PowerTransformer failed on fit') in model 122 in generation 0: RRVAR\n",
      "Model Number: 123 of 141 with model MultivariateMotif for Validation 4\n",
      "123 - MultivariateMotif with avg smape 7.87: \n",
      "Model Number: 124 of 141 with model MetricMotif for Validation 4\n",
      "124 - MetricMotif with avg smape 10.21: \n",
      "Model Number: 125 of 141 with model WindowRegression for Validation 4\n",
      "125 - WindowRegression with avg smape 10.11: \n",
      "Model Number: 126 of 141 with model Cassandra for Validation 4\n"
     ]
    },
    {
     "name": "stderr",
     "output_type": "stream",
     "text": [
      "C:\\Users\\ekaushik\\AppData\\Local\\Packages\\PythonSoftwareFoundation.Python.3.8_qbz5n2kfra8p0\\LocalCache\\local-packages\\Python38\\site-packages\\numpy\\lib\\function_base.py:2853: RuntimeWarning: invalid value encountered in divide\n",
      "  c /= stddev[:, None]\n",
      "C:\\Users\\ekaushik\\AppData\\Local\\Packages\\PythonSoftwareFoundation.Python.3.8_qbz5n2kfra8p0\\LocalCache\\local-packages\\Python38\\site-packages\\numpy\\lib\\function_base.py:2854: RuntimeWarning: invalid value encountered in divide\n",
      "  c /= stddev[None, :]\n"
     ]
    },
    {
     "name": "stdout",
     "output_type": "stream",
     "text": [
      "Template Eval Error: ValueError(\"Model returned NaN due to a preprocessing transformer {'fillna': 'ffill', 'transformations': {'0': 'AlignLastValue', '1': 'AlignLastValue', '2': 'PowerTransformer', '3': 'AlignLastValue'}, 'transformation_params': {'0': {'rows': 1, 'lag': 1, 'method': 'additive', 'strength': 0.2, 'first_value_only': False}, '1': {'rows': 1, 'lag': 2, 'method': 'additive', 'strength': 0.2, 'first_value_only': False}, '2': {}, '3': {'rows': 1, 'lag': 2, 'method': 'additive', 'strength': 1.0, 'first_value_only': False}}}. fail_on_forecast_nan=True\") in model 126 in generation 0: Cassandra\n",
      "Model Number: 127 of 141 with model RRVAR for Validation 4\n"
     ]
    },
    {
     "name": "stderr",
     "output_type": "stream",
     "text": [
      "C:\\Users\\ekaushik\\AppData\\Local\\Packages\\PythonSoftwareFoundation.Python.3.8_qbz5n2kfra8p0\\LocalCache\\local-packages\\Python38\\site-packages\\sklearn\\preprocessing\\_data.py:3308: RuntimeWarning: overflow encountered in power\n",
      "  out[pos] = (np.power(x[pos] + 1, lmbda) - 1) / lmbda\n"
     ]
    },
    {
     "name": "stdout",
     "output_type": "stream",
     "text": [
      "Template Eval Error: Exception('Transformer PowerTransformer failed on fit') in model 127 in generation 0: RRVAR\n",
      "Model Number: 128 of 141 with model MultivariateMotif for Validation 4\n",
      "128 - MultivariateMotif with avg smape 8.04: \n",
      "Model Number: 129 of 141 with model MAR for Validation 4\n",
      "129 - MAR with avg smape 15.2: \n",
      "Model Number: 130 of 141 with model MultivariateMotif for Validation 4\n"
     ]
    },
    {
     "name": "stderr",
     "output_type": "stream",
     "text": [
      "C:\\Users\\ekaushik\\AppData\\Local\\Packages\\PythonSoftwareFoundation.Python.3.8_qbz5n2kfra8p0\\LocalCache\\local-packages\\Python38\\site-packages\\sklearn\\preprocessing\\_data.py:3308: RuntimeWarning: overflow encountered in power\n",
      "  out[pos] = (np.power(x[pos] + 1, lmbda) - 1) / lmbda\n",
      "C:\\Users\\ekaushik\\AppData\\Local\\Packages\\PythonSoftwareFoundation.Python.3.8_qbz5n2kfra8p0\\LocalCache\\local-packages\\Python38\\site-packages\\sklearn\\linear_model\\_ridge.py:200: LinAlgWarning: Ill-conditioned matrix (rcond=5.66561e-25): result may not be accurate.\n",
      "  return linalg.solve(A, Xy, assume_a=\"pos\", overwrite_a=True).T\n"
     ]
    },
    {
     "name": "stdout",
     "output_type": "stream",
     "text": [
      "Template Eval Error: Exception('Transformer PowerTransformer failed on fit') in model 130 in generation 0: MultivariateMotif\n",
      "Model Number: 131 of 141 with model DatepartRegression for Validation 4\n",
      "131 - DatepartRegression with avg smape 9.27: \n",
      "Model Number: 132 of 141 with model UnivariateMotif for Validation 4\n",
      "Template Eval Error: ValueError(\"Model returned NaN due to a preprocessing transformer {'fillna': 'KNNImputer', 'transformations': {'0': 'bkfilter', '1': 'AnomalyRemoval', '2': 'PowerTransformer', '3': 'AlignLastValue'}, 'transformation_params': {'0': {}, '1': {'method': 'minmax', 'method_params': {'alpha': 0.05}, 'fillna': 'ffill', 'transform_dict': None}, '2': {}, '3': {'rows': 1, 'lag': 2, 'method': 'additive', 'strength': 1.0, 'first_value_only': False}}}. fail_on_forecast_nan=True\") in model 132 in generation 0: UnivariateMotif\n",
      "Model Number: 133 of 141 with model RRVAR for Validation 4\n",
      "133 - RRVAR with avg smape 11.05: \n",
      "Model Number: 134 of 141 with model RRVAR for Validation 4\n",
      "134 - RRVAR with avg smape 28.15: \n",
      "Model Number: 135 of 141 with model DatepartRegression for Validation 4\n",
      "135 - DatepartRegression with avg smape 6.78: \n",
      "Model Number: 136 of 141 with model RRVAR for Validation 4\n",
      "136 - RRVAR with avg smape 16.14: \n",
      "Model Number: 137 of 141 with model FFT for Validation 4\n",
      "137 - FFT with avg smape 7.52: \n",
      "Model Number: 138 of 141 with model LastValueNaive for Validation 4\n",
      "138 - LastValueNaive with avg smape 14.22: \n",
      "Model Number: 139 of 141 with model FBProphet for Validation 4\n",
      "139 - FBProphet with avg smape 9.31: \n",
      "Model Number: 140 of 141 with model WindowRegression for Validation 4\n"
     ]
    },
    {
     "name": "stderr",
     "output_type": "stream",
     "text": [
      "C:\\Users\\ekaushik\\AppData\\Local\\Packages\\PythonSoftwareFoundation.Python.3.8_qbz5n2kfra8p0\\LocalCache\\local-packages\\Python38\\site-packages\\sklearn\\preprocessing\\_data.py:3308: RuntimeWarning: overflow encountered in power\n",
      "  out[pos] = (np.power(x[pos] + 1, lmbda) - 1) / lmbda\n"
     ]
    },
    {
     "name": "stdout",
     "output_type": "stream",
     "text": [
      "Template Eval Error: Exception('Transformer PowerTransformer failed on fit') in model 140 in generation 0: WindowRegression\n",
      "Model Number: 141 of 141 with model ARIMA for Validation 4\n",
      "141 - ARIMA with avg smape 6.87: \n",
      "Model Number: 1471 with model Ensemble in generation 7 of Ensembles\n",
      "Model Number: 1472 with model Ensemble in generation 7 of Ensembles\n",
      "Model Number: 1473 with model Ensemble in generation 7 of Ensembles\n"
     ]
    },
    {
     "name": "stderr",
     "output_type": "stream",
     "text": [
      "C:\\Users\\ekaushik\\AppData\\Local\\Packages\\PythonSoftwareFoundation.Python.3.8_qbz5n2kfra8p0\\LocalCache\\local-packages\\Python38\\site-packages\\sklearn\\linear_model\\_ridge.py:200: LinAlgWarning: Ill-conditioned matrix (rcond=4.37717e-25): result may not be accurate.\n",
      "  return linalg.solve(A, Xy, assume_a=\"pos\", overwrite_a=True).T\n"
     ]
    },
    {
     "name": "stdout",
     "output_type": "stream",
     "text": [
      "Model Number: 1474 with model Ensemble in generation 7 of Ensembles\n"
     ]
    },
    {
     "name": "stderr",
     "output_type": "stream",
     "text": [
      "C:\\Users\\ekaushik\\AppData\\Local\\Packages\\PythonSoftwareFoundation.Python.3.8_qbz5n2kfra8p0\\LocalCache\\local-packages\\Python38\\site-packages\\sklearn\\linear_model\\_ridge.py:200: LinAlgWarning: Ill-conditioned matrix (rcond=4.37717e-25): result may not be accurate.\n",
      "  return linalg.solve(A, Xy, assume_a=\"pos\", overwrite_a=True).T\n"
     ]
    },
    {
     "name": "stdout",
     "output_type": "stream",
     "text": [
      "Model Number: 1475 with model Ensemble in generation 7 of Ensembles\n",
      "Model Number: 1476 with model Ensemble in generation 7 of Ensembles\n"
     ]
    },
    {
     "name": "stderr",
     "output_type": "stream",
     "text": [
      "C:\\Users\\ekaushik\\AppData\\Local\\Packages\\PythonSoftwareFoundation.Python.3.8_qbz5n2kfra8p0\\LocalCache\\local-packages\\Python38\\site-packages\\sklearn\\linear_model\\_ridge.py:200: LinAlgWarning: Ill-conditioned matrix (rcond=4.37717e-25): result may not be accurate.\n",
      "  return linalg.solve(A, Xy, assume_a=\"pos\", overwrite_a=True).T\n"
     ]
    },
    {
     "name": "stdout",
     "output_type": "stream",
     "text": [
      "Model Number: 1477 with model Ensemble in generation 7 of Ensembles\n"
     ]
    },
    {
     "name": "stderr",
     "output_type": "stream",
     "text": [
      "C:\\Users\\ekaushik\\AppData\\Local\\Packages\\PythonSoftwareFoundation.Python.3.8_qbz5n2kfra8p0\\LocalCache\\local-packages\\Python38\\site-packages\\sklearn\\linear_model\\_ridge.py:200: LinAlgWarning: Ill-conditioned matrix (rcond=4.37717e-25): result may not be accurate.\n",
      "  return linalg.solve(A, Xy, assume_a=\"pos\", overwrite_a=True).T\n"
     ]
    },
    {
     "name": "stdout",
     "output_type": "stream",
     "text": [
      "Model Number: 1478 with model Ensemble in generation 7 of Ensembles\n"
     ]
    },
    {
     "name": "stderr",
     "output_type": "stream",
     "text": [
      "C:\\Users\\ekaushik\\AppData\\Local\\Packages\\PythonSoftwareFoundation.Python.3.8_qbz5n2kfra8p0\\LocalCache\\local-packages\\Python38\\site-packages\\sklearn\\linear_model\\_ridge.py:200: LinAlgWarning: Ill-conditioned matrix (rcond=4.37717e-25): result may not be accurate.\n",
      "  return linalg.solve(A, Xy, assume_a=\"pos\", overwrite_a=True).T\n"
     ]
    },
    {
     "name": "stdout",
     "output_type": "stream",
     "text": [
      "Model Number: 1479 with model Ensemble in generation 7 of Ensembles\n",
      "Model Number: 1480 with model Ensemble in generation 7 of Ensembles\n",
      "Model Number: 1481 with model Ensemble in generation 7 of Ensembles\n",
      "Model Number: 1482 with model Ensemble in generation 7 of Ensembles\n",
      "Validation Round: 1\n",
      "Model Number: 1 of 12 with model Ensemble for Validation 1\n",
      "📈 1 - Ensemble with avg smape 7.72: \n",
      "Model Number: 2 of 12 with model Ensemble for Validation 1\n",
      "2 - Ensemble with avg smape 8.13: \n",
      "Model Number: 3 of 12 with model Ensemble for Validation 1\n"
     ]
    },
    {
     "name": "stderr",
     "output_type": "stream",
     "text": [
      "C:\\Users\\ekaushik\\AppData\\Local\\Packages\\PythonSoftwareFoundation.Python.3.8_qbz5n2kfra8p0\\LocalCache\\local-packages\\Python38\\site-packages\\sklearn\\linear_model\\_ridge.py:200: LinAlgWarning: Ill-conditioned matrix (rcond=4.64113e-25): result may not be accurate.\n",
      "  return linalg.solve(A, Xy, assume_a=\"pos\", overwrite_a=True).T\n"
     ]
    },
    {
     "name": "stdout",
     "output_type": "stream",
     "text": [
      "📈 3 - Ensemble with avg smape 7.44: \n",
      "Model Number: 4 of 12 with model Ensemble for Validation 1\n"
     ]
    },
    {
     "name": "stderr",
     "output_type": "stream",
     "text": [
      "C:\\Users\\ekaushik\\AppData\\Local\\Packages\\PythonSoftwareFoundation.Python.3.8_qbz5n2kfra8p0\\LocalCache\\local-packages\\Python38\\site-packages\\sklearn\\linear_model\\_ridge.py:200: LinAlgWarning: Ill-conditioned matrix (rcond=4.64113e-25): result may not be accurate.\n",
      "  return linalg.solve(A, Xy, assume_a=\"pos\", overwrite_a=True).T\n"
     ]
    },
    {
     "name": "stdout",
     "output_type": "stream",
     "text": [
      "4 - Ensemble with avg smape 8.0: \n",
      "Model Number: 5 of 12 with model Ensemble for Validation 1\n",
      "5 - Ensemble with avg smape 7.96: \n",
      "Model Number: 6 of 12 with model Ensemble for Validation 1\n"
     ]
    },
    {
     "name": "stderr",
     "output_type": "stream",
     "text": [
      "C:\\Users\\ekaushik\\AppData\\Local\\Packages\\PythonSoftwareFoundation.Python.3.8_qbz5n2kfra8p0\\LocalCache\\local-packages\\Python38\\site-packages\\sklearn\\linear_model\\_ridge.py:200: LinAlgWarning: Ill-conditioned matrix (rcond=4.64113e-25): result may not be accurate.\n",
      "  return linalg.solve(A, Xy, assume_a=\"pos\", overwrite_a=True).T\n"
     ]
    },
    {
     "name": "stdout",
     "output_type": "stream",
     "text": [
      "6 - Ensemble with avg smape 7.9: \n",
      "Model Number: 7 of 12 with model Ensemble for Validation 1\n"
     ]
    },
    {
     "name": "stderr",
     "output_type": "stream",
     "text": [
      "C:\\Users\\ekaushik\\AppData\\Local\\Packages\\PythonSoftwareFoundation.Python.3.8_qbz5n2kfra8p0\\LocalCache\\local-packages\\Python38\\site-packages\\sklearn\\linear_model\\_ridge.py:200: LinAlgWarning: Ill-conditioned matrix (rcond=4.64113e-25): result may not be accurate.\n",
      "  return linalg.solve(A, Xy, assume_a=\"pos\", overwrite_a=True).T\n"
     ]
    },
    {
     "name": "stdout",
     "output_type": "stream",
     "text": [
      "📈 7 - Ensemble with avg smape 7.21: \n",
      "Model Number: 8 of 12 with model Ensemble for Validation 1\n"
     ]
    },
    {
     "name": "stderr",
     "output_type": "stream",
     "text": [
      "C:\\Users\\ekaushik\\AppData\\Local\\Packages\\PythonSoftwareFoundation.Python.3.8_qbz5n2kfra8p0\\LocalCache\\local-packages\\Python38\\site-packages\\sklearn\\linear_model\\_ridge.py:200: LinAlgWarning: Ill-conditioned matrix (rcond=4.64113e-25): result may not be accurate.\n",
      "  return linalg.solve(A, Xy, assume_a=\"pos\", overwrite_a=True).T\n"
     ]
    },
    {
     "name": "stdout",
     "output_type": "stream",
     "text": [
      "8 - Ensemble with avg smape 7.21: \n",
      "Model Number: 9 of 12 with model Ensemble for Validation 1\n",
      "9 - Ensemble with avg smape 7.97: \n",
      "Model Number: 10 of 12 with model Ensemble for Validation 1\n",
      "10 - Ensemble with avg smape 7.97: \n",
      "Model Number: 11 of 12 with model Ensemble for Validation 1\n",
      "11 - Ensemble with avg smape 7.78: \n",
      "Model Number: 12 of 12 with model Ensemble for Validation 1\n",
      "12 - Ensemble with avg smape 8.21: \n",
      "Validation Round: 2\n",
      "Model Number: 1 of 12 with model Ensemble for Validation 2\n",
      "📈 1 - Ensemble with avg smape 12.05: \n",
      "Model Number: 2 of 12 with model Ensemble for Validation 2\n",
      "2 - Ensemble with avg smape 12.14: \n",
      "Model Number: 3 of 12 with model Ensemble for Validation 2\n"
     ]
    },
    {
     "name": "stderr",
     "output_type": "stream",
     "text": [
      "C:\\Users\\ekaushik\\AppData\\Local\\Packages\\PythonSoftwareFoundation.Python.3.8_qbz5n2kfra8p0\\LocalCache\\local-packages\\Python38\\site-packages\\sklearn\\linear_model\\_ridge.py:200: LinAlgWarning: Ill-conditioned matrix (rcond=4.93879e-25): result may not be accurate.\n",
      "  return linalg.solve(A, Xy, assume_a=\"pos\", overwrite_a=True).T\n"
     ]
    },
    {
     "name": "stdout",
     "output_type": "stream",
     "text": [
      "3 - Ensemble with avg smape 13.87: \n",
      "Model Number: 4 of 12 with model Ensemble for Validation 2\n"
     ]
    },
    {
     "name": "stderr",
     "output_type": "stream",
     "text": [
      "C:\\Users\\ekaushik\\AppData\\Local\\Packages\\PythonSoftwareFoundation.Python.3.8_qbz5n2kfra8p0\\LocalCache\\local-packages\\Python38\\site-packages\\sklearn\\linear_model\\_ridge.py:200: LinAlgWarning: Ill-conditioned matrix (rcond=4.93879e-25): result may not be accurate.\n",
      "  return linalg.solve(A, Xy, assume_a=\"pos\", overwrite_a=True).T\n"
     ]
    },
    {
     "name": "stdout",
     "output_type": "stream",
     "text": [
      "4 - Ensemble with avg smape 13.9: \n",
      "Model Number: 5 of 12 with model Ensemble for Validation 2\n",
      "5 - Ensemble with avg smape 12.29: \n",
      "Model Number: 6 of 12 with model Ensemble for Validation 2\n"
     ]
    },
    {
     "name": "stderr",
     "output_type": "stream",
     "text": [
      "C:\\Users\\ekaushik\\AppData\\Local\\Packages\\PythonSoftwareFoundation.Python.3.8_qbz5n2kfra8p0\\LocalCache\\local-packages\\Python38\\site-packages\\sklearn\\linear_model\\_ridge.py:200: LinAlgWarning: Ill-conditioned matrix (rcond=4.93879e-25): result may not be accurate.\n",
      "  return linalg.solve(A, Xy, assume_a=\"pos\", overwrite_a=True).T\n"
     ]
    },
    {
     "name": "stdout",
     "output_type": "stream",
     "text": [
      "6 - Ensemble with avg smape 12.79: \n",
      "Model Number: 7 of 12 with model Ensemble for Validation 2\n"
     ]
    },
    {
     "name": "stderr",
     "output_type": "stream",
     "text": [
      "C:\\Users\\ekaushik\\AppData\\Local\\Packages\\PythonSoftwareFoundation.Python.3.8_qbz5n2kfra8p0\\LocalCache\\local-packages\\Python38\\site-packages\\sklearn\\linear_model\\_ridge.py:200: LinAlgWarning: Ill-conditioned matrix (rcond=4.93879e-25): result may not be accurate.\n",
      "  return linalg.solve(A, Xy, assume_a=\"pos\", overwrite_a=True).T\n"
     ]
    },
    {
     "name": "stdout",
     "output_type": "stream",
     "text": [
      "7 - Ensemble with avg smape 12.26: \n",
      "Model Number: 8 of 12 with model Ensemble for Validation 2\n"
     ]
    },
    {
     "name": "stderr",
     "output_type": "stream",
     "text": [
      "C:\\Users\\ekaushik\\AppData\\Local\\Packages\\PythonSoftwareFoundation.Python.3.8_qbz5n2kfra8p0\\LocalCache\\local-packages\\Python38\\site-packages\\sklearn\\linear_model\\_ridge.py:200: LinAlgWarning: Ill-conditioned matrix (rcond=4.93879e-25): result may not be accurate.\n",
      "  return linalg.solve(A, Xy, assume_a=\"pos\", overwrite_a=True).T\n"
     ]
    },
    {
     "name": "stdout",
     "output_type": "stream",
     "text": [
      "8 - Ensemble with avg smape 12.26: \n",
      "Model Number: 9 of 12 with model Ensemble for Validation 2\n",
      "9 - Ensemble with avg smape 12.28: \n",
      "Model Number: 10 of 12 with model Ensemble for Validation 2\n",
      "10 - Ensemble with avg smape 12.28: \n",
      "Model Number: 11 of 12 with model Ensemble for Validation 2\n",
      "11 - Ensemble with avg smape 13.24: \n",
      "Model Number: 12 of 12 with model Ensemble for Validation 2\n",
      "12 - Ensemble with avg smape 13.23: \n",
      "Validation Round: 3\n",
      "Model Number: 1 of 12 with model Ensemble for Validation 3\n",
      "📈 1 - Ensemble with avg smape 11.15: \n",
      "Model Number: 2 of 12 with model Ensemble for Validation 3\n",
      "2 - Ensemble with avg smape 11.64: \n",
      "Model Number: 3 of 12 with model Ensemble for Validation 3\n"
     ]
    },
    {
     "name": "stderr",
     "output_type": "stream",
     "text": [
      "C:\\Users\\ekaushik\\AppData\\Local\\Packages\\PythonSoftwareFoundation.Python.3.8_qbz5n2kfra8p0\\LocalCache\\local-packages\\Python38\\site-packages\\sklearn\\linear_model\\_ridge.py:200: LinAlgWarning: Ill-conditioned matrix (rcond=5.2773e-25): result may not be accurate.\n",
      "  return linalg.solve(A, Xy, assume_a=\"pos\", overwrite_a=True).T\n"
     ]
    },
    {
     "name": "stdout",
     "output_type": "stream",
     "text": [
      "📈 3 - Ensemble with avg smape 10.51: \n",
      "Model Number: 4 of 12 with model Ensemble for Validation 3\n"
     ]
    },
    {
     "name": "stderr",
     "output_type": "stream",
     "text": [
      "C:\\Users\\ekaushik\\AppData\\Local\\Packages\\PythonSoftwareFoundation.Python.3.8_qbz5n2kfra8p0\\LocalCache\\local-packages\\Python38\\site-packages\\sklearn\\linear_model\\_ridge.py:200: LinAlgWarning: Ill-conditioned matrix (rcond=5.2773e-25): result may not be accurate.\n",
      "  return linalg.solve(A, Xy, assume_a=\"pos\", overwrite_a=True).T\n"
     ]
    },
    {
     "name": "stdout",
     "output_type": "stream",
     "text": [
      "4 - Ensemble with avg smape 10.98: \n",
      "Model Number: 5 of 12 with model Ensemble for Validation 3\n",
      "5 - Ensemble with avg smape 11.12: \n",
      "Model Number: 6 of 12 with model Ensemble for Validation 3\n"
     ]
    },
    {
     "name": "stderr",
     "output_type": "stream",
     "text": [
      "C:\\Users\\ekaushik\\AppData\\Local\\Packages\\PythonSoftwareFoundation.Python.3.8_qbz5n2kfra8p0\\LocalCache\\local-packages\\Python38\\site-packages\\sklearn\\linear_model\\_ridge.py:200: LinAlgWarning: Ill-conditioned matrix (rcond=5.2773e-25): result may not be accurate.\n",
      "  return linalg.solve(A, Xy, assume_a=\"pos\", overwrite_a=True).T\n"
     ]
    },
    {
     "name": "stdout",
     "output_type": "stream",
     "text": [
      "6 - Ensemble with avg smape 10.83: \n",
      "Model Number: 7 of 12 with model Ensemble for Validation 3\n"
     ]
    },
    {
     "name": "stderr",
     "output_type": "stream",
     "text": [
      "C:\\Users\\ekaushik\\AppData\\Local\\Packages\\PythonSoftwareFoundation.Python.3.8_qbz5n2kfra8p0\\LocalCache\\local-packages\\Python38\\site-packages\\sklearn\\linear_model\\_ridge.py:200: LinAlgWarning: Ill-conditioned matrix (rcond=5.2773e-25): result may not be accurate.\n",
      "  return linalg.solve(A, Xy, assume_a=\"pos\", overwrite_a=True).T\n"
     ]
    },
    {
     "name": "stdout",
     "output_type": "stream",
     "text": [
      "7 - Ensemble with avg smape 10.71: \n",
      "Model Number: 8 of 12 with model Ensemble for Validation 3\n"
     ]
    },
    {
     "name": "stderr",
     "output_type": "stream",
     "text": [
      "C:\\Users\\ekaushik\\AppData\\Local\\Packages\\PythonSoftwareFoundation.Python.3.8_qbz5n2kfra8p0\\LocalCache\\local-packages\\Python38\\site-packages\\sklearn\\linear_model\\_ridge.py:200: LinAlgWarning: Ill-conditioned matrix (rcond=5.2773e-25): result may not be accurate.\n",
      "  return linalg.solve(A, Xy, assume_a=\"pos\", overwrite_a=True).T\n"
     ]
    },
    {
     "name": "stdout",
     "output_type": "stream",
     "text": [
      "8 - Ensemble with avg smape 10.71: \n",
      "Model Number: 9 of 12 with model Ensemble for Validation 3\n",
      "9 - Ensemble with avg smape 11.15: \n",
      "Model Number: 10 of 12 with model Ensemble for Validation 3\n",
      "10 - Ensemble with avg smape 11.15: \n",
      "Model Number: 11 of 12 with model Ensemble for Validation 3\n",
      "11 - Ensemble with avg smape 12.11: \n",
      "Model Number: 12 of 12 with model Ensemble for Validation 3\n",
      "12 - Ensemble with avg smape 11.91: \n",
      "Validation Round: 4\n",
      "Model Number: 1 of 12 with model Ensemble for Validation 4\n",
      "📈 1 - Ensemble with avg smape 7.55: \n",
      "Model Number: 2 of 12 with model Ensemble for Validation 4\n",
      "📈 2 - Ensemble with avg smape 7.37: \n",
      "Model Number: 3 of 12 with model Ensemble for Validation 4\n"
     ]
    },
    {
     "name": "stderr",
     "output_type": "stream",
     "text": [
      "C:\\Users\\ekaushik\\AppData\\Local\\Packages\\PythonSoftwareFoundation.Python.3.8_qbz5n2kfra8p0\\LocalCache\\local-packages\\Python38\\site-packages\\sklearn\\linear_model\\_ridge.py:200: LinAlgWarning: Ill-conditioned matrix (rcond=5.66561e-25): result may not be accurate.\n",
      "  return linalg.solve(A, Xy, assume_a=\"pos\", overwrite_a=True).T\n"
     ]
    },
    {
     "name": "stdout",
     "output_type": "stream",
     "text": [
      "📈 3 - Ensemble with avg smape 6.53: \n",
      "Model Number: 4 of 12 with model Ensemble for Validation 4\n"
     ]
    },
    {
     "name": "stderr",
     "output_type": "stream",
     "text": [
      "C:\\Users\\ekaushik\\AppData\\Local\\Packages\\PythonSoftwareFoundation.Python.3.8_qbz5n2kfra8p0\\LocalCache\\local-packages\\Python38\\site-packages\\sklearn\\linear_model\\_ridge.py:200: LinAlgWarning: Ill-conditioned matrix (rcond=5.66561e-25): result may not be accurate.\n",
      "  return linalg.solve(A, Xy, assume_a=\"pos\", overwrite_a=True).T\n"
     ]
    },
    {
     "name": "stdout",
     "output_type": "stream",
     "text": [
      "4 - Ensemble with avg smape 6.79: \n",
      "Model Number: 5 of 12 with model Ensemble for Validation 4\n",
      "5 - Ensemble with avg smape 7.56: \n",
      "Model Number: 6 of 12 with model Ensemble for Validation 4\n"
     ]
    },
    {
     "name": "stderr",
     "output_type": "stream",
     "text": [
      "C:\\Users\\ekaushik\\AppData\\Local\\Packages\\PythonSoftwareFoundation.Python.3.8_qbz5n2kfra8p0\\LocalCache\\local-packages\\Python38\\site-packages\\sklearn\\linear_model\\_ridge.py:200: LinAlgWarning: Ill-conditioned matrix (rcond=5.66561e-25): result may not be accurate.\n",
      "  return linalg.solve(A, Xy, assume_a=\"pos\", overwrite_a=True).T\n"
     ]
    },
    {
     "name": "stdout",
     "output_type": "stream",
     "text": [
      "6 - Ensemble with avg smape 7.34: \n",
      "Model Number: 7 of 12 with model Ensemble for Validation 4\n"
     ]
    },
    {
     "name": "stderr",
     "output_type": "stream",
     "text": [
      "C:\\Users\\ekaushik\\AppData\\Local\\Packages\\PythonSoftwareFoundation.Python.3.8_qbz5n2kfra8p0\\LocalCache\\local-packages\\Python38\\site-packages\\sklearn\\linear_model\\_ridge.py:200: LinAlgWarning: Ill-conditioned matrix (rcond=5.66561e-25): result may not be accurate.\n",
      "  return linalg.solve(A, Xy, assume_a=\"pos\", overwrite_a=True).T\n"
     ]
    },
    {
     "name": "stdout",
     "output_type": "stream",
     "text": [
      "📈 7 - Ensemble with avg smape 6.27: \n",
      "Model Number: 8 of 12 with model Ensemble for Validation 4\n"
     ]
    },
    {
     "name": "stderr",
     "output_type": "stream",
     "text": [
      "C:\\Users\\ekaushik\\AppData\\Local\\Packages\\PythonSoftwareFoundation.Python.3.8_qbz5n2kfra8p0\\LocalCache\\local-packages\\Python38\\site-packages\\sklearn\\linear_model\\_ridge.py:200: LinAlgWarning: Ill-conditioned matrix (rcond=5.66561e-25): result may not be accurate.\n",
      "  return linalg.solve(A, Xy, assume_a=\"pos\", overwrite_a=True).T\n"
     ]
    },
    {
     "name": "stdout",
     "output_type": "stream",
     "text": [
      "8 - Ensemble with avg smape 6.27: \n",
      "Model Number: 9 of 12 with model Ensemble for Validation 4\n",
      "9 - Ensemble with avg smape 7.55: \n",
      "Model Number: 10 of 12 with model Ensemble for Validation 4\n",
      "10 - Ensemble with avg smape 7.55: \n",
      "Model Number: 11 of 12 with model Ensemble for Validation 4\n",
      "11 - Ensemble with avg smape 10.67: \n",
      "Model Number: 12 of 12 with model Ensemble for Validation 4\n",
      "12 - Ensemble with avg smape 7.8: \n",
      "Model Number: 1 with model Ensemble in generation 0 of Horizontal Ensembles\n"
     ]
    },
    {
     "name": "stderr",
     "output_type": "stream",
     "text": [
      "C:\\Users\\ekaushik\\AppData\\Local\\Packages\\PythonSoftwareFoundation.Python.3.8_qbz5n2kfra8p0\\LocalCache\\local-packages\\Python38\\site-packages\\sklearn\\linear_model\\_ridge.py:200: LinAlgWarning: Ill-conditioned matrix (rcond=4.37717e-25): result may not be accurate.\n",
      "  return linalg.solve(A, Xy, assume_a=\"pos\", overwrite_a=True).T\n"
     ]
    },
    {
     "name": "stdout",
     "output_type": "stream",
     "text": [
      "Model Number: 2 with model Ensemble in generation 0 of Horizontal Ensembles\n"
     ]
    },
    {
     "name": "stderr",
     "output_type": "stream",
     "text": [
      "C:\\Users\\ekaushik\\AppData\\Local\\Packages\\PythonSoftwareFoundation.Python.3.8_qbz5n2kfra8p0\\LocalCache\\local-packages\\Python38\\site-packages\\sklearn\\linear_model\\_ridge.py:200: LinAlgWarning: Ill-conditioned matrix (rcond=4.37717e-25): result may not be accurate.\n",
      "  return linalg.solve(A, Xy, assume_a=\"pos\", overwrite_a=True).T\n",
      "C:\\Users\\ekaushik\\AppData\\Local\\Packages\\PythonSoftwareFoundation.Python.3.8_qbz5n2kfra8p0\\LocalCache\\local-packages\\Python38\\site-packages\\sklearn\\linear_model\\_ridge.py:200: LinAlgWarning: Ill-conditioned matrix (rcond=4.14169e-25): result may not be accurate.\n",
      "  return linalg.solve(A, Xy, assume_a=\"pos\", overwrite_a=True).T\n"
     ]
    },
    {
     "name": "stdout",
     "output_type": "stream",
     "text": [
      "Forecast Values:\n",
      "                      A            B            C            D            E\n",
      "2023-05-12  2993.019000  1329.054986  3238.240000  1610.235000  3577.789613\n",
      "2023-05-19  2999.006734  1321.223757  3309.690840  1587.054949  3585.569714\n",
      "2023-05-26  3004.994467  1332.239308  3241.969129  1623.270899  3594.717355\n",
      "2023-06-02  3010.982201  1353.413451  3174.326191  1595.414348  3593.700116\n",
      "2023-06-09  3016.969934  1331.440517  3177.357807  1603.294297  3611.660343\n",
      "2023-06-16  3022.957668  1332.492248  3105.467211  1624.019246  3623.642398\n",
      "2023-06-23  3028.945401  1336.906581  3092.134305  1622.533696  3621.214857\n",
      "2023-06-30  3034.933135  1344.228063  3086.714007  1628.102145  3628.562804\n",
      "2023-07-07  3040.920868  1368.136532  2750.290094  1604.922094  3636.660935\n",
      "2023-07-14  3046.908602  1357.957771  2733.784216  1641.138044  3647.931679\n",
      "2023-07-21  3052.896336  1375.421969  2717.429097  1613.281493  3648.972888\n",
      "2023-07-28  3058.884069  1429.686766  2701.261764  1621.161442  3651.136708\n",
      "2023-08-04  3064.871803  1437.086969  2685.312412  1641.886392  3662.584842\n",
      "2023-08-11  3070.859536  1445.118269  2669.604988  1640.400841  3669.766979\n",
      "2023-08-18  3076.847270  1450.759895  2654.157946  1645.969290  3676.581649\n"
     ]
    },
    {
     "ename": "AttributeError",
     "evalue": "'PredictionObject' object has no attribute 'rmse'",
     "output_type": "error",
     "traceback": [
      "\u001b[1;31m---------------------------------------------------------------------------\u001b[0m",
      "\u001b[1;31mAttributeError\u001b[0m                            Traceback (most recent call last)",
      "\u001b[1;32mUntitled-1.ipynb Cell 4\u001b[0m line \u001b[0;36m1\n\u001b[0;32m     <a href='vscode-notebook-cell:Untitled-1.ipynb?jupyter-notebook#W3sdW50aXRsZWQ%3D?line=11'>12</a>\u001b[0m \u001b[39mprint\u001b[39m(prediction\u001b[39m.\u001b[39mforecast)\n\u001b[0;32m     <a href='vscode-notebook-cell:Untitled-1.ipynb?jupyter-notebook#W3sdW50aXRsZWQ%3D?line=13'>14</a>\u001b[0m \u001b[39m# Print RMSE (Root Mean Squared Error)\u001b[39;00m\n\u001b[1;32m---> <a href='vscode-notebook-cell:Untitled-1.ipynb?jupyter-notebook#W3sdW50aXRsZWQ%3D?line=14'>15</a>\u001b[0m \u001b[39mprint\u001b[39m(\u001b[39m\"\u001b[39m\u001b[39m\\n\u001b[39;00m\u001b[39mRMSE:\u001b[39m\u001b[39m\"\u001b[39m, prediction\u001b[39m.\u001b[39;49mrmse)\n",
      "\u001b[1;31mAttributeError\u001b[0m: 'PredictionObject' object has no attribute 'rmse'"
     ]
    }
   ],
   "source": [
    "model = model.fit(\n",
    "    df_all[df_all.Date < dt],\n",
    "    date_col='Date' if long else None,\n",
    "    value_col='Value' if long else None,\n",
    "    id_col='Category' if long else None,\n",
    ")\n",
    "\n",
    "prediction = model.predict()\n",
    "\n",
    "# Print the forecast values\n",
    "print(\"Forecast Values:\")\n",
    "print(prediction.forecast)\n"
   ]
  },
  {
   "cell_type": "code",
   "execution_count": 7,
   "metadata": {},
   "outputs": [
    {
     "name": "stdout",
     "output_type": "stream",
     "text": [
      "'2023-08-25'\n",
      "'2023-08-25'\n",
      "'2023-08-25'\n",
      "'2023-08-25'\n",
      "'2023-08-25'\n"
     ]
    },
    {
     "data": {
      "image/png": "[encoded data removed]",
      "text/plain": [
       "<Figure size 1200x300 with 1 Axes>"
      ]
     },
     "metadata": {},
     "output_type": "display_data"
    },
    {
     "data": {
      "image/png": "[encoded data removed]",
      "text/plain": [
       "<Figure size 1200x300 with 1 Axes>"
      ]
     },
     "metadata": {},
     "output_type": "display_data"
    },
    {
     "data": {
      "image/png": "[encoded data removed]",
      "text/plain": [
       "<Figure size 1200x300 with 1 Axes>"
      ]
     },
     "metadata": {},
     "output_type": "display_data"
    },
    {
     "data": {
      "image/png": "[encoded data removed]",
      "text/plain": [
       "<Figure size 1200x300 with 1 Axes>"
      ]
     },
     "metadata": {},
     "output_type": "display_data"
    },
    {
     "data": {
      "image/png": "[encoded data removed]",
      "text/plain": [
       "<Figure size 1200x300 with 1 Axes>"
      ]
     },
     "metadata": {},
     "output_type": "display_data"
    }
   ],
   "source": [
    "def getfcast_value(cat, d):\n",
    "    try:\n",
    "        ret_val = round(prediction.forecast.loc[d.strftime(\"%Y-%m-%d\")][cat], 3)\n",
    "        return ret_val\n",
    "    except Exception as e:\n",
    "        print(e)\n",
    "        return np.NaN\n",
    "\n",
    "df_all['f1'] = df_all.apply(lambda x: getfcast_value(x['Category'], x['Date']) if x['Date'] >= dt else np.NaN, axis=1)\n",
    "\n",
    "for cat in df_all.Category.unique():\n",
    "    df_all[(df_all.Category == cat) & (df_all.Date > '2022-01-01')].set_index('Date').drop('Category', axis=1).plot(\n",
    "        title=\"Category : \" + cat, figsize=(12, 3))"
   ]
  }
 ],
 "metadata": {
  "kernelspec": {
   "display_name": "Python 3",
   "language": "python",
   "name": "python3"
  },
  "language_info": {
   "codemirror_mode": {
    "name": "ipython",
    "version": 3
   },
   "file_extension": ".py",
   "mimetype": "text/x-python",
   "name": "python",
   "nbconvert_exporter": "python",
   "pygments_lexer": "ipython3",
   "version": "3.8.10"
  }
 },
 "nbformat": 4,
 "nbformat_minor": 2
}
